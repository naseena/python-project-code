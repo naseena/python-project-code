{
 "cells": [
  {
   "cell_type": "code",
   "execution_count": null,
   "id": "7dcfeb56",
   "metadata": {},
   "outputs": [],
   "source": [
    " \"father\": \"sulemaan\",\n",
    "  \"mother\": \"raziya\",\n",
    "  \"husband\": \"zubair\",\n",
    "  \"sister1\": \"tabassum\",\n",
    "  \"sister2\": \"irfana\",\n",
    "  \"brother\": \"sufiiyan\",\n",
    "  \"son\": \"zain\",\n",
    "  \"daughter\": \"aatika\",\n",
    "  \"brotherinlaw\": \"zameer\",\n",
    "  \"sisterinlaw\": \"zaheer\""
   ]
  },
  {
   "cell_type": "code",
   "execution_count": null,
   "id": "bdec5689",
   "metadata": {},
   "outputs": [],
   "source": []
  },
  {
   "cell_type": "code",
   "execution_count": null,
   "id": "174207d9",
   "metadata": {},
   "outputs": [],
   "source": [
    " \"father\": \"sulemaan\",\n",
    "  \"mother\": \"raziya\",\n",
    "  \"husband\": \"zubair\",\n",
    "  \"sister1\": \"tabassum\",\n",
    "  \"sister2\": \"irfana\",\n",
    "  \"brother\": \"sufiiyan\",\n",
    "  \"son\": \"zain\",\n",
    "  \"daughter\": \"aatika\",\n",
    "  \"brotherinlaw\": \"zameer\",\n",
    "  \"sisterinlaw\": \"zaheer\"\n",
    "\n",
    "family={\"favpersons\":[\"sulemaan\",\"raziya\",\"zubair\",\"zain\",\"aatika\"],\"relation\":[\"father\",\"mother\",\"husband\",\"son\",\"daughter\"]}\n",
    "family1={\"unfavpersons\":[\"tabassum\",\"irfana\",\"sufiiyan\",\"zameer\",\"zaheer\"],\"relation1\":[\"sister1\",\"sister2\",\"brother\",\"broyherinlaw\",\"sisterinlaw\"]}\n",
    "\n",
    "event={ \"father\": \"sulemaan\",\n",
    "  \"mother\": \"raziya\",\n",
    "  \"husband\": \"zubair\",\n",
    "  \"sister1\": \"tabassum\",\n",
    "  \"sister2\": \"irfana\",\n",
    "  \"brother\": \"sufiiyan\",\n",
    "  \"son\": \"zain\",\n",
    "  \"daughter\": \"aatika\",\n",
    "  \"brotherinlaw\": \"zameer\",\n",
    "  \"sisterinlaw\": \"zaheer\"}\n",
    "\n",
    "\n",
    "event\n",
    "\n",
    "for z in event:\n",
    "    print(z)\n",
    "    print(event[z])\n",
    "\n",
    "for z in event:\n",
    "    print(z)\n",
    "\n",
    "favourite1=[]\n",
    "unfavourite1=[]\n",
    "for z in event:\n",
    "    if event[z]==\"sulemaan\" or event[z]==\"raziya\" or event[z]==\"zubair\" or event[z]==\"zain\" or event[z]==\"aatika\":\n",
    "        favourite1.append(event[z])\n",
    "    elif event[z]==\"tabassum\" or event[z]==\"irfana\" or event[z]==\"sufiiyan\" or event[z]==\"zameer\" or event[z]==\"zaheer\":\n",
    "        unfavourite1.append(event[z])\n",
    "favourite1\n",
    "\n",
    "for z in event:\n",
    "    if event[z]==\"sulemaan\" or event[z]==\"raziya\" or event[z]==\"zubair\" or event[z]==\"zain\" or event[z]==\"aatika\":\n",
    "        favourite1.append(event[z])\n",
    "    elif event[z]==\"tabassum\" or event[z]==\"irfana\" or event[z]==\"sufiiyan\" or event[z]==\"zameer\" or event[z]==\"zaheer\":\n",
    "        unfavourite1.append(event[z])"
   ]
  }
 ],
 "metadata": {
  "kernelspec": {
   "display_name": "Python 3 (ipykernel)",
   "language": "python",
   "name": "python3"
  },
  "language_info": {
   "codemirror_mode": {
    "name": "ipython",
    "version": 3
   },
   "file_extension": ".py",
   "mimetype": "text/x-python",
   "name": "python",
   "nbconvert_exporter": "python",
   "pygments_lexer": "ipython3",
   "version": "3.10.9"
  }
 },
 "nbformat": 4,
 "nbformat_minor": 5
}
