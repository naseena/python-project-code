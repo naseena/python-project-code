{
 "cells": [
  {
   "cell_type": "code",
   "execution_count": null,
   "id": "104fef13",
   "metadata": {},
   "outputs": [],
   "source": [
    "tollywood_heros=[\"chiru\", \"balaya\", \"nag\",\"venky\",\"powerstar\",\"superstar\",\"ntr\",\"ramcharan\"]\n",
    "\n",
    "#tollywood_heros[0:1]=[\"chiranjeevi\",\"balakrishan\"]\n",
    "\n",
    "tollywood_heros\n",
    "\n",
    "dict={\"tollywood_heros\":[\"chiru\", \"balaya\", \"nag\",\"venky\",\"powerstar\",\"superstar\",\"ntr\",\"ramcharan\"]}\n",
    "\n",
    "dict.keys()\n",
    "\n",
    "dict[\"tollywood_heros\"][0:7]=[\"chiranjeevi\", \"balakrishan\", \"nagarjuna\",\"venky\",\"pawan kalyan\",\"maheshbabu\",\"NT rama rao\",\"ramcharan\"]\n",
    "\n",
    "dict\n",
    "\n",
    "bollywood_heros={\"sharukkhan\", \"salmankhan\", \"salmankhan\",\"amirkhan\",\"HrithikRoshan\",\"Amitabh Bachchan\",\"Akshay Kumar\",\"amirkhan\"}\n",
    "\n",
    "bollywood_heros\n",
    "\n",
    "seq_set=set(bollywood_heros)\n",
    "\n",
    "seq_set\n",
    "\n",
    "breakfast_items=[\"upma\",\"dosa\",\"idly\",\"puri\",\"punugulu\",\"roti\",\"chapathi\", \"parota\",\"mysoor baji\",\"minapa baji\"]\n",
    "\n",
    "print(\"My Favorite breakfast item is\",breakfast_items[-2])\n",
    "\n",
    "dict={\"Family_Names\":[\"Zah\",\"Zak\",\"Rok\",\"Afzal\",\"Zub\",\"Nas\",\"Zam\",\"Shah\",\"Zain\"],\"Relation\":[\"Dad\",\"Mom\",\"Sis\",\" Bro In Law\",\"Myself\",\"Wife\",\"Younger Bro\",\"Sis In Law\",\"Son\"]}\n",
    "\n",
    "\n",
    "print(\"my favourite family member is\",dict[\"Relation\"][0], \",he is\",dict[\"Family_Names\"][0],)\n",
    "\n",
    "dict={\"Veg_Items\":[\"Rice\",\"Veg Biryani\",\"Paneer Curry\",\"Chapati\",\"Kaju Rice\",\"Veg Noodles\"],\"Ratings\":[6,1,4,5,2,3]}\n",
    "\n",
    "print(dict)\n",
    "\n",
    "dict1={\"Non_Veg\":[\"Chicken\",\"Motton\",\"Chicken Biryani\",\"Mandi\",\"tahari\"],\"ratings\":[1,2,3,4,5]}\n",
    "\n",
    "print(dict1)\n",
    "\n",
    "print(dict)\n",
    "print(dict1)\n",
    "\n",
    "favourite_destinations={\"destinations\":[\"HYD\",\"Sec\",\"Blore\",\"MTM\",\"BZA\",\"VSKP\",\"Pune\",\"GGN\",\"Noida\",\"Chennai\"], \"Ratings\":[10,5,6,9,7,8,4,2,3,1]}\n",
    "\n",
    "print(favourite_destinations[\"destinations\"][-2])\n",
    "\n",
    "favourite_destinations\n",
    "\n",
    "\n",
    "\n"
   ]
  }
 ],
 "metadata": {
  "kernelspec": {
   "display_name": "Python 3 (ipykernel)",
   "language": "python",
   "name": "python3"
  },
  "language_info": {
   "codemirror_mode": {
    "name": "ipython",
    "version": 3
   },
   "file_extension": ".py",
   "mimetype": "text/x-python",
   "name": "python",
   "nbconvert_exporter": "python",
   "pygments_lexer": "ipython3",
   "version": "3.10.9"
  }
 },
 "nbformat": 4,
 "nbformat_minor": 5
}
