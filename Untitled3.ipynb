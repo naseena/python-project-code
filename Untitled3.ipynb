{
 "cells": [
  {
   "cell_type": "code",
   "execution_count": 1,
   "id": "1db80a57",
   "metadata": {},
   "outputs": [],
   "source": [
    "family={ \"father\": \"sulemaan\",\n",
    "  \"mother\": \"raziya\",\n",
    "  \"husband\": \"zubair\",\n",
    "  \"sister1\": \"tabassum\",\n",
    "  \"sister2\": \"irfana\",\n",
    "  \"brother\": \"sufiiyan\",\n",
    "  \"son\": \"zain\",\n",
    "  \"daughter\": \"aatika\",\n",
    "  \"brotherinlaw\": \"zameer\",\n",
    "  \"sisterinlaw\": \"zaheer\"}"
   ]
  },
  {
   "cell_type": "code",
   "execution_count": 3,
   "id": "acc3a8f2",
   "metadata": {},
   "outputs": [
    {
     "data": {
      "text/plain": [
       "'zain'"
      ]
     },
     "execution_count": 3,
     "metadata": {},
     "output_type": "execute_result"
    }
   ],
   "source": [
    "family[\"son\"]"
   ]
  },
  {
   "cell_type": "code",
   "execution_count": 5,
   "id": "8812e5cd",
   "metadata": {},
   "outputs": [
    {
     "data": {
      "text/plain": [
       "('zain', 'zubair')"
      ]
     },
     "execution_count": 5,
     "metadata": {},
     "output_type": "execute_result"
    }
   ],
   "source": [
    "family[\"son\"],family[\"husband\"]"
   ]
  },
  {
   "cell_type": "code",
   "execution_count": 6,
   "id": "5dfda3ee",
   "metadata": {},
   "outputs": [
    {
     "name": "stdout",
     "output_type": "stream",
     "text": [
      "zain zubair\n"
     ]
    }
   ],
   "source": [
    "print(family[\"son\"],family[\"husband\"])"
   ]
  },
  {
   "cell_type": "code",
   "execution_count": 9,
   "id": "a2382536",
   "metadata": {},
   "outputs": [
    {
     "name": "stdout",
     "output_type": "stream",
     "text": [
      "father\n",
      "mother\n",
      "husband\n",
      "sister1\n",
      "sister2\n",
      "brother\n",
      "son\n",
      "daughter\n",
      "brotherinlaw\n",
      "sisterinlaw\n"
     ]
    }
   ],
   "source": [
    "for z in family:\n",
    "    print(z)\n",
    "if[z]==\"tabassum\"or [z]==\"zain\":\n",
    "    print(z)\n",
    "    \n"
   ]
  },
  {
   "cell_type": "code",
   "execution_count": 14,
   "id": "f012c39e",
   "metadata": {},
   "outputs": [
    {
     "name": "stdout",
     "output_type": "stream",
     "text": [
      "----key father\n",
      "----------key value sulemaan\n",
      "----key mother\n",
      "----------key value raziya\n",
      "----key husband\n",
      "----------key value zubair\n",
      "----key sister1\n",
      "----------key value tabassum\n",
      "tabassum\n",
      "----key sister2\n",
      "----------key value irfana\n",
      "----key brother\n",
      "----------key value sufiiyan\n",
      "----key son\n",
      "----------key value zain\n",
      "zain\n",
      "----key daughter\n",
      "----------key value aatika\n",
      "----key brotherinlaw\n",
      "----------key value zameer\n",
      "----key sisterinlaw\n",
      "----------key value zaheer\n"
     ]
    }
   ],
   "source": [
    "for i in family:\n",
    "    print(\"----key\",i)\n",
    "    print(\"----------key value\",family[i])\n",
    "    if family[i]==\"tabassum\" or family[i]==\"zain\":\n",
    "        print(family[i])\n",
    "\n",
    "\n",
    "\n",
    "\n",
    "\n"
   ]
  },
  {
   "cell_type": "code",
   "execution_count": 15,
   "id": "da3fa5f8",
   "metadata": {},
   "outputs": [],
   "source": [
    "fooditems={\"fav1\":\"chicken biryani\",\n",
    "          \"fav2\":\"mutton biryani\",\n",
    "          \"fav3\":\"chicken fry\",\n",
    "          \"fav4\":\"chicken65\",\n",
    "          \"fav5\":\"mutton fry\",\n",
    "          \"fav6\":\"mutton curry\",\n",
    "          \"fav7\":\"egg curry\",\n",
    "          \"fav8\":\"fish fry\",\n",
    "          \"fav9\":\"fish curry\",\n",
    "          \"fav10\":\"mutton khorma\"}"
   ]
  },
  {
   "cell_type": "code",
   "execution_count": 18,
   "id": "e8875eb4",
   "metadata": {},
   "outputs": [
    {
     "name": "stdout",
     "output_type": "stream",
     "text": [
      "fav1\n",
      "chicken biryani\n",
      "fav2\n",
      "mutton biryani\n",
      "fav3\n",
      "chicken fry\n",
      "chicken fry\n",
      "fav4\n",
      "chicken65\n",
      "fav5\n",
      "mutton fry\n",
      "fav6\n",
      "mutton curry\n",
      "fav7\n",
      "egg curry\n",
      "fav8\n",
      "fish fry\n",
      "fish fry\n",
      "fav9\n",
      "fish curry\n",
      "fav10\n",
      "mutton khorma\n"
     ]
    }
   ],
   "source": [
    "for i in fooditems:\n",
    "    print(i)\n",
    "    print(fooditems[i])\n",
    "    if fooditems[i]==\"chicken fry\" or fooditems[i]==\"fish fry\":\n",
    "        print(fooditems[i])"
   ]
  },
  {
   "cell_type": "code",
   "execution_count": null,
   "id": "959becc6",
   "metadata": {},
   "outputs": [],
   "source": [
    "name:zubair\n",
    "a\\c no:888676448112\n",
    "deposit:200000"
   ]
  },
  {
   "cell_type": "code",
   "execution_count": 3,
   "id": "abad41a5",
   "metadata": {},
   "outputs": [],
   "source": [
    "previous_balance=100000\n",
    "event={\"name\":\"zain\",\"a\\c no\":7799813858800,\"deposit_amount\":20000,\"location\":\"non metro\"}\n",
    "def bank_balance(event):\n",
    "    if event[\"location\"]==\"metro\":\n",
    "        if event[\"name\"]==\"zubair\"and event [\"a\\c no\"]==888676448112:\n",
    "            balance=previous_balance+event[\"deposit_amount\"]+event[\"deposit_amount\"]*.05\n",
    "    elif event[\"location\"]==\"non metro\":\n",
    "        if event[\"name\"]==\"zubair\"and event [\"a\\c no\"]==888676448112:\n",
    "            balance=previous_balance+event[\"deposit_amount\"]-event[\"deposit_amount\"]*.05\n",
    "    if event[\"location\"]==\"metro\":\n",
    "        if event[\"name\"]==\"zain\"and event [\"a\\c no\"]==7799813858800:\n",
    "            balance=previous_balance+event[\"deposit_amount\"]+event[\"deposit_amount\"]*.05\n",
    "    elif event[\"location\"]==\"non metro\":\n",
    "         if event[\"name\"]==\"zain\"and event [\"a\\c no\"]==7799813858800:\n",
    "            balance=previous_balance+event[\"deposit_amount\"]-event[\"deposit_amount\"]*.05\n",
    "    if event[\"location\"]==\"metro\":\n",
    "        if event[\"name\"]==\"aatika\"and event [\"a\\c no\"]==6305421966600:\n",
    "            balance=previous_balance+event[\"deposit_amount\"]+event[\"deposit_amount\"]*.05\n",
    "    elif event[\"location\"]==\"non metro\":\n",
    "         if event[\"name\"]==\"aatika\"and event [\"a\\c no\"]==6305421966600:\n",
    "            balance=previous_balance+event[\"deposit_amount\"]-event[\"deposit_amount\"]*.05\n",
    "    if event[\"location\"]==\"metro\":\n",
    "        if event[\"name\"]==\"ayaaz\"and event [\"a\\c no\"]==9491053870022:\n",
    "            balance=previous_balance+event[\"deposit_amount\"]+event[\"deposit_amount\"]*.05\n",
    "    elif event[\"location\"]==\"non metro\":\n",
    "        if event[\"name\"]==\"ayaaz\"and event [\"a\\c no\"]==9491053870022:\n",
    "             balance=previous_balance+event[\"deposit_amount\"]+event[\"deposit_amount\"]*.05\n",
    "    return balance\n",
    "\n",
    "\n"
   ]
  },
  {
   "cell_type": "code",
   "execution_count": 22,
   "id": "03fe26fe",
   "metadata": {},
   "outputs": [
    {
     "data": {
      "text/plain": [
       "310000.0"
      ]
     },
     "execution_count": 22,
     "metadata": {},
     "output_type": "execute_result"
    }
   ],
   "source": [
    " bank_balance(event)"
   ]
  },
  {
   "cell_type": "code",
   "execution_count": 24,
   "id": "699660e6",
   "metadata": {},
   "outputs": [
    {
     "data": {
      "text/plain": [
       "290000.0"
      ]
     },
     "execution_count": 24,
     "metadata": {},
     "output_type": "execute_result"
    }
   ],
   "source": [
    "bank_balance(event)"
   ]
  },
  {
   "cell_type": "code",
   "execution_count": 28,
   "id": "d0fb2e52",
   "metadata": {},
   "outputs": [
    {
     "data": {
      "text/plain": [
       "79000.0"
      ]
     },
     "execution_count": 28,
     "metadata": {},
     "output_type": "execute_result"
    }
   ],
   "source": [
    "bank_balance(event)"
   ]
  },
  {
   "cell_type": "code",
   "execution_count": null,
   "id": "af5c9ad4",
   "metadata": {},
   "outputs": [],
   "source": [
    "event=[event[\"location\"],event[\"name\"],event[\"a\\c no\"],event[\"deposit amount\"]]"
   ]
  },
  {
   "cell_type": "code",
   "execution_count": 30,
   "id": "8d6e4036",
   "metadata": {},
   "outputs": [
    {
     "data": {
      "text/plain": [
       "121000.0"
      ]
     },
     "execution_count": 30,
     "metadata": {},
     "output_type": "execute_result"
    }
   ],
   "source": [
    "bank_balance(event)"
   ]
  },
  {
   "cell_type": "code",
   "execution_count": 4,
   "id": "d65c1ecf",
   "metadata": {},
   "outputs": [
    {
     "data": {
      "text/plain": [
       "119000.0"
      ]
     },
     "execution_count": 4,
     "metadata": {},
     "output_type": "execute_result"
    }
   ],
   "source": [
    "bank_balance(event)"
   ]
  },
  {
   "cell_type": "code",
   "execution_count": null,
   "id": "5a0f0d08",
   "metadata": {},
   "outputs": [],
   "source": [
    "name:\"zubair\"\n",
    "accountnumber:888676448112\n",
    "\"amount\":20000\n",
    "\"credit_type\":\"credit\"or\"debit\"\n",
    "\"loan\"s:1000(-)\n",
    "\"loan\"n:1000(+)\n",
    "\"location\":\"metro\":add 2000\n",
    "\"location\":\"nonmetro\":(-)2000\n",
    "\"age\":>25:18000add\n",
    "\"age\":<25:0 add\n",
    "\"employment_type\"=\"salaried\"add 0 or \"indivisual\" add 1000 or \"business\"add 500\n"
   ]
  },
  {
   "cell_type": "code",
   "execution_count": 3,
   "id": "15134aac",
   "metadata": {},
   "outputs": [
    {
     "data": {
      "text/plain": [
       "96000"
      ]
     },
     "execution_count": 3,
     "metadata": {},
     "output_type": "execute_result"
    }
   ],
   "source": [
    "    bank_balance=50000\n",
    "    event={\"name\":\"zubair\",\"amount\":30000,\"credit_type\":\"credit\",\"loan_type\":\"loan_yes\",\"location\":\"non_metro\",\"age\":27,\"employment_type\":\"indivisual\"}\n",
    "    def details(event):\n",
    "        if event[\"name\"]==\"zubair\":\n",
    "            if event[\"credit_type\"]==\"credit\":\n",
    "                balance=bank_balance+event[\"amount\"]\n",
    "                if event[\"loan_type\"]==\"loan_yes\":\n",
    "                    balance=balance-1000\n",
    "                    if event[\"location\"]==\"metro\":\n",
    "                        balance=balance+2000\n",
    "                        if event[\"age\"]>25:\n",
    "                            balance=balance+18000\n",
    "                            if event[\"employment_type\"]==\"salaried\":\n",
    "                                balance=balance+0\n",
    "                            elif event[\"employment_type\"]==\"indivisual\":\n",
    "                                balance=balance+1000\n",
    "                            elif event[\"employment_type\"]==\"business\":\n",
    "                                balance=balance+500\n",
    "                        elif event[\"age\"]<=25:\n",
    "                            balance=balance+18000\n",
    "                            if event[\"employment_type\"]==\"salaried\":\n",
    "                                balance=balance+0\n",
    "                            elif event[\"employment_type\"]==\"indivisual\":\n",
    "                                balance=balance+1000\n",
    "                            elif event[\"employment_type\"]==\"business\": \n",
    "                                balance=balance+500\n",
    "                    elif event[\"location\"]==\"non_metro\":\n",
    "                        balance=balance-2000\n",
    "                        if event[\"age\"]>25:\n",
    "                            balance=balance+18000\n",
    "                            if event[\"employment_type\"]==\"salaried\":\n",
    "                                balance=balance+0\n",
    "                            elif event[\"employment_type\"]==\"indivisual\":\n",
    "                                balance=balance+1000\n",
    "                            elif event[\"employment_type\"]==\"business\":\n",
    "                                balance=balance+500\n",
    "                        elif event[\"age\"]<=25:\n",
    "                            balance=balance+18000\n",
    "                            if event[\"employment_type\"]==\"salaried\":\n",
    "                                balance=balance+0\n",
    "                            elif event[\"employment_type\"]==\"indivisual\":\n",
    "                                balance=balance+1000\n",
    "                            elif event[\"employment_type\"]==\"business\":\n",
    "                                balance=balance+500\n",
    "\n",
    "            elif event[\"credit_type\"]==\"debit\":\n",
    "                balance=bank_balance-event[\"amount\"]\n",
    "                if event[\"loan_type\"]==\"loan_no\":\n",
    "                    balance=balance+1000\n",
    "                    if event[\"location\"]==\"metro\":\n",
    "                        balance=balance+2000\n",
    "                        if event[\"age\"]>25:\n",
    "                            balance=balance+18000\n",
    "                            if event[\"employment_type\"]==\"salaried\":\n",
    "                                balance=balance+0\n",
    "                            elif event[\"employment_type\"]==\"indivisual\":\n",
    "                                balance=balance+1000\n",
    "                            elif event[\"employment_type\"]==\"business\":\n",
    "                                balance=balance+500\n",
    "                        elif event[\"age\"]<=25:\n",
    "                            balance=balance+18000\n",
    "                            if event[\"employment_type\"]==\"salaried\":\n",
    "                                balance=balance+0\n",
    "                            elif event[\"employment_type\"]==\"indivisual\":\n",
    "                                balance=balance+1000\n",
    "                            elif event[\"employment_type\"]==\"business\":\n",
    "                                balance=balance+500\n",
    "                    elif event[\"location\"]==\"non_metro\":\n",
    "                        balance=balance-2000\n",
    "                        if event[\"age\"]>25:\n",
    "                            balance=balance+18000\n",
    "                            if event[\"employment_type\"]==\"salaried\":\n",
    "                                balance=balance+0\n",
    "                            elif event[\"employment_type\"]==\"indivisual\":\n",
    "                                balance=balance+1000\n",
    "                            elif event[\"employment_type\"]==\"business\":\n",
    "                                balance=balance+500\n",
    "                        elif event[\"age\"]<=25:\n",
    "                            balance=balance+18000\n",
    "                            if event[\"employment_type\"]==\"salaried\":\n",
    "                                balance=balance+0\n",
    "                            elif event[\"employment_type\"]==\"indivisual\":\n",
    "                                balance=balance+1000\n",
    "                            elif event[\"employment_type\"]==\"business\":\n",
    "                                balance=balance+500\n",
    "\n",
    "        return balance\n",
    "    details(event)\n",
    "\n",
    "\n",
    "\n",
    "\n",
    "\n",
    "\n",
    "\n",
    "\n",
    "\n",
    "\n",
    "\n",
    "\n"
   ]
  },
  {
   "cell_type": "code",
   "execution_count": 8,
   "id": "0c458292",
   "metadata": {},
   "outputs": [
    {
     "data": {
      "text/plain": [
       "50000"
      ]
     },
     "execution_count": 8,
     "metadata": {},
     "output_type": "execute_result"
    }
   ],
   "source": [
    "details(event)"
   ]
  },
  {
   "cell_type": "code",
   "execution_count": null,
   "id": "2fe51234",
   "metadata": {},
   "outputs": [],
   "source": []
  },
  {
   "cell_type": "code",
   "execution_count": null,
   "id": "e89c3651",
   "metadata": {},
   "outputs": [],
   "source": []
  },
  {
   "cell_type": "code",
   "execution_count": null,
   "id": "fb298e03",
   "metadata": {},
   "outputs": [],
   "source": []
  }
 ],
 "metadata": {
  "kernelspec": {
   "display_name": "Python 3 (ipykernel)",
   "language": "python",
   "name": "python3"
  },
  "language_info": {
   "codemirror_mode": {
    "name": "ipython",
    "version": 3
   },
   "file_extension": ".py",
   "mimetype": "text/x-python",
   "name": "python",
   "nbconvert_exporter": "python",
   "pygments_lexer": "ipython3",
   "version": "3.10.9"
  }
 },
 "nbformat": 4,
 "nbformat_minor": 5
}
