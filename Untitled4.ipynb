{
 "cells": [
  {
   "cell_type": "code",
   "execution_count": null,
   "id": "3f0aba95",
   "metadata": {},
   "outputs": [],
   "source": [
    "name:nasheenafashions\n",
    "typeofwear:ethnicwear\n",
    "typeof dress:kurta_pyjma,salwar_suit,saree\n",
    "typeof cloth:cotton,silk\n",
    "    "
   ]
  },
  {
   "cell_type": "code",
   "execution_count": 29,
   "id": "cd527c87",
   "metadata": {},
   "outputs": [
    {
     "data": {
      "text/plain": [
       "{'type_of_wear': 'indowestern',\n",
       " 'type_of_dress': 'dhoti_kurta',\n",
       " 'type_of_cloth': 'chiffon',\n",
       " 'price': 850}"
      ]
     },
     "execution_count": 29,
     "metadata": {},
     "output_type": "execute_result"
    }
   ],
   "source": [
    "nasheena_fashions(event)"
   ]
  },
  {
   "cell_type": "code",
   "execution_count": 30,
   "id": "33d458ae",
   "metadata": {},
   "outputs": [],
   "source": [
    "event={\"type_of_wear\":\"indowestern\",\"type_of_dress\":\"dhoti_kurta\",\"type_of_cloth\":\"chiffon\"}\n",
    "def nasheena_fashions(event):\n",
    "    if event[\"type_of_wear\"]==\"ethnicwear\":\n",
    "        if event[\"type_of_dress\"]==\"kurta_pyjma\":\n",
    "            if event[\"type_of_cloth\"]==\"cotton\":\n",
    "                price=1000\n",
    "            elif event[\"type_of_cloth\"]==\"silk\":\n",
    "                price=1500\n",
    "            elif event[\"type_of_cloth\"]==\"chiffon\":\n",
    "                price=2000\n",
    "            else:\n",
    "                price=(\"unavailable\")\n",
    "                \n",
    "        elif event[\"type_of_dress\"]==\"salwar_suit\":\n",
    "            if event[\"type_of_cloth\"]==\"poly_cotton\":\n",
    "                price=2500\n",
    "            elif event[\"type_of_cloth\"]==\"silk\":\n",
    "                price=3000\n",
    "            elif event[\"type_of_cloth\"]==\"chiffon\":\n",
    "                price=3500\n",
    "            else:\n",
    "                price=(\"unavailable\")\n",
    "                \n",
    "        elif event[\"type_of_dress\"]==\"saree\":\n",
    "            if event[\"type_of_cloth\"]==\"georgtte\":\n",
    "                price=4000\n",
    "            elif event[\"type_of_cloth\"]==\"silk\":\n",
    "                price=4500\n",
    "            elif event[\"type_of_cloth\"]==\"chiffon\":\n",
    "                price=500\n",
    "            else:\n",
    "                price=(\"unavailable\")\n",
    "        else:\n",
    "            price=(\"unavailable\")\n",
    "            \n",
    "            \n",
    "    elif event[\"type_of_wear\"]==\"westernwear\":\n",
    "        if event[\"type_of_dress\"]==\"cocktail\":\n",
    "            if event[\"type_of_cloth\"]==\"reyon\":\n",
    "                price=5000\n",
    "            elif event[\"type_of_cloth\"]==\"silk\":\n",
    "                price=1600\n",
    "            elif event[\"type_of_cloth\"]==\"chiffon\":\n",
    "                price=1800\n",
    "            else:\n",
    "                price=(\"unavailable\")\n",
    "                \n",
    "        elif event[\"type_of_dress\"]==\"halter_neck\":\n",
    "            if event[\"type_of_cloth\"]==\"chiffon\":\n",
    "                price=4600\n",
    "            elif event[\"type_of_cloth\"]==\"silk\":\n",
    "                price=1900\n",
    "            elif event[\"type_of_cloth\"]==\"chiffon\":\n",
    "                price=2100\n",
    "            else:\n",
    "                price=(\"unavailable\")\n",
    "                \n",
    "        elif event[\"type_of_dress\"]==\"maxi\":\n",
    "            if event[\"type_of_cloth\"]==\"velvet\":\n",
    "                price=6500\n",
    "            elif event[\"type_of_cloth\"]==\"silk\":\n",
    "                price=700\n",
    "            elif event[\"type_of_cloth\"]==\"chiffon\":\n",
    "                price=800\n",
    "            else:\n",
    "                price=(\"unavailable\")\n",
    "        else:\n",
    "            price=(\"unavailable\")\n",
    "            \n",
    "    elif  event[\"type_of_wear\"]==\"indowestern\":\n",
    "        if event[\"type_of_dress\"]==\"jump_suit\":\n",
    "            if event[\"type_of_cloth\"]==\"crepe\":\n",
    "                price=3100\n",
    "            elif event[\"type_of_cloth\"]==\"silk\":\n",
    "                price=1200\n",
    "            elif event[\"type_of_cloth\"]==\"chiffon\":\n",
    "                price=2300\n",
    "            else:\n",
    "                price=(\"unavailable\")\n",
    "                \n",
    "        elif event[\"type_of_dress\"]==\"tshirt_jeans\":\n",
    "            if event[\"type_of_cloth\"]==\"flannel\":\n",
    "                price=7000\n",
    "            elif event[\"type_of_cloth\"]==\"silk\":\n",
    "                price=3800\n",
    "            elif event[\"type_of_cloth\"]==\"chiffon\":\n",
    "                price=2200\n",
    "            else:\n",
    "                price=(\"unavailable\")\n",
    "                \n",
    "        elif event[\"type_of_dress\"]==\"dhoti_kurta\":\n",
    "            if event[\"type_of_cloth\"]==\"muslin\":\n",
    "                price=4200\n",
    "            elif event[\"type_of_cloth\"]==\"silk\":\n",
    "                price=2600\n",
    "            elif event[\"type_of_cloth\"]==\"chiffon\":\n",
    "                price=850\n",
    "            else:\n",
    "                price=(\"unavailable\")\n",
    "        else:\n",
    "            price=(\"unavailable\")\n",
    "\n",
    "    \n",
    "                \n",
    "    return  { \"type_of_wear\": event[\"type_of_wear\"],\"type_of_dress\": event[\"type_of_dress\"],\"type_of_cloth\":event[\"type_of_cloth\"],\n",
    "            \"price\": price}"
   ]
  },
  {
   "cell_type": "code",
   "execution_count": 31,
   "id": "226c01f6",
   "metadata": {},
   "outputs": [
    {
     "data": {
      "text/plain": [
       "{'type_of_wear': 'indowestern',\n",
       " 'type_of_dress': 'dhoti_kurta',\n",
       " 'type_of_cloth': 'chiffon',\n",
       " 'price': 850}"
      ]
     },
     "execution_count": 31,
     "metadata": {},
     "output_type": "execute_result"
    }
   ],
   "source": [
    "nasheena_fashions(event)"
   ]
  }
 ],
 "metadata": {
  "kernelspec": {
   "display_name": "Python 3 (ipykernel)",
   "language": "python",
   "name": "python3"
  },
  "language_info": {
   "codemirror_mode": {
    "name": "ipython",
    "version": 3
   },
   "file_extension": ".py",
   "mimetype": "text/x-python",
   "name": "python",
   "nbconvert_exporter": "python",
   "pygments_lexer": "ipython3",
   "version": "3.10.9"
  }
 },
 "nbformat": 4,
 "nbformat_minor": 5
}
