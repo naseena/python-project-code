{
 "cells": [
  {
   "cell_type": "code",
   "execution_count": 5,
   "id": "c9ab7d4c",
   "metadata": {},
   "outputs": [],
   "source": [
    "dictt={\"familymembers\":[\"sul\",\"raz\",\"zub\",\"zain\",\"tab\",\"irf\",\"suf\",\"zam\",\"zah\",\"tam\"],\"relation\":[\"dad\",\"mom\",\"hub\",\"son\",\"sis1\",\"sis2\",\"bro\",\"bro1\",\"inlaw\",\"daughter\"]}"
   ]
  },
  {
   "cell_type": "code",
   "execution_count": 2,
   "id": "8602cebc",
   "metadata": {},
   "outputs": [
    {
     "data": {
      "text/plain": [
       "{'familymembers': ['sul',\n",
       "  'raz',\n",
       "  'zub',\n",
       "  'zain',\n",
       "  'tab',\n",
       "  'irf',\n",
       "  'suf',\n",
       "  'zam',\n",
       "  'zah',\n",
       "  'tam'],\n",
       " 'relation': ['dad',\n",
       "  'mom',\n",
       "  'hub',\n",
       "  'son',\n",
       "  'sis1',\n",
       "  'sis2',\n",
       "  'bro',\n",
       "  'bro1',\n",
       "  'inlaw',\n",
       "  'daughter']}"
      ]
     },
     "execution_count": 2,
     "metadata": {},
     "output_type": "execute_result"
    }
   ],
   "source": [
    "dictt"
   ]
  },
  {
   "cell_type": "code",
   "execution_count": 8,
   "id": "32268adf",
   "metadata": {},
   "outputs": [
    {
     "data": {
      "text/plain": [
       "['sul', 'raz', 'zub', 'zain', 'tab', 'irf', 'suf', 'zam', 'zah', 'tam']"
      ]
     },
     "execution_count": 8,
     "metadata": {},
     "output_type": "execute_result"
    }
   ],
   "source": [
    "dictt[\"familymembers\"]"
   ]
  },
  {
   "cell_type": "code",
   "execution_count": 10,
   "id": "a2acc1ee",
   "metadata": {},
   "outputs": [
    {
     "data": {
      "text/plain": [
       "['zah', 'tam']"
      ]
     },
     "execution_count": 10,
     "metadata": {},
     "output_type": "execute_result"
    }
   ],
   "source": [
    "dictt[\"familymembers\"][8:10]"
   ]
  },
  {
   "cell_type": "code",
   "execution_count": 11,
   "id": "2fc13361",
   "metadata": {},
   "outputs": [
    {
     "data": {
      "text/plain": [
       "['dad',\n",
       " 'mom',\n",
       " 'hub',\n",
       " 'son',\n",
       " 'sis1',\n",
       " 'sis2',\n",
       " 'bro',\n",
       " 'bro1',\n",
       " 'inlaw',\n",
       " 'daughter']"
      ]
     },
     "execution_count": 11,
     "metadata": {},
     "output_type": "execute_result"
    }
   ],
   "source": [
    "dictt[\"relation\"]"
   ]
  },
  {
   "cell_type": "code",
   "execution_count": 12,
   "id": "2fe93f8d",
   "metadata": {},
   "outputs": [
    {
     "data": {
      "text/plain": [
       "['dad', 'mom', 'hub', 'son', 'sis1', 'sis2', 'bro', 'bro1', 'inlaw']"
      ]
     },
     "execution_count": 12,
     "metadata": {},
     "output_type": "execute_result"
    }
   ],
   "source": [
    "dictt[\"relation\"][:9]"
   ]
  },
  {
   "cell_type": "code",
   "execution_count": 13,
   "id": "17e48010",
   "metadata": {},
   "outputs": [
    {
     "data": {
      "text/plain": [
       "['zam', 'zah', 'tam']"
      ]
     },
     "execution_count": 13,
     "metadata": {},
     "output_type": "execute_result"
    }
   ],
   "source": [
    "dictt[\"familymembers\"][-3:]"
   ]
  },
  {
   "cell_type": "code",
   "execution_count": 14,
   "id": "028be44c",
   "metadata": {},
   "outputs": [
    {
     "data": {
      "text/plain": [
       "['sul', 'raz', 'zub', 'zain', 'tab']"
      ]
     },
     "execution_count": 14,
     "metadata": {},
     "output_type": "execute_result"
    }
   ],
   "source": [
    "dictt[\"familymembers\"][:-5]"
   ]
  },
  {
   "cell_type": "code",
   "execution_count": 15,
   "id": "a82cd098",
   "metadata": {},
   "outputs": [
    {
     "data": {
      "text/plain": [
       "['sul', 'raz', 'zub', 'zain', 'tab']"
      ]
     },
     "execution_count": 15,
     "metadata": {},
     "output_type": "execute_result"
    }
   ],
   "source": [
    "dictt[\"familymembers\"][0:-5]"
   ]
  },
  {
   "cell_type": "code",
   "execution_count": 16,
   "id": "78c9836a",
   "metadata": {},
   "outputs": [
    {
     "data": {
      "text/plain": [
       "('irf', 'sis2')"
      ]
     },
     "execution_count": 16,
     "metadata": {},
     "output_type": "execute_result"
    }
   ],
   "source": [
    "dictt[\"familymembers\"][5],dictt[\"relation\"][5]"
   ]
  },
  {
   "cell_type": "code",
   "execution_count": 17,
   "id": "da88c247",
   "metadata": {},
   "outputs": [
    {
     "name": "stdout",
     "output_type": "stream",
     "text": [
      "irf sis2\n"
     ]
    }
   ],
   "source": [
    "print(dictt[\"familymembers\"][5],dictt[\"relation\"][5])"
   ]
  },
  {
   "cell_type": "code",
   "execution_count": 20,
   "id": "f0dd3c6e",
   "metadata": {},
   "outputs": [
    {
     "name": "stdout",
     "output_type": "stream",
     "text": [
      "irf sis2\n"
     ]
    }
   ],
   "source": [
    "print(dictt[\"familymembers\"][5],dictt[\"relation\"][5])"
   ]
  },
  {
   "cell_type": "code",
   "execution_count": 26,
   "id": "2b537c83",
   "metadata": {},
   "outputs": [
    {
     "name": "stdout",
     "output_type": "stream",
     "text": [
      "tab\n",
      "zub\n",
      "zain\n",
      "zam\n",
      "tam\n"
     ]
    }
   ],
   "source": [
    "lst=[\"tab\",\"zub\",\"zain\",\"zam\",\"tam\"]\n",
    "\n",
    "for p in lst:\n",
    "    print (p)\n",
    "\n",
    "\n",
    "\n"
   ]
  },
  {
   "cell_type": "code",
   "execution_count": 27,
   "id": "ef5d3879",
   "metadata": {},
   "outputs": [
    {
     "name": "stdout",
     "output_type": "stream",
     "text": [
      "familymembers\n",
      "relation\n"
     ]
    }
   ],
   "source": [
    "for z in dictt:\n",
    "    print(z)"
   ]
  },
  {
   "cell_type": "code",
   "execution_count": 28,
   "id": "330c65ae",
   "metadata": {},
   "outputs": [],
   "source": [
    "import pandas as pd"
   ]
  },
  {
   "cell_type": "code",
   "execution_count": 30,
   "id": "594287f8",
   "metadata": {},
   "outputs": [],
   "source": [
    "df=pd.DataFrame(dictt)"
   ]
  },
  {
   "cell_type": "code",
   "execution_count": 31,
   "id": "343f2539",
   "metadata": {},
   "outputs": [
    {
     "data": {
      "text/html": [
       "<div>\n",
       "<style scoped>\n",
       "    .dataframe tbody tr th:only-of-type {\n",
       "        vertical-align: middle;\n",
       "    }\n",
       "\n",
       "    .dataframe tbody tr th {\n",
       "        vertical-align: top;\n",
       "    }\n",
       "\n",
       "    .dataframe thead th {\n",
       "        text-align: right;\n",
       "    }\n",
       "</style>\n",
       "<table border=\"1\" class=\"dataframe\">\n",
       "  <thead>\n",
       "    <tr style=\"text-align: right;\">\n",
       "      <th></th>\n",
       "      <th>familymembers</th>\n",
       "      <th>relation</th>\n",
       "    </tr>\n",
       "  </thead>\n",
       "  <tbody>\n",
       "    <tr>\n",
       "      <th>0</th>\n",
       "      <td>sul</td>\n",
       "      <td>dad</td>\n",
       "    </tr>\n",
       "    <tr>\n",
       "      <th>1</th>\n",
       "      <td>raz</td>\n",
       "      <td>mom</td>\n",
       "    </tr>\n",
       "    <tr>\n",
       "      <th>2</th>\n",
       "      <td>zub</td>\n",
       "      <td>hub</td>\n",
       "    </tr>\n",
       "    <tr>\n",
       "      <th>3</th>\n",
       "      <td>zain</td>\n",
       "      <td>son</td>\n",
       "    </tr>\n",
       "    <tr>\n",
       "      <th>4</th>\n",
       "      <td>tab</td>\n",
       "      <td>sis1</td>\n",
       "    </tr>\n",
       "    <tr>\n",
       "      <th>5</th>\n",
       "      <td>irf</td>\n",
       "      <td>sis2</td>\n",
       "    </tr>\n",
       "    <tr>\n",
       "      <th>6</th>\n",
       "      <td>suf</td>\n",
       "      <td>bro</td>\n",
       "    </tr>\n",
       "    <tr>\n",
       "      <th>7</th>\n",
       "      <td>zam</td>\n",
       "      <td>bro1</td>\n",
       "    </tr>\n",
       "    <tr>\n",
       "      <th>8</th>\n",
       "      <td>zah</td>\n",
       "      <td>inlaw</td>\n",
       "    </tr>\n",
       "    <tr>\n",
       "      <th>9</th>\n",
       "      <td>tam</td>\n",
       "      <td>daughter</td>\n",
       "    </tr>\n",
       "  </tbody>\n",
       "</table>\n",
       "</div>"
      ],
      "text/plain": [
       "  familymembers  relation\n",
       "0           sul       dad\n",
       "1           raz       mom\n",
       "2           zub       hub\n",
       "3          zain       son\n",
       "4           tab      sis1\n",
       "5           irf      sis2\n",
       "6           suf       bro\n",
       "7           zam      bro1\n",
       "8           zah     inlaw\n",
       "9           tam  daughter"
      ]
     },
     "execution_count": 31,
     "metadata": {},
     "output_type": "execute_result"
    }
   ],
   "source": [
    "df"
   ]
  },
  {
   "cell_type": "code",
   "execution_count": 36,
   "id": "11c6d730",
   "metadata": {},
   "outputs": [
    {
     "data": {
      "text/html": [
       "<div>\n",
       "<style scoped>\n",
       "    .dataframe tbody tr th:only-of-type {\n",
       "        vertical-align: middle;\n",
       "    }\n",
       "\n",
       "    .dataframe tbody tr th {\n",
       "        vertical-align: top;\n",
       "    }\n",
       "\n",
       "    .dataframe thead th {\n",
       "        text-align: right;\n",
       "    }\n",
       "</style>\n",
       "<table border=\"1\" class=\"dataframe\">\n",
       "  <thead>\n",
       "    <tr style=\"text-align: right;\">\n",
       "      <th></th>\n",
       "      <th>familymembers</th>\n",
       "      <th>relation</th>\n",
       "    </tr>\n",
       "  </thead>\n",
       "  <tbody>\n",
       "    <tr>\n",
       "      <th>6</th>\n",
       "      <td>suf</td>\n",
       "      <td>bro</td>\n",
       "    </tr>\n",
       "    <tr>\n",
       "      <th>7</th>\n",
       "      <td>zam</td>\n",
       "      <td>bro1</td>\n",
       "    </tr>\n",
       "  </tbody>\n",
       "</table>\n",
       "</div>"
      ],
      "text/plain": [
       "  familymembers relation\n",
       "6           suf      bro\n",
       "7           zam     bro1"
      ]
     },
     "execution_count": 36,
     "metadata": {},
     "output_type": "execute_result"
    }
   ],
   "source": [
    "df[(df['relation']=='bro') | (df['familymembers']=='zam')] "
   ]
  },
  {
   "cell_type": "code",
   "execution_count": 2,
   "id": "a8162aee",
   "metadata": {},
   "outputs": [],
   "source": [
    "boys={\"boysfriendnames\":[\"santosh\",\"dinesh\",\"anwar\",\"khaja\",\"imran\"],\"quality\":[\"intelligent\",\"silent\",\"talktive\",\"funny\",\"smart\"]}\n",
    "\n",
    "girls={\"girsfriendnames\":[\"jaisree\",\"shabana\",\"parveen\",\"anusha\",\"afzal\"],\"quality\":[\"smart\",\"cool\",\"writer\",\"teacher\",\"fool\"],\"city\":[\"pamaru\",\"nidumolu\",\"pathanpeta\",\"guduru\",\"akulamannad\"]}"
   ]
  },
  {
   "cell_type": "code",
   "execution_count": 3,
   "id": "671653a8",
   "metadata": {},
   "outputs": [],
   "source": [
    "import pandas as pd\n",
    "\n",
    "df=pd.DataFrame(boys)\n",
    "\n",
    "df1=pd.DataFrame(girls)"
   ]
  },
  {
   "cell_type": "code",
   "execution_count": 4,
   "id": "f0fb4fe7",
   "metadata": {},
   "outputs": [
    {
     "data": {
      "text/html": [
       "<div>\n",
       "<style scoped>\n",
       "    .dataframe tbody tr th:only-of-type {\n",
       "        vertical-align: middle;\n",
       "    }\n",
       "\n",
       "    .dataframe tbody tr th {\n",
       "        vertical-align: top;\n",
       "    }\n",
       "\n",
       "    .dataframe thead th {\n",
       "        text-align: right;\n",
       "    }\n",
       "</style>\n",
       "<table border=\"1\" class=\"dataframe\">\n",
       "  <thead>\n",
       "    <tr style=\"text-align: right;\">\n",
       "      <th></th>\n",
       "      <th>boysfriendnames</th>\n",
       "      <th>quality</th>\n",
       "    </tr>\n",
       "  </thead>\n",
       "  <tbody>\n",
       "    <tr>\n",
       "      <th>0</th>\n",
       "      <td>santosh</td>\n",
       "      <td>intelligent</td>\n",
       "    </tr>\n",
       "    <tr>\n",
       "      <th>1</th>\n",
       "      <td>dinesh</td>\n",
       "      <td>silent</td>\n",
       "    </tr>\n",
       "    <tr>\n",
       "      <th>2</th>\n",
       "      <td>anwar</td>\n",
       "      <td>talktive</td>\n",
       "    </tr>\n",
       "    <tr>\n",
       "      <th>3</th>\n",
       "      <td>khaja</td>\n",
       "      <td>funny</td>\n",
       "    </tr>\n",
       "    <tr>\n",
       "      <th>4</th>\n",
       "      <td>imran</td>\n",
       "      <td>smart</td>\n",
       "    </tr>\n",
       "  </tbody>\n",
       "</table>\n",
       "</div>"
      ],
      "text/plain": [
       "  boysfriendnames      quality\n",
       "0         santosh  intelligent\n",
       "1          dinesh       silent\n",
       "2           anwar     talktive\n",
       "3           khaja        funny\n",
       "4           imran        smart"
      ]
     },
     "execution_count": 4,
     "metadata": {},
     "output_type": "execute_result"
    }
   ],
   "source": [
    "df"
   ]
  },
  {
   "cell_type": "code",
   "execution_count": 5,
   "id": "c9ce3977",
   "metadata": {},
   "outputs": [
    {
     "data": {
      "text/html": [
       "<div>\n",
       "<style scoped>\n",
       "    .dataframe tbody tr th:only-of-type {\n",
       "        vertical-align: middle;\n",
       "    }\n",
       "\n",
       "    .dataframe tbody tr th {\n",
       "        vertical-align: top;\n",
       "    }\n",
       "\n",
       "    .dataframe thead th {\n",
       "        text-align: right;\n",
       "    }\n",
       "</style>\n",
       "<table border=\"1\" class=\"dataframe\">\n",
       "  <thead>\n",
       "    <tr style=\"text-align: right;\">\n",
       "      <th></th>\n",
       "      <th>girsfriendnames</th>\n",
       "      <th>quality</th>\n",
       "      <th>city</th>\n",
       "    </tr>\n",
       "  </thead>\n",
       "  <tbody>\n",
       "    <tr>\n",
       "      <th>0</th>\n",
       "      <td>jaisree</td>\n",
       "      <td>smart</td>\n",
       "      <td>pamaru</td>\n",
       "    </tr>\n",
       "    <tr>\n",
       "      <th>1</th>\n",
       "      <td>shabana</td>\n",
       "      <td>cool</td>\n",
       "      <td>nidumolu</td>\n",
       "    </tr>\n",
       "    <tr>\n",
       "      <th>2</th>\n",
       "      <td>parveen</td>\n",
       "      <td>writer</td>\n",
       "      <td>pathanpeta</td>\n",
       "    </tr>\n",
       "    <tr>\n",
       "      <th>3</th>\n",
       "      <td>anusha</td>\n",
       "      <td>teacher</td>\n",
       "      <td>guduru</td>\n",
       "    </tr>\n",
       "    <tr>\n",
       "      <th>4</th>\n",
       "      <td>afzal</td>\n",
       "      <td>fool</td>\n",
       "      <td>akulamannad</td>\n",
       "    </tr>\n",
       "  </tbody>\n",
       "</table>\n",
       "</div>"
      ],
      "text/plain": [
       "  girsfriendnames  quality         city\n",
       "0         jaisree    smart       pamaru\n",
       "1         shabana     cool     nidumolu\n",
       "2         parveen   writer   pathanpeta\n",
       "3          anusha  teacher       guduru\n",
       "4           afzal     fool  akulamannad"
      ]
     },
     "execution_count": 5,
     "metadata": {},
     "output_type": "execute_result"
    }
   ],
   "source": [
    "df1"
   ]
  },
  {
   "cell_type": "code",
   "execution_count": 6,
   "id": "06fbdde3",
   "metadata": {},
   "outputs": [],
   "source": [
    "import pandas as pd"
   ]
  },
  {
   "cell_type": "code",
   "execution_count": 7,
   "id": "c18d86eb",
   "metadata": {},
   "outputs": [],
   "source": [
    "df_append=pd.concat([df,df1],axis=0)"
   ]
  },
  {
   "cell_type": "code",
   "execution_count": 8,
   "id": "be4a1c33",
   "metadata": {},
   "outputs": [
    {
     "data": {
      "text/html": [
       "<div>\n",
       "<style scoped>\n",
       "    .dataframe tbody tr th:only-of-type {\n",
       "        vertical-align: middle;\n",
       "    }\n",
       "\n",
       "    .dataframe tbody tr th {\n",
       "        vertical-align: top;\n",
       "    }\n",
       "\n",
       "    .dataframe thead th {\n",
       "        text-align: right;\n",
       "    }\n",
       "</style>\n",
       "<table border=\"1\" class=\"dataframe\">\n",
       "  <thead>\n",
       "    <tr style=\"text-align: right;\">\n",
       "      <th></th>\n",
       "      <th>boysfriendnames</th>\n",
       "      <th>quality</th>\n",
       "      <th>girsfriendnames</th>\n",
       "      <th>city</th>\n",
       "    </tr>\n",
       "  </thead>\n",
       "  <tbody>\n",
       "    <tr>\n",
       "      <th>0</th>\n",
       "      <td>santosh</td>\n",
       "      <td>intelligent</td>\n",
       "      <td>NaN</td>\n",
       "      <td>NaN</td>\n",
       "    </tr>\n",
       "    <tr>\n",
       "      <th>1</th>\n",
       "      <td>dinesh</td>\n",
       "      <td>silent</td>\n",
       "      <td>NaN</td>\n",
       "      <td>NaN</td>\n",
       "    </tr>\n",
       "    <tr>\n",
       "      <th>2</th>\n",
       "      <td>anwar</td>\n",
       "      <td>talktive</td>\n",
       "      <td>NaN</td>\n",
       "      <td>NaN</td>\n",
       "    </tr>\n",
       "    <tr>\n",
       "      <th>3</th>\n",
       "      <td>khaja</td>\n",
       "      <td>funny</td>\n",
       "      <td>NaN</td>\n",
       "      <td>NaN</td>\n",
       "    </tr>\n",
       "    <tr>\n",
       "      <th>4</th>\n",
       "      <td>imran</td>\n",
       "      <td>smart</td>\n",
       "      <td>NaN</td>\n",
       "      <td>NaN</td>\n",
       "    </tr>\n",
       "    <tr>\n",
       "      <th>0</th>\n",
       "      <td>NaN</td>\n",
       "      <td>smart</td>\n",
       "      <td>jaisree</td>\n",
       "      <td>pamaru</td>\n",
       "    </tr>\n",
       "    <tr>\n",
       "      <th>1</th>\n",
       "      <td>NaN</td>\n",
       "      <td>cool</td>\n",
       "      <td>shabana</td>\n",
       "      <td>nidumolu</td>\n",
       "    </tr>\n",
       "    <tr>\n",
       "      <th>2</th>\n",
       "      <td>NaN</td>\n",
       "      <td>writer</td>\n",
       "      <td>parveen</td>\n",
       "      <td>pathanpeta</td>\n",
       "    </tr>\n",
       "    <tr>\n",
       "      <th>3</th>\n",
       "      <td>NaN</td>\n",
       "      <td>teacher</td>\n",
       "      <td>anusha</td>\n",
       "      <td>guduru</td>\n",
       "    </tr>\n",
       "    <tr>\n",
       "      <th>4</th>\n",
       "      <td>NaN</td>\n",
       "      <td>fool</td>\n",
       "      <td>afzal</td>\n",
       "      <td>akulamannad</td>\n",
       "    </tr>\n",
       "  </tbody>\n",
       "</table>\n",
       "</div>"
      ],
      "text/plain": [
       "  boysfriendnames      quality girsfriendnames         city\n",
       "0         santosh  intelligent             NaN          NaN\n",
       "1          dinesh       silent             NaN          NaN\n",
       "2           anwar     talktive             NaN          NaN\n",
       "3           khaja        funny             NaN          NaN\n",
       "4           imran        smart             NaN          NaN\n",
       "0             NaN        smart         jaisree       pamaru\n",
       "1             NaN         cool         shabana     nidumolu\n",
       "2             NaN       writer         parveen   pathanpeta\n",
       "3             NaN      teacher          anusha       guduru\n",
       "4             NaN         fool           afzal  akulamannad"
      ]
     },
     "execution_count": 8,
     "metadata": {},
     "output_type": "execute_result"
    }
   ],
   "source": [
    "df_append"
   ]
  },
  {
   "cell_type": "code",
   "execution_count": 9,
   "id": "d376c645",
   "metadata": {},
   "outputs": [],
   "source": [
    "df_append=pd.concat([df,df1],axis=1)"
   ]
  },
  {
   "cell_type": "code",
   "execution_count": 10,
   "id": "21fcb157",
   "metadata": {},
   "outputs": [
    {
     "data": {
      "text/html": [
       "<div>\n",
       "<style scoped>\n",
       "    .dataframe tbody tr th:only-of-type {\n",
       "        vertical-align: middle;\n",
       "    }\n",
       "\n",
       "    .dataframe tbody tr th {\n",
       "        vertical-align: top;\n",
       "    }\n",
       "\n",
       "    .dataframe thead th {\n",
       "        text-align: right;\n",
       "    }\n",
       "</style>\n",
       "<table border=\"1\" class=\"dataframe\">\n",
       "  <thead>\n",
       "    <tr style=\"text-align: right;\">\n",
       "      <th></th>\n",
       "      <th>boysfriendnames</th>\n",
       "      <th>quality</th>\n",
       "      <th>girsfriendnames</th>\n",
       "      <th>quality</th>\n",
       "      <th>city</th>\n",
       "    </tr>\n",
       "  </thead>\n",
       "  <tbody>\n",
       "    <tr>\n",
       "      <th>0</th>\n",
       "      <td>santosh</td>\n",
       "      <td>intelligent</td>\n",
       "      <td>jaisree</td>\n",
       "      <td>smart</td>\n",
       "      <td>pamaru</td>\n",
       "    </tr>\n",
       "    <tr>\n",
       "      <th>1</th>\n",
       "      <td>dinesh</td>\n",
       "      <td>silent</td>\n",
       "      <td>shabana</td>\n",
       "      <td>cool</td>\n",
       "      <td>nidumolu</td>\n",
       "    </tr>\n",
       "    <tr>\n",
       "      <th>2</th>\n",
       "      <td>anwar</td>\n",
       "      <td>talktive</td>\n",
       "      <td>parveen</td>\n",
       "      <td>writer</td>\n",
       "      <td>pathanpeta</td>\n",
       "    </tr>\n",
       "    <tr>\n",
       "      <th>3</th>\n",
       "      <td>khaja</td>\n",
       "      <td>funny</td>\n",
       "      <td>anusha</td>\n",
       "      <td>teacher</td>\n",
       "      <td>guduru</td>\n",
       "    </tr>\n",
       "    <tr>\n",
       "      <th>4</th>\n",
       "      <td>imran</td>\n",
       "      <td>smart</td>\n",
       "      <td>afzal</td>\n",
       "      <td>fool</td>\n",
       "      <td>akulamannad</td>\n",
       "    </tr>\n",
       "  </tbody>\n",
       "</table>\n",
       "</div>"
      ],
      "text/plain": [
       "  boysfriendnames      quality girsfriendnames  quality         city\n",
       "0         santosh  intelligent         jaisree    smart       pamaru\n",
       "1          dinesh       silent         shabana     cool     nidumolu\n",
       "2           anwar     talktive         parveen   writer   pathanpeta\n",
       "3           khaja        funny          anusha  teacher       guduru\n",
       "4           imran        smart           afzal     fool  akulamannad"
      ]
     },
     "execution_count": 10,
     "metadata": {},
     "output_type": "execute_result"
    }
   ],
   "source": [
    "df_append"
   ]
  },
  {
   "cell_type": "code",
   "execution_count": 12,
   "id": "ccba0a0d",
   "metadata": {},
   "outputs": [],
   "source": [
    "df_append=pd.concat([df,df1],axis=0,ignore_index=\"true\")"
   ]
  },
  {
   "cell_type": "code",
   "execution_count": 13,
   "id": "e1137304",
   "metadata": {},
   "outputs": [
    {
     "data": {
      "text/html": [
       "<div>\n",
       "<style scoped>\n",
       "    .dataframe tbody tr th:only-of-type {\n",
       "        vertical-align: middle;\n",
       "    }\n",
       "\n",
       "    .dataframe tbody tr th {\n",
       "        vertical-align: top;\n",
       "    }\n",
       "\n",
       "    .dataframe thead th {\n",
       "        text-align: right;\n",
       "    }\n",
       "</style>\n",
       "<table border=\"1\" class=\"dataframe\">\n",
       "  <thead>\n",
       "    <tr style=\"text-align: right;\">\n",
       "      <th></th>\n",
       "      <th>boysfriendnames</th>\n",
       "      <th>quality</th>\n",
       "      <th>girsfriendnames</th>\n",
       "      <th>city</th>\n",
       "    </tr>\n",
       "  </thead>\n",
       "  <tbody>\n",
       "    <tr>\n",
       "      <th>0</th>\n",
       "      <td>santosh</td>\n",
       "      <td>intelligent</td>\n",
       "      <td>NaN</td>\n",
       "      <td>NaN</td>\n",
       "    </tr>\n",
       "    <tr>\n",
       "      <th>1</th>\n",
       "      <td>dinesh</td>\n",
       "      <td>silent</td>\n",
       "      <td>NaN</td>\n",
       "      <td>NaN</td>\n",
       "    </tr>\n",
       "    <tr>\n",
       "      <th>2</th>\n",
       "      <td>anwar</td>\n",
       "      <td>talktive</td>\n",
       "      <td>NaN</td>\n",
       "      <td>NaN</td>\n",
       "    </tr>\n",
       "    <tr>\n",
       "      <th>3</th>\n",
       "      <td>khaja</td>\n",
       "      <td>funny</td>\n",
       "      <td>NaN</td>\n",
       "      <td>NaN</td>\n",
       "    </tr>\n",
       "    <tr>\n",
       "      <th>4</th>\n",
       "      <td>imran</td>\n",
       "      <td>smart</td>\n",
       "      <td>NaN</td>\n",
       "      <td>NaN</td>\n",
       "    </tr>\n",
       "    <tr>\n",
       "      <th>5</th>\n",
       "      <td>NaN</td>\n",
       "      <td>smart</td>\n",
       "      <td>jaisree</td>\n",
       "      <td>pamaru</td>\n",
       "    </tr>\n",
       "    <tr>\n",
       "      <th>6</th>\n",
       "      <td>NaN</td>\n",
       "      <td>cool</td>\n",
       "      <td>shabana</td>\n",
       "      <td>nidumolu</td>\n",
       "    </tr>\n",
       "    <tr>\n",
       "      <th>7</th>\n",
       "      <td>NaN</td>\n",
       "      <td>writer</td>\n",
       "      <td>parveen</td>\n",
       "      <td>pathanpeta</td>\n",
       "    </tr>\n",
       "    <tr>\n",
       "      <th>8</th>\n",
       "      <td>NaN</td>\n",
       "      <td>teacher</td>\n",
       "      <td>anusha</td>\n",
       "      <td>guduru</td>\n",
       "    </tr>\n",
       "    <tr>\n",
       "      <th>9</th>\n",
       "      <td>NaN</td>\n",
       "      <td>fool</td>\n",
       "      <td>afzal</td>\n",
       "      <td>akulamannad</td>\n",
       "    </tr>\n",
       "  </tbody>\n",
       "</table>\n",
       "</div>"
      ],
      "text/plain": [
       "  boysfriendnames      quality girsfriendnames         city\n",
       "0         santosh  intelligent             NaN          NaN\n",
       "1          dinesh       silent             NaN          NaN\n",
       "2           anwar     talktive             NaN          NaN\n",
       "3           khaja        funny             NaN          NaN\n",
       "4           imran        smart             NaN          NaN\n",
       "5             NaN        smart         jaisree       pamaru\n",
       "6             NaN         cool         shabana     nidumolu\n",
       "7             NaN       writer         parveen   pathanpeta\n",
       "8             NaN      teacher          anusha       guduru\n",
       "9             NaN         fool           afzal  akulamannad"
      ]
     },
     "execution_count": 13,
     "metadata": {},
     "output_type": "execute_result"
    }
   ],
   "source": [
    "df_append"
   ]
  },
  {
   "cell_type": "code",
   "execution_count": 14,
   "id": "87919832",
   "metadata": {},
   "outputs": [],
   "source": [
    "df_append=pd.concat([df,df1],axis=1,ignore_index=\"true\")"
   ]
  },
  {
   "cell_type": "code",
   "execution_count": 15,
   "id": "deeee8d8",
   "metadata": {},
   "outputs": [
    {
     "data": {
      "text/html": [
       "<div>\n",
       "<style scoped>\n",
       "    .dataframe tbody tr th:only-of-type {\n",
       "        vertical-align: middle;\n",
       "    }\n",
       "\n",
       "    .dataframe tbody tr th {\n",
       "        vertical-align: top;\n",
       "    }\n",
       "\n",
       "    .dataframe thead th {\n",
       "        text-align: right;\n",
       "    }\n",
       "</style>\n",
       "<table border=\"1\" class=\"dataframe\">\n",
       "  <thead>\n",
       "    <tr style=\"text-align: right;\">\n",
       "      <th></th>\n",
       "      <th>0</th>\n",
       "      <th>1</th>\n",
       "      <th>2</th>\n",
       "      <th>3</th>\n",
       "      <th>4</th>\n",
       "    </tr>\n",
       "  </thead>\n",
       "  <tbody>\n",
       "    <tr>\n",
       "      <th>0</th>\n",
       "      <td>santosh</td>\n",
       "      <td>intelligent</td>\n",
       "      <td>jaisree</td>\n",
       "      <td>smart</td>\n",
       "      <td>pamaru</td>\n",
       "    </tr>\n",
       "    <tr>\n",
       "      <th>1</th>\n",
       "      <td>dinesh</td>\n",
       "      <td>silent</td>\n",
       "      <td>shabana</td>\n",
       "      <td>cool</td>\n",
       "      <td>nidumolu</td>\n",
       "    </tr>\n",
       "    <tr>\n",
       "      <th>2</th>\n",
       "      <td>anwar</td>\n",
       "      <td>talktive</td>\n",
       "      <td>parveen</td>\n",
       "      <td>writer</td>\n",
       "      <td>pathanpeta</td>\n",
       "    </tr>\n",
       "    <tr>\n",
       "      <th>3</th>\n",
       "      <td>khaja</td>\n",
       "      <td>funny</td>\n",
       "      <td>anusha</td>\n",
       "      <td>teacher</td>\n",
       "      <td>guduru</td>\n",
       "    </tr>\n",
       "    <tr>\n",
       "      <th>4</th>\n",
       "      <td>imran</td>\n",
       "      <td>smart</td>\n",
       "      <td>afzal</td>\n",
       "      <td>fool</td>\n",
       "      <td>akulamannad</td>\n",
       "    </tr>\n",
       "  </tbody>\n",
       "</table>\n",
       "</div>"
      ],
      "text/plain": [
       "         0            1        2        3            4\n",
       "0  santosh  intelligent  jaisree    smart       pamaru\n",
       "1   dinesh       silent  shabana     cool     nidumolu\n",
       "2    anwar     talktive  parveen   writer   pathanpeta\n",
       "3    khaja        funny   anusha  teacher       guduru\n",
       "4    imran        smart    afzal     fool  akulamannad"
      ]
     },
     "execution_count": 15,
     "metadata": {},
     "output_type": "execute_result"
    }
   ],
   "source": [
    "df_append"
   ]
  },
  {
   "cell_type": "code",
   "execution_count": null,
   "id": "60d5b1de",
   "metadata": {},
   "outputs": [],
   "source": []
  },
  {
   "cell_type": "code",
   "execution_count": null,
   "id": "6e7db409",
   "metadata": {},
   "outputs": [],
   "source": []
  },
  {
   "cell_type": "code",
   "execution_count": null,
   "id": "2e78b164",
   "metadata": {},
   "outputs": [],
   "source": []
  },
  {
   "cell_type": "code",
   "execution_count": null,
   "id": "2b199321",
   "metadata": {},
   "outputs": [],
   "source": []
  },
  {
   "cell_type": "code",
   "execution_count": null,
   "id": "fa8dfe56",
   "metadata": {},
   "outputs": [],
   "source": []
  },
  {
   "cell_type": "code",
   "execution_count": null,
   "id": "bcc7f1f0",
   "metadata": {},
   "outputs": [],
   "source": []
  },
  {
   "cell_type": "code",
   "execution_count": null,
   "id": "c7de8245",
   "metadata": {},
   "outputs": [],
   "source": []
  },
  {
   "cell_type": "code",
   "execution_count": null,
   "id": "1eb31924",
   "metadata": {},
   "outputs": [],
   "source": []
  }
 ],
 "metadata": {
  "kernelspec": {
   "display_name": "Python 3 (ipykernel)",
   "language": "python",
   "name": "python3"
  },
  "language_info": {
   "codemirror_mode": {
    "name": "ipython",
    "version": 3
   },
   "file_extension": ".py",
   "mimetype": "text/x-python",
   "name": "python",
   "nbconvert_exporter": "python",
   "pygments_lexer": "ipython3",
   "version": "3.10.9"
  }
 },
 "nbformat": 4,
 "nbformat_minor": 5
}
