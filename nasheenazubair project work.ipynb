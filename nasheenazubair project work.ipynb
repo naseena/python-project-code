{
 "cells": [
  {
   "cell_type": "code",
   "execution_count": 1,
   "id": "2289cc5d",
   "metadata": {},
   "outputs": [],
   "source": [
    "import pandas as pd\n",
    "import numpy as np\n",
    "#check all level wise"
   ]
  },
  {
   "cell_type": "code",
   "execution_count": 2,
   "id": "461f988e",
   "metadata": {},
   "outputs": [],
   "source": [
    "#function:\n",
    "#read_excel,concat(),filters/conditions"
   ]
  },
  {
   "cell_type": "code",
   "execution_count": 3,
   "id": "ad65d56a",
   "metadata": {},
   "outputs": [],
   "source": [
    "#import bbbpatients and bbb address excel files"
   ]
  },
  {
   "cell_type": "code",
   "execution_count": 2,
   "id": "2bf94b6f",
   "metadata": {},
   "outputs": [],
   "source": [
    "bbb_p_df=pd.read_excel(\"Downloads\\Insurance_Customers.xlsx\",sheet_name=\"BBB_Patients\")"
   ]
  },
  {
   "cell_type": "code",
   "execution_count": 3,
   "id": "149fc344",
   "metadata": {},
   "outputs": [
    {
     "data": {
      "text/html": [
       "<div>\n",
       "<style scoped>\n",
       "    .dataframe tbody tr th:only-of-type {\n",
       "        vertical-align: middle;\n",
       "    }\n",
       "\n",
       "    .dataframe tbody tr th {\n",
       "        vertical-align: top;\n",
       "    }\n",
       "\n",
       "    .dataframe thead th {\n",
       "        text-align: right;\n",
       "    }\n",
       "</style>\n",
       "<table border=\"1\" class=\"dataframe\">\n",
       "  <thead>\n",
       "    <tr style=\"text-align: right;\">\n",
       "      <th></th>\n",
       "      <th>patientid</th>\n",
       "      <th>membershid</th>\n",
       "      <th>groupid</th>\n",
       "      <th>person_nbr</th>\n",
       "    </tr>\n",
       "  </thead>\n",
       "  <tbody>\n",
       "    <tr>\n",
       "      <th>0</th>\n",
       "      <td>10001</td>\n",
       "      <td>123456891</td>\n",
       "      <td>Upperbody</td>\n",
       "      <td>2386.041022</td>\n",
       "    </tr>\n",
       "    <tr>\n",
       "      <th>1</th>\n",
       "      <td>10002</td>\n",
       "      <td>123456891</td>\n",
       "      <td>Upperbody</td>\n",
       "      <td>7219.568003</td>\n",
       "    </tr>\n",
       "    <tr>\n",
       "      <th>2</th>\n",
       "      <td>10003</td>\n",
       "      <td>123456891</td>\n",
       "      <td>Upperbody</td>\n",
       "      <td>1110.167181</td>\n",
       "    </tr>\n",
       "    <tr>\n",
       "      <th>3</th>\n",
       "      <td>10004</td>\n",
       "      <td>123456891</td>\n",
       "      <td>Upperbody</td>\n",
       "      <td>4522.639998</td>\n",
       "    </tr>\n",
       "    <tr>\n",
       "      <th>4</th>\n",
       "      <td>10005</td>\n",
       "      <td>123456891</td>\n",
       "      <td>Upperbody</td>\n",
       "      <td>7305.192980</td>\n",
       "    </tr>\n",
       "    <tr>\n",
       "      <th>...</th>\n",
       "      <td>...</td>\n",
       "      <td>...</td>\n",
       "      <td>...</td>\n",
       "      <td>...</td>\n",
       "    </tr>\n",
       "    <tr>\n",
       "      <th>10114</th>\n",
       "      <td>20115</td>\n",
       "      <td>123456896</td>\n",
       "      <td>Nerves</td>\n",
       "      <td>2985.574310</td>\n",
       "    </tr>\n",
       "    <tr>\n",
       "      <th>10115</th>\n",
       "      <td>20116</td>\n",
       "      <td>123456896</td>\n",
       "      <td>Nerves</td>\n",
       "      <td>9698.888692</td>\n",
       "    </tr>\n",
       "    <tr>\n",
       "      <th>10116</th>\n",
       "      <td>20117</td>\n",
       "      <td>123456896</td>\n",
       "      <td>Nerves</td>\n",
       "      <td>3305.456074</td>\n",
       "    </tr>\n",
       "    <tr>\n",
       "      <th>10117</th>\n",
       "      <td>20118</td>\n",
       "      <td>123456896</td>\n",
       "      <td>Nerves</td>\n",
       "      <td>9179.853623</td>\n",
       "    </tr>\n",
       "    <tr>\n",
       "      <th>10118</th>\n",
       "      <td>20119</td>\n",
       "      <td>123456896</td>\n",
       "      <td>Nerves</td>\n",
       "      <td>2048.429434</td>\n",
       "    </tr>\n",
       "  </tbody>\n",
       "</table>\n",
       "<p>10119 rows × 4 columns</p>\n",
       "</div>"
      ],
      "text/plain": [
       "       patientid  membershid    groupid   person_nbr\n",
       "0          10001   123456891  Upperbody  2386.041022\n",
       "1          10002   123456891  Upperbody  7219.568003\n",
       "2          10003   123456891  Upperbody  1110.167181\n",
       "3          10004   123456891  Upperbody  4522.639998\n",
       "4          10005   123456891  Upperbody  7305.192980\n",
       "...          ...         ...        ...          ...\n",
       "10114      20115   123456896     Nerves  2985.574310\n",
       "10115      20116   123456896     Nerves  9698.888692\n",
       "10116      20117   123456896     Nerves  3305.456074\n",
       "10117      20118   123456896     Nerves  9179.853623\n",
       "10118      20119   123456896     Nerves  2048.429434\n",
       "\n",
       "[10119 rows x 4 columns]"
      ]
     },
     "execution_count": 3,
     "metadata": {},
     "output_type": "execute_result"
    }
   ],
   "source": [
    "bbb_p_df"
   ]
  },
  {
   "cell_type": "code",
   "execution_count": 4,
   "id": "2133b527",
   "metadata": {},
   "outputs": [],
   "source": [
    "bbb_p_add_df=pd.read_excel(\"Downloads\\Insurance_Customers.xlsx\",sheet_name=\"BBB_Address\")"
   ]
  },
  {
   "cell_type": "code",
   "execution_count": 5,
   "id": "d2c2deb9",
   "metadata": {},
   "outputs": [
    {
     "data": {
      "text/html": [
       "<div>\n",
       "<style scoped>\n",
       "    .dataframe tbody tr th:only-of-type {\n",
       "        vertical-align: middle;\n",
       "    }\n",
       "\n",
       "    .dataframe tbody tr th {\n",
       "        vertical-align: top;\n",
       "    }\n",
       "\n",
       "    .dataframe thead th {\n",
       "        text-align: right;\n",
       "    }\n",
       "</style>\n",
       "<table border=\"1\" class=\"dataframe\">\n",
       "  <thead>\n",
       "    <tr style=\"text-align: right;\">\n",
       "      <th></th>\n",
       "      <th>patientid</th>\n",
       "      <th>membershid</th>\n",
       "      <th>groupid</th>\n",
       "      <th>person_nbr</th>\n",
       "      <th>Primary_Phone_NBR</th>\n",
       "      <th>Phone2_NBR</th>\n",
       "      <th>Phone3_NBR</th>\n",
       "    </tr>\n",
       "  </thead>\n",
       "  <tbody>\n",
       "    <tr>\n",
       "      <th>0</th>\n",
       "      <td>10001</td>\n",
       "      <td>123456891</td>\n",
       "      <td>Upperbody</td>\n",
       "      <td>2.386041e+03</td>\n",
       "      <td>C</td>\n",
       "      <td>O</td>\n",
       "      <td>C</td>\n",
       "    </tr>\n",
       "    <tr>\n",
       "      <th>1</th>\n",
       "      <td>10002</td>\n",
       "      <td>123456891</td>\n",
       "      <td>Upperbody</td>\n",
       "      <td>7.219568e+03</td>\n",
       "      <td>C</td>\n",
       "      <td>O</td>\n",
       "      <td>C</td>\n",
       "    </tr>\n",
       "    <tr>\n",
       "      <th>2</th>\n",
       "      <td>10003</td>\n",
       "      <td>123456891</td>\n",
       "      <td>Upperbody</td>\n",
       "      <td>1.110167e+03</td>\n",
       "      <td>C</td>\n",
       "      <td>O</td>\n",
       "      <td>C</td>\n",
       "    </tr>\n",
       "    <tr>\n",
       "      <th>3</th>\n",
       "      <td>10004</td>\n",
       "      <td>123456891</td>\n",
       "      <td>Upperbody</td>\n",
       "      <td>4.522640e+03</td>\n",
       "      <td>C</td>\n",
       "      <td>O</td>\n",
       "      <td>C</td>\n",
       "    </tr>\n",
       "    <tr>\n",
       "      <th>4</th>\n",
       "      <td>10005</td>\n",
       "      <td>123456891</td>\n",
       "      <td>Upperbody</td>\n",
       "      <td>7.305193e+03</td>\n",
       "      <td>C</td>\n",
       "      <td>O</td>\n",
       "      <td>C</td>\n",
       "    </tr>\n",
       "    <tr>\n",
       "      <th>...</th>\n",
       "      <td>...</td>\n",
       "      <td>...</td>\n",
       "      <td>...</td>\n",
       "      <td>...</td>\n",
       "      <td>...</td>\n",
       "      <td>...</td>\n",
       "      <td>...</td>\n",
       "    </tr>\n",
       "    <tr>\n",
       "      <th>15989</th>\n",
       "      <td>25990</td>\n",
       "      <td>28862324</td>\n",
       "      <td>EarD</td>\n",
       "      <td>5.377624e+06</td>\n",
       "      <td>C</td>\n",
       "      <td>H</td>\n",
       "      <td>C</td>\n",
       "    </tr>\n",
       "    <tr>\n",
       "      <th>15990</th>\n",
       "      <td>25991</td>\n",
       "      <td>46570001</td>\n",
       "      <td>EarD</td>\n",
       "      <td>1.232265e+07</td>\n",
       "      <td>C</td>\n",
       "      <td>H</td>\n",
       "      <td>C</td>\n",
       "    </tr>\n",
       "    <tr>\n",
       "      <th>15991</th>\n",
       "      <td>25992</td>\n",
       "      <td>26399463</td>\n",
       "      <td>EarD</td>\n",
       "      <td>6.552275e+06</td>\n",
       "      <td>C</td>\n",
       "      <td>H</td>\n",
       "      <td>C</td>\n",
       "    </tr>\n",
       "    <tr>\n",
       "      <th>15992</th>\n",
       "      <td>25993</td>\n",
       "      <td>63512490</td>\n",
       "      <td>EarD</td>\n",
       "      <td>5.607201e+06</td>\n",
       "      <td>C</td>\n",
       "      <td>H</td>\n",
       "      <td>C</td>\n",
       "    </tr>\n",
       "    <tr>\n",
       "      <th>15993</th>\n",
       "      <td>25994</td>\n",
       "      <td>30518036</td>\n",
       "      <td>EarD</td>\n",
       "      <td>1.340731e+06</td>\n",
       "      <td>C</td>\n",
       "      <td>H</td>\n",
       "      <td>C</td>\n",
       "    </tr>\n",
       "  </tbody>\n",
       "</table>\n",
       "<p>15994 rows × 7 columns</p>\n",
       "</div>"
      ],
      "text/plain": [
       "       patientid  membershid    groupid    person_nbr Primary_Phone_NBR  \\\n",
       "0          10001   123456891  Upperbody  2.386041e+03                 C   \n",
       "1          10002   123456891  Upperbody  7.219568e+03                 C   \n",
       "2          10003   123456891  Upperbody  1.110167e+03                 C   \n",
       "3          10004   123456891  Upperbody  4.522640e+03                 C   \n",
       "4          10005   123456891  Upperbody  7.305193e+03                 C   \n",
       "...          ...         ...        ...           ...               ...   \n",
       "15989      25990    28862324       EarD  5.377624e+06                 C   \n",
       "15990      25991    46570001       EarD  1.232265e+07                 C   \n",
       "15991      25992    26399463       EarD  6.552275e+06                 C   \n",
       "15992      25993    63512490       EarD  5.607201e+06                 C   \n",
       "15993      25994    30518036       EarD  1.340731e+06                 C   \n",
       "\n",
       "      Phone2_NBR Phone3_NBR  \n",
       "0              O          C  \n",
       "1              O          C  \n",
       "2              O          C  \n",
       "3              O          C  \n",
       "4              O          C  \n",
       "...          ...        ...  \n",
       "15989          H          C  \n",
       "15990          H          C  \n",
       "15991          H          C  \n",
       "15992          H          C  \n",
       "15993          H          C  \n",
       "\n",
       "[15994 rows x 7 columns]"
      ]
     },
     "execution_count": 5,
     "metadata": {},
     "output_type": "execute_result"
    }
   ],
   "source": [
    "bbb_p_add_df"
   ]
  },
  {
   "cell_type": "code",
   "execution_count": 8,
   "id": "daaca5b3",
   "metadata": {},
   "outputs": [],
   "source": [
    "#basic checks import files  bbbpatients and bbb address"
   ]
  },
  {
   "cell_type": "code",
   "execution_count": 9,
   "id": "1b7e8e4d",
   "metadata": {},
   "outputs": [
    {
     "data": {
      "text/plain": [
       "(10119, 4)"
      ]
     },
     "execution_count": 9,
     "metadata": {},
     "output_type": "execute_result"
    }
   ],
   "source": [
    "bbb_p_df.shape"
   ]
  },
  {
   "cell_type": "code",
   "execution_count": 10,
   "id": "bffc811e",
   "metadata": {},
   "outputs": [
    {
     "data": {
      "text/plain": [
       "Index(['patientid', 'membershid', 'groupid', 'person_nbr'], dtype='object')"
      ]
     },
     "execution_count": 10,
     "metadata": {},
     "output_type": "execute_result"
    }
   ],
   "source": [
    "bbb_p_df.columns"
   ]
  },
  {
   "cell_type": "code",
   "execution_count": 11,
   "id": "b450b373",
   "metadata": {},
   "outputs": [
    {
     "data": {
      "text/html": [
       "<div>\n",
       "<style scoped>\n",
       "    .dataframe tbody tr th:only-of-type {\n",
       "        vertical-align: middle;\n",
       "    }\n",
       "\n",
       "    .dataframe tbody tr th {\n",
       "        vertical-align: top;\n",
       "    }\n",
       "\n",
       "    .dataframe thead th {\n",
       "        text-align: right;\n",
       "    }\n",
       "</style>\n",
       "<table border=\"1\" class=\"dataframe\">\n",
       "  <thead>\n",
       "    <tr style=\"text-align: right;\">\n",
       "      <th></th>\n",
       "      <th>patientid</th>\n",
       "      <th>membershid</th>\n",
       "      <th>groupid</th>\n",
       "      <th>person_nbr</th>\n",
       "    </tr>\n",
       "  </thead>\n",
       "  <tbody>\n",
       "    <tr>\n",
       "      <th>0</th>\n",
       "      <td>10001</td>\n",
       "      <td>123456891</td>\n",
       "      <td>Upperbody</td>\n",
       "      <td>2386.041022</td>\n",
       "    </tr>\n",
       "    <tr>\n",
       "      <th>1</th>\n",
       "      <td>10002</td>\n",
       "      <td>123456891</td>\n",
       "      <td>Upperbody</td>\n",
       "      <td>7219.568003</td>\n",
       "    </tr>\n",
       "    <tr>\n",
       "      <th>2</th>\n",
       "      <td>10003</td>\n",
       "      <td>123456891</td>\n",
       "      <td>Upperbody</td>\n",
       "      <td>1110.167181</td>\n",
       "    </tr>\n",
       "    <tr>\n",
       "      <th>3</th>\n",
       "      <td>10004</td>\n",
       "      <td>123456891</td>\n",
       "      <td>Upperbody</td>\n",
       "      <td>4522.639998</td>\n",
       "    </tr>\n",
       "    <tr>\n",
       "      <th>4</th>\n",
       "      <td>10005</td>\n",
       "      <td>123456891</td>\n",
       "      <td>Upperbody</td>\n",
       "      <td>7305.192980</td>\n",
       "    </tr>\n",
       "  </tbody>\n",
       "</table>\n",
       "</div>"
      ],
      "text/plain": [
       "   patientid  membershid    groupid   person_nbr\n",
       "0      10001   123456891  Upperbody  2386.041022\n",
       "1      10002   123456891  Upperbody  7219.568003\n",
       "2      10003   123456891  Upperbody  1110.167181\n",
       "3      10004   123456891  Upperbody  4522.639998\n",
       "4      10005   123456891  Upperbody  7305.192980"
      ]
     },
     "execution_count": 11,
     "metadata": {},
     "output_type": "execute_result"
    }
   ],
   "source": [
    "bbb_p_df.head()"
   ]
  },
  {
   "cell_type": "code",
   "execution_count": 12,
   "id": "bb4aed0b",
   "metadata": {
    "scrolled": true
   },
   "outputs": [
    {
     "data": {
      "text/html": [
       "<div>\n",
       "<style scoped>\n",
       "    .dataframe tbody tr th:only-of-type {\n",
       "        vertical-align: middle;\n",
       "    }\n",
       "\n",
       "    .dataframe tbody tr th {\n",
       "        vertical-align: top;\n",
       "    }\n",
       "\n",
       "    .dataframe thead th {\n",
       "        text-align: right;\n",
       "    }\n",
       "</style>\n",
       "<table border=\"1\" class=\"dataframe\">\n",
       "  <thead>\n",
       "    <tr style=\"text-align: right;\">\n",
       "      <th></th>\n",
       "      <th>patientid</th>\n",
       "      <th>membershid</th>\n",
       "      <th>groupid</th>\n",
       "      <th>person_nbr</th>\n",
       "    </tr>\n",
       "  </thead>\n",
       "  <tbody>\n",
       "    <tr>\n",
       "      <th>10114</th>\n",
       "      <td>20115</td>\n",
       "      <td>123456896</td>\n",
       "      <td>Nerves</td>\n",
       "      <td>2985.574310</td>\n",
       "    </tr>\n",
       "    <tr>\n",
       "      <th>10115</th>\n",
       "      <td>20116</td>\n",
       "      <td>123456896</td>\n",
       "      <td>Nerves</td>\n",
       "      <td>9698.888692</td>\n",
       "    </tr>\n",
       "    <tr>\n",
       "      <th>10116</th>\n",
       "      <td>20117</td>\n",
       "      <td>123456896</td>\n",
       "      <td>Nerves</td>\n",
       "      <td>3305.456074</td>\n",
       "    </tr>\n",
       "    <tr>\n",
       "      <th>10117</th>\n",
       "      <td>20118</td>\n",
       "      <td>123456896</td>\n",
       "      <td>Nerves</td>\n",
       "      <td>9179.853623</td>\n",
       "    </tr>\n",
       "    <tr>\n",
       "      <th>10118</th>\n",
       "      <td>20119</td>\n",
       "      <td>123456896</td>\n",
       "      <td>Nerves</td>\n",
       "      <td>2048.429434</td>\n",
       "    </tr>\n",
       "  </tbody>\n",
       "</table>\n",
       "</div>"
      ],
      "text/plain": [
       "       patientid  membershid groupid   person_nbr\n",
       "10114      20115   123456896  Nerves  2985.574310\n",
       "10115      20116   123456896  Nerves  9698.888692\n",
       "10116      20117   123456896  Nerves  3305.456074\n",
       "10117      20118   123456896  Nerves  9179.853623\n",
       "10118      20119   123456896  Nerves  2048.429434"
      ]
     },
     "execution_count": 12,
     "metadata": {},
     "output_type": "execute_result"
    }
   ],
   "source": [
    "bbb_p_df.tail()"
   ]
  },
  {
   "cell_type": "code",
   "execution_count": 13,
   "id": "18bf69ee",
   "metadata": {},
   "outputs": [
    {
     "data": {
      "text/plain": [
       "(15994, 7)"
      ]
     },
     "execution_count": 13,
     "metadata": {},
     "output_type": "execute_result"
    }
   ],
   "source": [
    "bbb_p_add_df.shape"
   ]
  },
  {
   "cell_type": "code",
   "execution_count": 14,
   "id": "a51928ee",
   "metadata": {},
   "outputs": [
    {
     "data": {
      "text/plain": [
       "Index(['patientid', 'membershid', 'groupid', 'person_nbr', 'Primary_Phone_NBR',\n",
       "       'Phone2_NBR', 'Phone3_NBR'],\n",
       "      dtype='object')"
      ]
     },
     "execution_count": 14,
     "metadata": {},
     "output_type": "execute_result"
    }
   ],
   "source": [
    "bbb_p_add_df.columns"
   ]
  },
  {
   "cell_type": "code",
   "execution_count": 15,
   "id": "1ff4ee97",
   "metadata": {},
   "outputs": [
    {
     "data": {
      "text/html": [
       "<div>\n",
       "<style scoped>\n",
       "    .dataframe tbody tr th:only-of-type {\n",
       "        vertical-align: middle;\n",
       "    }\n",
       "\n",
       "    .dataframe tbody tr th {\n",
       "        vertical-align: top;\n",
       "    }\n",
       "\n",
       "    .dataframe thead th {\n",
       "        text-align: right;\n",
       "    }\n",
       "</style>\n",
       "<table border=\"1\" class=\"dataframe\">\n",
       "  <thead>\n",
       "    <tr style=\"text-align: right;\">\n",
       "      <th></th>\n",
       "      <th>patientid</th>\n",
       "      <th>membershid</th>\n",
       "      <th>groupid</th>\n",
       "      <th>person_nbr</th>\n",
       "      <th>Primary_Phone_NBR</th>\n",
       "      <th>Phone2_NBR</th>\n",
       "      <th>Phone3_NBR</th>\n",
       "    </tr>\n",
       "  </thead>\n",
       "  <tbody>\n",
       "    <tr>\n",
       "      <th>0</th>\n",
       "      <td>10001</td>\n",
       "      <td>123456891</td>\n",
       "      <td>Upperbody</td>\n",
       "      <td>2386.041022</td>\n",
       "      <td>C</td>\n",
       "      <td>O</td>\n",
       "      <td>C</td>\n",
       "    </tr>\n",
       "    <tr>\n",
       "      <th>1</th>\n",
       "      <td>10002</td>\n",
       "      <td>123456891</td>\n",
       "      <td>Upperbody</td>\n",
       "      <td>7219.568003</td>\n",
       "      <td>C</td>\n",
       "      <td>O</td>\n",
       "      <td>C</td>\n",
       "    </tr>\n",
       "    <tr>\n",
       "      <th>2</th>\n",
       "      <td>10003</td>\n",
       "      <td>123456891</td>\n",
       "      <td>Upperbody</td>\n",
       "      <td>1110.167181</td>\n",
       "      <td>C</td>\n",
       "      <td>O</td>\n",
       "      <td>C</td>\n",
       "    </tr>\n",
       "    <tr>\n",
       "      <th>3</th>\n",
       "      <td>10004</td>\n",
       "      <td>123456891</td>\n",
       "      <td>Upperbody</td>\n",
       "      <td>4522.639998</td>\n",
       "      <td>C</td>\n",
       "      <td>O</td>\n",
       "      <td>C</td>\n",
       "    </tr>\n",
       "    <tr>\n",
       "      <th>4</th>\n",
       "      <td>10005</td>\n",
       "      <td>123456891</td>\n",
       "      <td>Upperbody</td>\n",
       "      <td>7305.192980</td>\n",
       "      <td>C</td>\n",
       "      <td>O</td>\n",
       "      <td>C</td>\n",
       "    </tr>\n",
       "  </tbody>\n",
       "</table>\n",
       "</div>"
      ],
      "text/plain": [
       "   patientid  membershid    groupid   person_nbr Primary_Phone_NBR Phone2_NBR  \\\n",
       "0      10001   123456891  Upperbody  2386.041022                 C          O   \n",
       "1      10002   123456891  Upperbody  7219.568003                 C          O   \n",
       "2      10003   123456891  Upperbody  1110.167181                 C          O   \n",
       "3      10004   123456891  Upperbody  4522.639998                 C          O   \n",
       "4      10005   123456891  Upperbody  7305.192980                 C          O   \n",
       "\n",
       "  Phone3_NBR  \n",
       "0          C  \n",
       "1          C  \n",
       "2          C  \n",
       "3          C  \n",
       "4          C  "
      ]
     },
     "execution_count": 15,
     "metadata": {},
     "output_type": "execute_result"
    }
   ],
   "source": [
    "bbb_p_add_df.head()"
   ]
  },
  {
   "cell_type": "code",
   "execution_count": 16,
   "id": "a556d84a",
   "metadata": {},
   "outputs": [
    {
     "data": {
      "text/html": [
       "<div>\n",
       "<style scoped>\n",
       "    .dataframe tbody tr th:only-of-type {\n",
       "        vertical-align: middle;\n",
       "    }\n",
       "\n",
       "    .dataframe tbody tr th {\n",
       "        vertical-align: top;\n",
       "    }\n",
       "\n",
       "    .dataframe thead th {\n",
       "        text-align: right;\n",
       "    }\n",
       "</style>\n",
       "<table border=\"1\" class=\"dataframe\">\n",
       "  <thead>\n",
       "    <tr style=\"text-align: right;\">\n",
       "      <th></th>\n",
       "      <th>patientid</th>\n",
       "      <th>membershid</th>\n",
       "      <th>groupid</th>\n",
       "      <th>person_nbr</th>\n",
       "      <th>Primary_Phone_NBR</th>\n",
       "      <th>Phone2_NBR</th>\n",
       "      <th>Phone3_NBR</th>\n",
       "    </tr>\n",
       "  </thead>\n",
       "  <tbody>\n",
       "    <tr>\n",
       "      <th>15989</th>\n",
       "      <td>25990</td>\n",
       "      <td>28862324</td>\n",
       "      <td>EarD</td>\n",
       "      <td>5.377624e+06</td>\n",
       "      <td>C</td>\n",
       "      <td>H</td>\n",
       "      <td>C</td>\n",
       "    </tr>\n",
       "    <tr>\n",
       "      <th>15990</th>\n",
       "      <td>25991</td>\n",
       "      <td>46570001</td>\n",
       "      <td>EarD</td>\n",
       "      <td>1.232265e+07</td>\n",
       "      <td>C</td>\n",
       "      <td>H</td>\n",
       "      <td>C</td>\n",
       "    </tr>\n",
       "    <tr>\n",
       "      <th>15991</th>\n",
       "      <td>25992</td>\n",
       "      <td>26399463</td>\n",
       "      <td>EarD</td>\n",
       "      <td>6.552275e+06</td>\n",
       "      <td>C</td>\n",
       "      <td>H</td>\n",
       "      <td>C</td>\n",
       "    </tr>\n",
       "    <tr>\n",
       "      <th>15992</th>\n",
       "      <td>25993</td>\n",
       "      <td>63512490</td>\n",
       "      <td>EarD</td>\n",
       "      <td>5.607201e+06</td>\n",
       "      <td>C</td>\n",
       "      <td>H</td>\n",
       "      <td>C</td>\n",
       "    </tr>\n",
       "    <tr>\n",
       "      <th>15993</th>\n",
       "      <td>25994</td>\n",
       "      <td>30518036</td>\n",
       "      <td>EarD</td>\n",
       "      <td>1.340731e+06</td>\n",
       "      <td>C</td>\n",
       "      <td>H</td>\n",
       "      <td>C</td>\n",
       "    </tr>\n",
       "  </tbody>\n",
       "</table>\n",
       "</div>"
      ],
      "text/plain": [
       "       patientid  membershid groupid    person_nbr Primary_Phone_NBR  \\\n",
       "15989      25990    28862324    EarD  5.377624e+06                 C   \n",
       "15990      25991    46570001    EarD  1.232265e+07                 C   \n",
       "15991      25992    26399463    EarD  6.552275e+06                 C   \n",
       "15992      25993    63512490    EarD  5.607201e+06                 C   \n",
       "15993      25994    30518036    EarD  1.340731e+06                 C   \n",
       "\n",
       "      Phone2_NBR Phone3_NBR  \n",
       "15989          H          C  \n",
       "15990          H          C  \n",
       "15991          H          C  \n",
       "15992          H          C  \n",
       "15993          H          C  "
      ]
     },
     "execution_count": 16,
     "metadata": {},
     "output_type": "execute_result"
    }
   ],
   "source": [
    "bbb_p_add_df.tail()"
   ]
  },
  {
   "cell_type": "code",
   "execution_count": 17,
   "id": "c6189576",
   "metadata": {},
   "outputs": [],
   "source": [
    "#join operation two data frames(left join )"
   ]
  },
  {
   "cell_type": "code",
   "execution_count": 6,
   "id": "33b22238",
   "metadata": {},
   "outputs": [],
   "source": [
    "bbb_p_add_merge=bbb_p_df.merge(bbb_p_add_df,on=['patientid', 'membershid', 'groupid', 'person_nbr'],how=\"left\")"
   ]
  },
  {
   "cell_type": "code",
   "execution_count": 7,
   "id": "77a7e496",
   "metadata": {},
   "outputs": [
    {
     "data": {
      "text/html": [
       "<div>\n",
       "<style scoped>\n",
       "    .dataframe tbody tr th:only-of-type {\n",
       "        vertical-align: middle;\n",
       "    }\n",
       "\n",
       "    .dataframe tbody tr th {\n",
       "        vertical-align: top;\n",
       "    }\n",
       "\n",
       "    .dataframe thead th {\n",
       "        text-align: right;\n",
       "    }\n",
       "</style>\n",
       "<table border=\"1\" class=\"dataframe\">\n",
       "  <thead>\n",
       "    <tr style=\"text-align: right;\">\n",
       "      <th></th>\n",
       "      <th>patientid</th>\n",
       "      <th>membershid</th>\n",
       "      <th>groupid</th>\n",
       "      <th>person_nbr</th>\n",
       "      <th>Primary_Phone_NBR</th>\n",
       "      <th>Phone2_NBR</th>\n",
       "      <th>Phone3_NBR</th>\n",
       "    </tr>\n",
       "  </thead>\n",
       "  <tbody>\n",
       "    <tr>\n",
       "      <th>0</th>\n",
       "      <td>10001</td>\n",
       "      <td>123456891</td>\n",
       "      <td>Upperbody</td>\n",
       "      <td>2386.041022</td>\n",
       "      <td>C</td>\n",
       "      <td>O</td>\n",
       "      <td>C</td>\n",
       "    </tr>\n",
       "    <tr>\n",
       "      <th>1</th>\n",
       "      <td>10002</td>\n",
       "      <td>123456891</td>\n",
       "      <td>Upperbody</td>\n",
       "      <td>7219.568003</td>\n",
       "      <td>C</td>\n",
       "      <td>O</td>\n",
       "      <td>C</td>\n",
       "    </tr>\n",
       "    <tr>\n",
       "      <th>2</th>\n",
       "      <td>10003</td>\n",
       "      <td>123456891</td>\n",
       "      <td>Upperbody</td>\n",
       "      <td>1110.167181</td>\n",
       "      <td>C</td>\n",
       "      <td>O</td>\n",
       "      <td>C</td>\n",
       "    </tr>\n",
       "    <tr>\n",
       "      <th>3</th>\n",
       "      <td>10004</td>\n",
       "      <td>123456891</td>\n",
       "      <td>Upperbody</td>\n",
       "      <td>4522.639998</td>\n",
       "      <td>C</td>\n",
       "      <td>O</td>\n",
       "      <td>C</td>\n",
       "    </tr>\n",
       "    <tr>\n",
       "      <th>4</th>\n",
       "      <td>10005</td>\n",
       "      <td>123456891</td>\n",
       "      <td>Upperbody</td>\n",
       "      <td>7305.192980</td>\n",
       "      <td>C</td>\n",
       "      <td>O</td>\n",
       "      <td>C</td>\n",
       "    </tr>\n",
       "    <tr>\n",
       "      <th>...</th>\n",
       "      <td>...</td>\n",
       "      <td>...</td>\n",
       "      <td>...</td>\n",
       "      <td>...</td>\n",
       "      <td>...</td>\n",
       "      <td>...</td>\n",
       "      <td>...</td>\n",
       "    </tr>\n",
       "    <tr>\n",
       "      <th>10114</th>\n",
       "      <td>20115</td>\n",
       "      <td>123456896</td>\n",
       "      <td>Nerves</td>\n",
       "      <td>2985.574310</td>\n",
       "      <td>C</td>\n",
       "      <td>H</td>\n",
       "      <td>C</td>\n",
       "    </tr>\n",
       "    <tr>\n",
       "      <th>10115</th>\n",
       "      <td>20116</td>\n",
       "      <td>123456896</td>\n",
       "      <td>Nerves</td>\n",
       "      <td>9698.888692</td>\n",
       "      <td>C</td>\n",
       "      <td>H</td>\n",
       "      <td>C</td>\n",
       "    </tr>\n",
       "    <tr>\n",
       "      <th>10116</th>\n",
       "      <td>20117</td>\n",
       "      <td>123456896</td>\n",
       "      <td>Nerves</td>\n",
       "      <td>3305.456074</td>\n",
       "      <td>C</td>\n",
       "      <td>H</td>\n",
       "      <td>C</td>\n",
       "    </tr>\n",
       "    <tr>\n",
       "      <th>10117</th>\n",
       "      <td>20118</td>\n",
       "      <td>123456896</td>\n",
       "      <td>Nerves</td>\n",
       "      <td>9179.853623</td>\n",
       "      <td>C</td>\n",
       "      <td>H</td>\n",
       "      <td>C</td>\n",
       "    </tr>\n",
       "    <tr>\n",
       "      <th>10118</th>\n",
       "      <td>20119</td>\n",
       "      <td>123456896</td>\n",
       "      <td>Nerves</td>\n",
       "      <td>2048.429434</td>\n",
       "      <td>C</td>\n",
       "      <td>H</td>\n",
       "      <td>C</td>\n",
       "    </tr>\n",
       "  </tbody>\n",
       "</table>\n",
       "<p>10119 rows × 7 columns</p>\n",
       "</div>"
      ],
      "text/plain": [
       "       patientid  membershid    groupid   person_nbr Primary_Phone_NBR  \\\n",
       "0          10001   123456891  Upperbody  2386.041022                 C   \n",
       "1          10002   123456891  Upperbody  7219.568003                 C   \n",
       "2          10003   123456891  Upperbody  1110.167181                 C   \n",
       "3          10004   123456891  Upperbody  4522.639998                 C   \n",
       "4          10005   123456891  Upperbody  7305.192980                 C   \n",
       "...          ...         ...        ...          ...               ...   \n",
       "10114      20115   123456896     Nerves  2985.574310                 C   \n",
       "10115      20116   123456896     Nerves  9698.888692                 C   \n",
       "10116      20117   123456896     Nerves  3305.456074                 C   \n",
       "10117      20118   123456896     Nerves  9179.853623                 C   \n",
       "10118      20119   123456896     Nerves  2048.429434                 C   \n",
       "\n",
       "      Phone2_NBR Phone3_NBR  \n",
       "0              O          C  \n",
       "1              O          C  \n",
       "2              O          C  \n",
       "3              O          C  \n",
       "4              O          C  \n",
       "...          ...        ...  \n",
       "10114          H          C  \n",
       "10115          H          C  \n",
       "10116          H          C  \n",
       "10117          H          C  \n",
       "10118          H          C  \n",
       "\n",
       "[10119 rows x 7 columns]"
      ]
     },
     "execution_count": 7,
     "metadata": {},
     "output_type": "execute_result"
    }
   ],
   "source": [
    "bbb_p_add_merge"
   ]
  },
  {
   "cell_type": "code",
   "execution_count": 20,
   "id": "a4b2b48d",
   "metadata": {},
   "outputs": [],
   "source": [
    "#basic checks bbb_p_add_merge"
   ]
  },
  {
   "cell_type": "code",
   "execution_count": 21,
   "id": "8426d1f8",
   "metadata": {},
   "outputs": [
    {
     "data": {
      "text/plain": [
       "Index(['patientid', 'membershid', 'groupid', 'person_nbr', 'Primary_Phone_NBR',\n",
       "       'Phone2_NBR', 'Phone3_NBR'],\n",
       "      dtype='object')"
      ]
     },
     "execution_count": 21,
     "metadata": {},
     "output_type": "execute_result"
    }
   ],
   "source": [
    "bbb_p_add_merge.columns"
   ]
  },
  {
   "cell_type": "code",
   "execution_count": 22,
   "id": "32444c30",
   "metadata": {},
   "outputs": [
    {
     "data": {
      "text/html": [
       "<div>\n",
       "<style scoped>\n",
       "    .dataframe tbody tr th:only-of-type {\n",
       "        vertical-align: middle;\n",
       "    }\n",
       "\n",
       "    .dataframe tbody tr th {\n",
       "        vertical-align: top;\n",
       "    }\n",
       "\n",
       "    .dataframe thead th {\n",
       "        text-align: right;\n",
       "    }\n",
       "</style>\n",
       "<table border=\"1\" class=\"dataframe\">\n",
       "  <thead>\n",
       "    <tr style=\"text-align: right;\">\n",
       "      <th></th>\n",
       "      <th>patientid</th>\n",
       "      <th>membershid</th>\n",
       "      <th>groupid</th>\n",
       "      <th>person_nbr</th>\n",
       "      <th>Primary_Phone_NBR</th>\n",
       "      <th>Phone2_NBR</th>\n",
       "      <th>Phone3_NBR</th>\n",
       "    </tr>\n",
       "  </thead>\n",
       "  <tbody>\n",
       "    <tr>\n",
       "      <th>0</th>\n",
       "      <td>10001</td>\n",
       "      <td>123456891</td>\n",
       "      <td>Upperbody</td>\n",
       "      <td>2386.041022</td>\n",
       "      <td>C</td>\n",
       "      <td>O</td>\n",
       "      <td>C</td>\n",
       "    </tr>\n",
       "    <tr>\n",
       "      <th>1</th>\n",
       "      <td>10002</td>\n",
       "      <td>123456891</td>\n",
       "      <td>Upperbody</td>\n",
       "      <td>7219.568003</td>\n",
       "      <td>C</td>\n",
       "      <td>O</td>\n",
       "      <td>C</td>\n",
       "    </tr>\n",
       "    <tr>\n",
       "      <th>2</th>\n",
       "      <td>10003</td>\n",
       "      <td>123456891</td>\n",
       "      <td>Upperbody</td>\n",
       "      <td>1110.167181</td>\n",
       "      <td>C</td>\n",
       "      <td>O</td>\n",
       "      <td>C</td>\n",
       "    </tr>\n",
       "    <tr>\n",
       "      <th>3</th>\n",
       "      <td>10004</td>\n",
       "      <td>123456891</td>\n",
       "      <td>Upperbody</td>\n",
       "      <td>4522.639998</td>\n",
       "      <td>C</td>\n",
       "      <td>O</td>\n",
       "      <td>C</td>\n",
       "    </tr>\n",
       "    <tr>\n",
       "      <th>4</th>\n",
       "      <td>10005</td>\n",
       "      <td>123456891</td>\n",
       "      <td>Upperbody</td>\n",
       "      <td>7305.192980</td>\n",
       "      <td>C</td>\n",
       "      <td>O</td>\n",
       "      <td>C</td>\n",
       "    </tr>\n",
       "  </tbody>\n",
       "</table>\n",
       "</div>"
      ],
      "text/plain": [
       "   patientid  membershid    groupid   person_nbr Primary_Phone_NBR Phone2_NBR  \\\n",
       "0      10001   123456891  Upperbody  2386.041022                 C          O   \n",
       "1      10002   123456891  Upperbody  7219.568003                 C          O   \n",
       "2      10003   123456891  Upperbody  1110.167181                 C          O   \n",
       "3      10004   123456891  Upperbody  4522.639998                 C          O   \n",
       "4      10005   123456891  Upperbody  7305.192980                 C          O   \n",
       "\n",
       "  Phone3_NBR  \n",
       "0          C  \n",
       "1          C  \n",
       "2          C  \n",
       "3          C  \n",
       "4          C  "
      ]
     },
     "execution_count": 22,
     "metadata": {},
     "output_type": "execute_result"
    }
   ],
   "source": [
    "bbb_p_add_merge.head()"
   ]
  },
  {
   "cell_type": "code",
   "execution_count": 23,
   "id": "37757422",
   "metadata": {},
   "outputs": [
    {
     "data": {
      "text/html": [
       "<div>\n",
       "<style scoped>\n",
       "    .dataframe tbody tr th:only-of-type {\n",
       "        vertical-align: middle;\n",
       "    }\n",
       "\n",
       "    .dataframe tbody tr th {\n",
       "        vertical-align: top;\n",
       "    }\n",
       "\n",
       "    .dataframe thead th {\n",
       "        text-align: right;\n",
       "    }\n",
       "</style>\n",
       "<table border=\"1\" class=\"dataframe\">\n",
       "  <thead>\n",
       "    <tr style=\"text-align: right;\">\n",
       "      <th></th>\n",
       "      <th>patientid</th>\n",
       "      <th>membershid</th>\n",
       "      <th>groupid</th>\n",
       "      <th>person_nbr</th>\n",
       "      <th>Primary_Phone_NBR</th>\n",
       "      <th>Phone2_NBR</th>\n",
       "      <th>Phone3_NBR</th>\n",
       "    </tr>\n",
       "  </thead>\n",
       "  <tbody>\n",
       "    <tr>\n",
       "      <th>10114</th>\n",
       "      <td>20115</td>\n",
       "      <td>123456896</td>\n",
       "      <td>Nerves</td>\n",
       "      <td>2985.574310</td>\n",
       "      <td>C</td>\n",
       "      <td>H</td>\n",
       "      <td>C</td>\n",
       "    </tr>\n",
       "    <tr>\n",
       "      <th>10115</th>\n",
       "      <td>20116</td>\n",
       "      <td>123456896</td>\n",
       "      <td>Nerves</td>\n",
       "      <td>9698.888692</td>\n",
       "      <td>C</td>\n",
       "      <td>H</td>\n",
       "      <td>C</td>\n",
       "    </tr>\n",
       "    <tr>\n",
       "      <th>10116</th>\n",
       "      <td>20117</td>\n",
       "      <td>123456896</td>\n",
       "      <td>Nerves</td>\n",
       "      <td>3305.456074</td>\n",
       "      <td>C</td>\n",
       "      <td>H</td>\n",
       "      <td>C</td>\n",
       "    </tr>\n",
       "    <tr>\n",
       "      <th>10117</th>\n",
       "      <td>20118</td>\n",
       "      <td>123456896</td>\n",
       "      <td>Nerves</td>\n",
       "      <td>9179.853623</td>\n",
       "      <td>C</td>\n",
       "      <td>H</td>\n",
       "      <td>C</td>\n",
       "    </tr>\n",
       "    <tr>\n",
       "      <th>10118</th>\n",
       "      <td>20119</td>\n",
       "      <td>123456896</td>\n",
       "      <td>Nerves</td>\n",
       "      <td>2048.429434</td>\n",
       "      <td>C</td>\n",
       "      <td>H</td>\n",
       "      <td>C</td>\n",
       "    </tr>\n",
       "  </tbody>\n",
       "</table>\n",
       "</div>"
      ],
      "text/plain": [
       "       patientid  membershid groupid   person_nbr Primary_Phone_NBR  \\\n",
       "10114      20115   123456896  Nerves  2985.574310                 C   \n",
       "10115      20116   123456896  Nerves  9698.888692                 C   \n",
       "10116      20117   123456896  Nerves  3305.456074                 C   \n",
       "10117      20118   123456896  Nerves  9179.853623                 C   \n",
       "10118      20119   123456896  Nerves  2048.429434                 C   \n",
       "\n",
       "      Phone2_NBR Phone3_NBR  \n",
       "10114          H          C  \n",
       "10115          H          C  \n",
       "10116          H          C  \n",
       "10117          H          C  \n",
       "10118          H          C  "
      ]
     },
     "execution_count": 23,
     "metadata": {},
     "output_type": "execute_result"
    }
   ],
   "source": [
    "bbb_p_add_merge.tail()"
   ]
  },
  {
   "cell_type": "code",
   "execution_count": 24,
   "id": "44fd7a45",
   "metadata": {},
   "outputs": [
    {
     "data": {
      "text/plain": [
       "(10119, 7)"
      ]
     },
     "execution_count": 24,
     "metadata": {},
     "output_type": "execute_result"
    }
   ],
   "source": [
    "bbb_p_add_merge.shape"
   ]
  },
  {
   "cell_type": "code",
   "execution_count": 25,
   "id": "298fc324",
   "metadata": {},
   "outputs": [],
   "source": [
    "#add celflag column in bbb_p_add_merge"
   ]
  },
  {
   "cell_type": "code",
   "execution_count": 8,
   "id": "7c9f62a2",
   "metadata": {},
   "outputs": [],
   "source": [
    "bbb_p_add_merge[\"Cell_Flag\"]=\"\""
   ]
  },
  {
   "cell_type": "code",
   "execution_count": 27,
   "id": "d57c176f",
   "metadata": {},
   "outputs": [
    {
     "data": {
      "text/plain": [
       "Index(['patientid', 'membershid', 'groupid', 'person_nbr', 'Primary_Phone_NBR',\n",
       "       'Phone2_NBR', 'Phone3_NBR', 'Cell_Flag'],\n",
       "      dtype='object')"
      ]
     },
     "execution_count": 27,
     "metadata": {},
     "output_type": "execute_result"
    }
   ],
   "source": [
    "bbb_p_add_merge.columns"
   ]
  },
  {
   "cell_type": "code",
   "execution_count": 28,
   "id": "9d3bf7f3",
   "metadata": {},
   "outputs": [],
   "source": [
    "# -----updating cell flag p, wher primanphonenmbr=c \n"
   ]
  },
  {
   "cell_type": "code",
   "execution_count": 9,
   "id": "0ad7b066",
   "metadata": {},
   "outputs": [],
   "source": [
    "bbb_p_add_merge[\"Cell_Flag\"]=np.where(bbb_p_add_merge[\"Primary_Phone_NBR\"]==\"C\",\"P\",bbb_p_add_merge[\"Cell_Flag\"])"
   ]
  },
  {
   "cell_type": "code",
   "execution_count": 10,
   "id": "ce688a91",
   "metadata": {},
   "outputs": [
    {
     "data": {
      "text/plain": [
       "array(['P', ''], dtype=object)"
      ]
     },
     "execution_count": 10,
     "metadata": {},
     "output_type": "execute_result"
    }
   ],
   "source": [
    "bbb_p_add_merge.Cell_Flag.unique()"
   ]
  },
  {
   "cell_type": "code",
   "execution_count": 11,
   "id": "910f6a45",
   "metadata": {},
   "outputs": [],
   "source": [
    "# -----updating cell flag s, wher priman!=c pr2=c \n",
    "\n",
    "bbb_p_add_merge[\"Cell_Flag\"]=np.where((bbb_p_add_merge[\"Primary_Phone_NBR\"]!=\"C\") & (bbb_p_add_merge[\"Phone2_NBR\"]==\"C\"),\n",
    "                                      \"S\",\n",
    "                                      bbb_p_add_merge[\"Cell_Flag\"])\n",
    "                                     \n"
   ]
  },
  {
   "cell_type": "code",
   "execution_count": 12,
   "id": "f17854be",
   "metadata": {},
   "outputs": [
    {
     "data": {
      "text/plain": [
       "array(['P', 'S', ''], dtype=object)"
      ]
     },
     "execution_count": 12,
     "metadata": {},
     "output_type": "execute_result"
    }
   ],
   "source": [
    "bbb_p_add_merge.Cell_Flag.unique()"
   ]
  },
  {
   "cell_type": "code",
   "execution_count": 13,
   "id": "f12248ba",
   "metadata": {},
   "outputs": [
    {
     "data": {
      "text/plain": [
       "     4630\n",
       "P    3747\n",
       "S    1742\n",
       "Name: Cell_Flag, dtype: int64"
      ]
     },
     "execution_count": 13,
     "metadata": {},
     "output_type": "execute_result"
    }
   ],
   "source": [
    "bbb_p_add_merge.Cell_Flag.value_counts()"
   ]
  },
  {
   "cell_type": "code",
   "execution_count": 34,
   "id": "b0758296",
   "metadata": {},
   "outputs": [],
   "source": [
    "# -----updating cell flag s, wher priman!=c pr3=c \n"
   ]
  },
  {
   "cell_type": "code",
   "execution_count": 14,
   "id": "2ac09249",
   "metadata": {},
   "outputs": [],
   "source": [
    "bbb_p_add_merge[\"Cell_Flag\"]=np.where((bbb_p_add_merge[\"Primary_Phone_NBR\"]!=\"C\") & (bbb_p_add_merge[\"Phone3_NBR\"]==\"C\"),\"S\",bbb_p_add_merge[\"Cell_Flag\"])\n",
    "                                     "
   ]
  },
  {
   "cell_type": "code",
   "execution_count": 15,
   "id": "5876d511",
   "metadata": {},
   "outputs": [
    {
     "data": {
      "text/plain": [
       "S    5590\n",
       "P    3747\n",
       "      782\n",
       "Name: Cell_Flag, dtype: int64"
      ]
     },
     "execution_count": 15,
     "metadata": {},
     "output_type": "execute_result"
    }
   ],
   "source": [
    "bbb_p_add_merge.Cell_Flag.value_counts()"
   ]
  },
  {
   "cell_type": "code",
   "execution_count": 16,
   "id": "d2049e1d",
   "metadata": {},
   "outputs": [],
   "source": [
    "# -----updating cell flag, N, wher priman!=c pr2=!c \n",
    "\n",
    "bbb_p_add_merge[\"Cell_Flag\"]=np.where((bbb_p_add_merge[\"Primary_Phone_NBR\"]!=\"C\") &(bbb_p_add_merge[\"Phone2_NBR\"]!=\"C\"),\"N\",\n",
    "                                      bbb_p_add_merge[\"Cell_Flag\"])"
   ]
  },
  {
   "cell_type": "code",
   "execution_count": 17,
   "id": "6583f6b0",
   "metadata": {},
   "outputs": [
    {
     "data": {
      "text/plain": [
       "N    4630\n",
       "P    3747\n",
       "S    1742\n",
       "Name: Cell_Flag, dtype: int64"
      ]
     },
     "execution_count": 17,
     "metadata": {},
     "output_type": "execute_result"
    }
   ],
   "source": [
    "bbb_p_add_merge.Cell_Flag.value_counts()"
   ]
  },
  {
   "cell_type": "code",
   "execution_count": 18,
   "id": "f2f2dea9",
   "metadata": {},
   "outputs": [],
   "source": [
    "# -----updating cell flag,N, wher priman!=c  pr3!=c------>\n",
    "\n",
    "bbb_p_add_merge[\"Cell_Flag\"]=np.where((bbb_p_add_merge[\"Primary_Phone_NBR\"]!=\"C\") & (bbb_p_add_merge[\"Phone3_NBR\"]!=\"C\"),\"N\",\n",
    "                                      bbb_p_add_merge[\"Cell_Flag\"])\n",
    "                                     "
   ]
  },
  {
   "cell_type": "code",
   "execution_count": 19,
   "id": "626d44b4",
   "metadata": {},
   "outputs": [
    {
     "data": {
      "text/plain": [
       "N    6371\n",
       "P    3747\n",
       "S       1\n",
       "Name: Cell_Flag, dtype: int64"
      ]
     },
     "execution_count": 19,
     "metadata": {},
     "output_type": "execute_result"
    }
   ],
   "source": [
    "bbb_p_add_merge.Cell_Flag.value_counts()"
   ]
  },
  {
   "cell_type": "code",
   "execution_count": 20,
   "id": "c2880cb7",
   "metadata": {},
   "outputs": [
    {
     "data": {
      "text/plain": [
       "array(['P', 'N', 'S'], dtype=object)"
      ]
     },
     "execution_count": 20,
     "metadata": {},
     "output_type": "execute_result"
    }
   ],
   "source": [
    "bbb_p_add_merge.Cell_Flag.unique()"
   ]
  },
  {
   "cell_type": "code",
   "execution_count": 42,
   "id": "6b58a9d5",
   "metadata": {},
   "outputs": [
    {
     "ename": "NameError",
     "evalue": "name 'bbb_p_add_merge_P' is not defined",
     "output_type": "error",
     "traceback": [
      "\u001b[1;31m---------------------------------------------------------------------------\u001b[0m",
      "\u001b[1;31mNameError\u001b[0m                                 Traceback (most recent call last)",
      "Cell \u001b[1;32mIn[42], line 1\u001b[0m\n\u001b[1;32m----> 1\u001b[0m \u001b[43mbbb_p_add_merge_P\u001b[49m\u001b[38;5;241m.\u001b[39mcolumns\n",
      "\u001b[1;31mNameError\u001b[0m: name 'bbb_p_add_merge_P' is not defined"
     ]
    }
   ],
   "source": [
    "bbb_p_add_merge_P.columns"
   ]
  },
  {
   "cell_type": "code",
   "execution_count": null,
   "id": "bbdbd1da",
   "metadata": {},
   "outputs": [],
   "source": [
    "#add flag colum ,cellflag=p,flag=Total BBB patients'p'and cellflag=s,flag=Total BBB patients's'andcellflag=N,flag=Total BBB patients'N'"
   ]
  },
  {
   "cell_type": "code",
   "execution_count": 21,
   "id": "c02b45af",
   "metadata": {},
   "outputs": [],
   "source": [
    "bbb_p_add_merge['Flag']=\"Total BBB patients\"\n"
   ]
  },
  {
   "cell_type": "code",
   "execution_count": 22,
   "id": "5d9bf652",
   "metadata": {},
   "outputs": [],
   "source": [
    "#this method only flag value =\"Total BBB patients \"\n",
    "bbb_p_add_merge_P=bbb_p_add_merge[bbb_p_add_merge.Cell_Flag==\"P\"]\n",
    "bbb_p_add_merge_S=bbb_p_add_merge[bbb_p_add_merge.Cell_Flag==\"S\"]\n",
    "bbb_p_add_merge_N=bbb_p_add_merge[bbb_p_add_merge.Cell_Flag==\"N\"]"
   ]
  },
  {
   "cell_type": "code",
   "execution_count": 23,
   "id": "65d3efa6",
   "metadata": {},
   "outputs": [
    {
     "name": "stderr",
     "output_type": "stream",
     "text": [
      "C:\\Users\\hp\\AppData\\Local\\Temp\\ipykernel_17036\\938095204.py:1: SettingWithCopyWarning: \n",
      "A value is trying to be set on a copy of a slice from a DataFrame.\n",
      "Try using .loc[row_indexer,col_indexer] = value instead\n",
      "\n",
      "See the caveats in the documentation: https://pandas.pydata.org/pandas-docs/stable/user_guide/indexing.html#returning-a-view-versus-a-copy\n",
      "  bbb_p_add_merge_P[\"Flag\"]=\"Total BBB patients with cell flag P\"\n",
      "C:\\Users\\hp\\AppData\\Local\\Temp\\ipykernel_17036\\938095204.py:2: SettingWithCopyWarning: \n",
      "A value is trying to be set on a copy of a slice from a DataFrame.\n",
      "Try using .loc[row_indexer,col_indexer] = value instead\n",
      "\n",
      "See the caveats in the documentation: https://pandas.pydata.org/pandas-docs/stable/user_guide/indexing.html#returning-a-view-versus-a-copy\n",
      "  bbb_p_add_merge_S[\"Flag\"]=\"Total BBB patients with cell flag S\"\n",
      "C:\\Users\\hp\\AppData\\Local\\Temp\\ipykernel_17036\\938095204.py:3: SettingWithCopyWarning: \n",
      "A value is trying to be set on a copy of a slice from a DataFrame.\n",
      "Try using .loc[row_indexer,col_indexer] = value instead\n",
      "\n",
      "See the caveats in the documentation: https://pandas.pydata.org/pandas-docs/stable/user_guide/indexing.html#returning-a-view-versus-a-copy\n",
      "  bbb_p_add_merge_N[\"Flag\"]=\"Total BBB patients with cell flag N\"\n"
     ]
    }
   ],
   "source": [
    "bbb_p_add_merge_P[\"Flag\"]=\"Total BBB patients with cell flag P\"\n",
    "bbb_p_add_merge_S[\"Flag\"]=\"Total BBB patients with cell flag S\"\n",
    "bbb_p_add_merge_N[\"Flag\"]=\"Total BBB patients with cell flag N\"\n",
    "\n",
    "#this method flag value=\"Total BBB patients with cell flag P\""
   ]
  },
  {
   "cell_type": "code",
   "execution_count": 24,
   "id": "b6a920db",
   "metadata": {},
   "outputs": [
    {
     "data": {
      "text/html": [
       "<div>\n",
       "<style scoped>\n",
       "    .dataframe tbody tr th:only-of-type {\n",
       "        vertical-align: middle;\n",
       "    }\n",
       "\n",
       "    .dataframe tbody tr th {\n",
       "        vertical-align: top;\n",
       "    }\n",
       "\n",
       "    .dataframe thead th {\n",
       "        text-align: right;\n",
       "    }\n",
       "</style>\n",
       "<table border=\"1\" class=\"dataframe\">\n",
       "  <thead>\n",
       "    <tr style=\"text-align: right;\">\n",
       "      <th></th>\n",
       "      <th>patientid</th>\n",
       "      <th>membershid</th>\n",
       "      <th>groupid</th>\n",
       "      <th>person_nbr</th>\n",
       "      <th>Primary_Phone_NBR</th>\n",
       "      <th>Phone2_NBR</th>\n",
       "      <th>Phone3_NBR</th>\n",
       "      <th>Cell_Flag</th>\n",
       "      <th>Flag</th>\n",
       "    </tr>\n",
       "  </thead>\n",
       "  <tbody>\n",
       "    <tr>\n",
       "      <th>0</th>\n",
       "      <td>10001</td>\n",
       "      <td>123456891</td>\n",
       "      <td>Upperbody</td>\n",
       "      <td>2386.041022</td>\n",
       "      <td>C</td>\n",
       "      <td>O</td>\n",
       "      <td>C</td>\n",
       "      <td>P</td>\n",
       "      <td>Total BBB patients with cell flag P</td>\n",
       "    </tr>\n",
       "    <tr>\n",
       "      <th>1</th>\n",
       "      <td>10002</td>\n",
       "      <td>123456891</td>\n",
       "      <td>Upperbody</td>\n",
       "      <td>7219.568003</td>\n",
       "      <td>C</td>\n",
       "      <td>O</td>\n",
       "      <td>C</td>\n",
       "      <td>P</td>\n",
       "      <td>Total BBB patients with cell flag P</td>\n",
       "    </tr>\n",
       "    <tr>\n",
       "      <th>2</th>\n",
       "      <td>10003</td>\n",
       "      <td>123456891</td>\n",
       "      <td>Upperbody</td>\n",
       "      <td>1110.167181</td>\n",
       "      <td>C</td>\n",
       "      <td>O</td>\n",
       "      <td>C</td>\n",
       "      <td>P</td>\n",
       "      <td>Total BBB patients with cell flag P</td>\n",
       "    </tr>\n",
       "    <tr>\n",
       "      <th>3</th>\n",
       "      <td>10004</td>\n",
       "      <td>123456891</td>\n",
       "      <td>Upperbody</td>\n",
       "      <td>4522.639998</td>\n",
       "      <td>C</td>\n",
       "      <td>O</td>\n",
       "      <td>C</td>\n",
       "      <td>P</td>\n",
       "      <td>Total BBB patients with cell flag P</td>\n",
       "    </tr>\n",
       "    <tr>\n",
       "      <th>4</th>\n",
       "      <td>10005</td>\n",
       "      <td>123456891</td>\n",
       "      <td>Upperbody</td>\n",
       "      <td>7305.192980</td>\n",
       "      <td>C</td>\n",
       "      <td>O</td>\n",
       "      <td>C</td>\n",
       "      <td>P</td>\n",
       "      <td>Total BBB patients with cell flag P</td>\n",
       "    </tr>\n",
       "  </tbody>\n",
       "</table>\n",
       "</div>"
      ],
      "text/plain": [
       "   patientid  membershid    groupid   person_nbr Primary_Phone_NBR Phone2_NBR  \\\n",
       "0      10001   123456891  Upperbody  2386.041022                 C          O   \n",
       "1      10002   123456891  Upperbody  7219.568003                 C          O   \n",
       "2      10003   123456891  Upperbody  1110.167181                 C          O   \n",
       "3      10004   123456891  Upperbody  4522.639998                 C          O   \n",
       "4      10005   123456891  Upperbody  7305.192980                 C          O   \n",
       "\n",
       "  Phone3_NBR Cell_Flag                                 Flag  \n",
       "0          C         P  Total BBB patients with cell flag P  \n",
       "1          C         P  Total BBB patients with cell flag P  \n",
       "2          C         P  Total BBB patients with cell flag P  \n",
       "3          C         P  Total BBB patients with cell flag P  \n",
       "4          C         P  Total BBB patients with cell flag P  "
      ]
     },
     "execution_count": 24,
     "metadata": {},
     "output_type": "execute_result"
    }
   ],
   "source": [
    "bbb_p_add_merge_P.head()"
   ]
  },
  {
   "cell_type": "code",
   "execution_count": 25,
   "id": "0b3890e3",
   "metadata": {},
   "outputs": [
    {
     "data": {
      "text/html": [
       "<div>\n",
       "<style scoped>\n",
       "    .dataframe tbody tr th:only-of-type {\n",
       "        vertical-align: middle;\n",
       "    }\n",
       "\n",
       "    .dataframe tbody tr th {\n",
       "        vertical-align: top;\n",
       "    }\n",
       "\n",
       "    .dataframe thead th {\n",
       "        text-align: right;\n",
       "    }\n",
       "</style>\n",
       "<table border=\"1\" class=\"dataframe\">\n",
       "  <thead>\n",
       "    <tr style=\"text-align: right;\">\n",
       "      <th></th>\n",
       "      <th>patientid</th>\n",
       "      <th>membershid</th>\n",
       "      <th>groupid</th>\n",
       "      <th>person_nbr</th>\n",
       "      <th>Primary_Phone_NBR</th>\n",
       "      <th>Phone2_NBR</th>\n",
       "      <th>Phone3_NBR</th>\n",
       "      <th>Cell_Flag</th>\n",
       "      <th>Flag</th>\n",
       "    </tr>\n",
       "  </thead>\n",
       "  <tbody>\n",
       "    <tr>\n",
       "      <th>7117</th>\n",
       "      <td>17118</td>\n",
       "      <td>123456895</td>\n",
       "      <td>Obesity</td>\n",
       "      <td>1969.190691</td>\n",
       "      <td>O</td>\n",
       "      <td>C</td>\n",
       "      <td>C</td>\n",
       "      <td>S</td>\n",
       "      <td>Total BBB patients with cell flag S</td>\n",
       "    </tr>\n",
       "  </tbody>\n",
       "</table>\n",
       "</div>"
      ],
      "text/plain": [
       "      patientid  membershid  groupid   person_nbr Primary_Phone_NBR  \\\n",
       "7117      17118   123456895  Obesity  1969.190691                 O   \n",
       "\n",
       "     Phone2_NBR Phone3_NBR Cell_Flag                                 Flag  \n",
       "7117          C          C         S  Total BBB patients with cell flag S  "
      ]
     },
     "execution_count": 25,
     "metadata": {},
     "output_type": "execute_result"
    }
   ],
   "source": [
    "bbb_p_add_merge_S.head()"
   ]
  },
  {
   "cell_type": "code",
   "execution_count": 26,
   "id": "2fdf91c2",
   "metadata": {},
   "outputs": [
    {
     "data": {
      "text/html": [
       "<div>\n",
       "<style scoped>\n",
       "    .dataframe tbody tr th:only-of-type {\n",
       "        vertical-align: middle;\n",
       "    }\n",
       "\n",
       "    .dataframe tbody tr th {\n",
       "        vertical-align: top;\n",
       "    }\n",
       "\n",
       "    .dataframe thead th {\n",
       "        text-align: right;\n",
       "    }\n",
       "</style>\n",
       "<table border=\"1\" class=\"dataframe\">\n",
       "  <thead>\n",
       "    <tr style=\"text-align: right;\">\n",
       "      <th></th>\n",
       "      <th>patientid</th>\n",
       "      <th>membershid</th>\n",
       "      <th>groupid</th>\n",
       "      <th>person_nbr</th>\n",
       "      <th>Primary_Phone_NBR</th>\n",
       "      <th>Phone2_NBR</th>\n",
       "      <th>Phone3_NBR</th>\n",
       "      <th>Cell_Flag</th>\n",
       "      <th>Flag</th>\n",
       "    </tr>\n",
       "  </thead>\n",
       "  <tbody>\n",
       "    <tr>\n",
       "      <th>614</th>\n",
       "      <td>10615</td>\n",
       "      <td>123456891</td>\n",
       "      <td>Lowerbody</td>\n",
       "      <td>3303.046210</td>\n",
       "      <td>O</td>\n",
       "      <td>C</td>\n",
       "      <td>O</td>\n",
       "      <td>N</td>\n",
       "      <td>Total BBB patients with cell flag N</td>\n",
       "    </tr>\n",
       "    <tr>\n",
       "      <th>615</th>\n",
       "      <td>10616</td>\n",
       "      <td>123456891</td>\n",
       "      <td>Lowerbody</td>\n",
       "      <td>4080.627852</td>\n",
       "      <td>O</td>\n",
       "      <td>C</td>\n",
       "      <td>O</td>\n",
       "      <td>N</td>\n",
       "      <td>Total BBB patients with cell flag N</td>\n",
       "    </tr>\n",
       "    <tr>\n",
       "      <th>616</th>\n",
       "      <td>10617</td>\n",
       "      <td>123456891</td>\n",
       "      <td>Lowerbody</td>\n",
       "      <td>4888.358478</td>\n",
       "      <td>O</td>\n",
       "      <td>C</td>\n",
       "      <td>O</td>\n",
       "      <td>N</td>\n",
       "      <td>Total BBB patients with cell flag N</td>\n",
       "    </tr>\n",
       "    <tr>\n",
       "      <th>617</th>\n",
       "      <td>10618</td>\n",
       "      <td>123456891</td>\n",
       "      <td>Lowerbody</td>\n",
       "      <td>9764.582779</td>\n",
       "      <td>O</td>\n",
       "      <td>C</td>\n",
       "      <td>O</td>\n",
       "      <td>N</td>\n",
       "      <td>Total BBB patients with cell flag N</td>\n",
       "    </tr>\n",
       "    <tr>\n",
       "      <th>618</th>\n",
       "      <td>10619</td>\n",
       "      <td>123456891</td>\n",
       "      <td>Lowerbody</td>\n",
       "      <td>7557.726735</td>\n",
       "      <td>O</td>\n",
       "      <td>C</td>\n",
       "      <td>O</td>\n",
       "      <td>N</td>\n",
       "      <td>Total BBB patients with cell flag N</td>\n",
       "    </tr>\n",
       "  </tbody>\n",
       "</table>\n",
       "</div>"
      ],
      "text/plain": [
       "     patientid  membershid    groupid   person_nbr Primary_Phone_NBR  \\\n",
       "614      10615   123456891  Lowerbody  3303.046210                 O   \n",
       "615      10616   123456891  Lowerbody  4080.627852                 O   \n",
       "616      10617   123456891  Lowerbody  4888.358478                 O   \n",
       "617      10618   123456891  Lowerbody  9764.582779                 O   \n",
       "618      10619   123456891  Lowerbody  7557.726735                 O   \n",
       "\n",
       "    Phone2_NBR Phone3_NBR Cell_Flag                                 Flag  \n",
       "614          C          O         N  Total BBB patients with cell flag N  \n",
       "615          C          O         N  Total BBB patients with cell flag N  \n",
       "616          C          O         N  Total BBB patients with cell flag N  \n",
       "617          C          O         N  Total BBB patients with cell flag N  \n",
       "618          C          O         N  Total BBB patients with cell flag N  "
      ]
     },
     "execution_count": 26,
     "metadata": {},
     "output_type": "execute_result"
    }
   ],
   "source": [
    "bbb_p_add_merge_N.head()"
   ]
  },
  {
   "cell_type": "code",
   "execution_count": 27,
   "id": "eac1a53a",
   "metadata": {},
   "outputs": [
    {
     "data": {
      "text/html": [
       "<div>\n",
       "<style scoped>\n",
       "    .dataframe tbody tr th:only-of-type {\n",
       "        vertical-align: middle;\n",
       "    }\n",
       "\n",
       "    .dataframe tbody tr th {\n",
       "        vertical-align: top;\n",
       "    }\n",
       "\n",
       "    .dataframe thead th {\n",
       "        text-align: right;\n",
       "    }\n",
       "</style>\n",
       "<table border=\"1\" class=\"dataframe\">\n",
       "  <thead>\n",
       "    <tr style=\"text-align: right;\">\n",
       "      <th></th>\n",
       "      <th>patientid</th>\n",
       "      <th>membershid</th>\n",
       "      <th>groupid</th>\n",
       "      <th>person_nbr</th>\n",
       "      <th>Primary_Phone_NBR</th>\n",
       "      <th>Phone2_NBR</th>\n",
       "      <th>Phone3_NBR</th>\n",
       "      <th>Cell_Flag</th>\n",
       "      <th>Flag</th>\n",
       "    </tr>\n",
       "  </thead>\n",
       "  <tbody>\n",
       "    <tr>\n",
       "      <th>7117</th>\n",
       "      <td>17118</td>\n",
       "      <td>123456895</td>\n",
       "      <td>Obesity</td>\n",
       "      <td>1969.190691</td>\n",
       "      <td>O</td>\n",
       "      <td>C</td>\n",
       "      <td>C</td>\n",
       "      <td>S</td>\n",
       "      <td>Total BBB patients with cell flag S</td>\n",
       "    </tr>\n",
       "  </tbody>\n",
       "</table>\n",
       "</div>"
      ],
      "text/plain": [
       "      patientid  membershid  groupid   person_nbr Primary_Phone_NBR  \\\n",
       "7117      17118   123456895  Obesity  1969.190691                 O   \n",
       "\n",
       "     Phone2_NBR Phone3_NBR Cell_Flag                                 Flag  \n",
       "7117          C          C         S  Total BBB patients with cell flag S  "
      ]
     },
     "execution_count": 27,
     "metadata": {},
     "output_type": "execute_result"
    }
   ],
   "source": [
    "bbb_p_add_merge_S.head()"
   ]
  },
  {
   "cell_type": "code",
   "execution_count": 28,
   "id": "2742df94",
   "metadata": {},
   "outputs": [],
   "source": [
    "# bbb_p_add_merge, bbb_p_add_merge_P,bbb_p_add_merge_S,bbb_p_add_merge_N\n",
    "bbb_p_add_merge_sm=bbb_p_add_merge.groupby([\"Flag\"])[\"patientid\"].count()"
   ]
  },
  {
   "cell_type": "code",
   "execution_count": 29,
   "id": "f2c12300",
   "metadata": {},
   "outputs": [
    {
     "data": {
      "text/plain": [
       "Flag\n",
       "Total BBB patients    10119\n",
       "Name: patientid, dtype: int64"
      ]
     },
     "execution_count": 29,
     "metadata": {},
     "output_type": "execute_result"
    }
   ],
   "source": [
    "bbb_p_add_merge_sm"
   ]
  },
  {
   "cell_type": "code",
   "execution_count": 30,
   "id": "1c1af7fa",
   "metadata": {},
   "outputs": [
    {
     "data": {
      "text/html": [
       "<div>\n",
       "<style scoped>\n",
       "    .dataframe tbody tr th:only-of-type {\n",
       "        vertical-align: middle;\n",
       "    }\n",
       "\n",
       "    .dataframe tbody tr th {\n",
       "        vertical-align: top;\n",
       "    }\n",
       "\n",
       "    .dataframe thead th {\n",
       "        text-align: right;\n",
       "    }\n",
       "</style>\n",
       "<table border=\"1\" class=\"dataframe\">\n",
       "  <thead>\n",
       "    <tr style=\"text-align: right;\">\n",
       "      <th></th>\n",
       "      <th>Flag</th>\n",
       "      <th>patientid</th>\n",
       "    </tr>\n",
       "  </thead>\n",
       "  <tbody>\n",
       "    <tr>\n",
       "      <th>0</th>\n",
       "      <td>Total BBB patients with cell flag P</td>\n",
       "      <td>3747</td>\n",
       "    </tr>\n",
       "  </tbody>\n",
       "</table>\n",
       "</div>"
      ],
      "text/plain": [
       "                                  Flag  patientid\n",
       "0  Total BBB patients with cell flag P       3747"
      ]
     },
     "execution_count": 30,
     "metadata": {},
     "output_type": "execute_result"
    }
   ],
   "source": [
    "bbb_p_add_merge_P_sm=bbb_p_add_merge_P.groupby([\"Flag\"])[\"patientid\"].count()\n",
    "bbb_p_add_merge_P_sm_ndf=pd.DataFrame(bbb_p_add_merge_P_sm)\n",
    "bbb_p_add_merge_P_sm_ndf.reset_index(inplace=True)\n",
    "bbb_p_add_merge_P_sm_ndf"
   ]
  },
  {
   "cell_type": "code",
   "execution_count": 31,
   "id": "de668cc4",
   "metadata": {},
   "outputs": [
    {
     "data": {
      "text/html": [
       "<div>\n",
       "<style scoped>\n",
       "    .dataframe tbody tr th:only-of-type {\n",
       "        vertical-align: middle;\n",
       "    }\n",
       "\n",
       "    .dataframe tbody tr th {\n",
       "        vertical-align: top;\n",
       "    }\n",
       "\n",
       "    .dataframe thead th {\n",
       "        text-align: right;\n",
       "    }\n",
       "</style>\n",
       "<table border=\"1\" class=\"dataframe\">\n",
       "  <thead>\n",
       "    <tr style=\"text-align: right;\">\n",
       "      <th></th>\n",
       "      <th>Flag</th>\n",
       "      <th>patientid</th>\n",
       "    </tr>\n",
       "  </thead>\n",
       "  <tbody>\n",
       "    <tr>\n",
       "      <th>0</th>\n",
       "      <td>Total BBB patients with cell flag S</td>\n",
       "      <td>1</td>\n",
       "    </tr>\n",
       "  </tbody>\n",
       "</table>\n",
       "</div>"
      ],
      "text/plain": [
       "                                  Flag  patientid\n",
       "0  Total BBB patients with cell flag S          1"
      ]
     },
     "execution_count": 31,
     "metadata": {},
     "output_type": "execute_result"
    }
   ],
   "source": [
    "bbb_p_add_merge_S_sm=bbb_p_add_merge_S.groupby([\"Flag\"])[\"patientid\"].count()\n",
    "bbb_p_add_merge_S_sm_ndf=pd.DataFrame(bbb_p_add_merge_S_sm)\n",
    "bbb_p_add_merge_S_sm_ndf.reset_index(inplace=True)\n",
    "bbb_p_add_merge_S_sm_ndf"
   ]
  },
  {
   "cell_type": "code",
   "execution_count": 32,
   "id": "e9992a09",
   "metadata": {},
   "outputs": [
    {
     "data": {
      "text/html": [
       "<div>\n",
       "<style scoped>\n",
       "    .dataframe tbody tr th:only-of-type {\n",
       "        vertical-align: middle;\n",
       "    }\n",
       "\n",
       "    .dataframe tbody tr th {\n",
       "        vertical-align: top;\n",
       "    }\n",
       "\n",
       "    .dataframe thead th {\n",
       "        text-align: right;\n",
       "    }\n",
       "</style>\n",
       "<table border=\"1\" class=\"dataframe\">\n",
       "  <thead>\n",
       "    <tr style=\"text-align: right;\">\n",
       "      <th></th>\n",
       "      <th>Flag</th>\n",
       "      <th>patientid</th>\n",
       "    </tr>\n",
       "  </thead>\n",
       "  <tbody>\n",
       "    <tr>\n",
       "      <th>0</th>\n",
       "      <td>Total BBB patients with cell flag N</td>\n",
       "      <td>6371</td>\n",
       "    </tr>\n",
       "  </tbody>\n",
       "</table>\n",
       "</div>"
      ],
      "text/plain": [
       "                                  Flag  patientid\n",
       "0  Total BBB patients with cell flag N       6371"
      ]
     },
     "execution_count": 32,
     "metadata": {},
     "output_type": "execute_result"
    }
   ],
   "source": [
    "bbb_p_add_merge_N_sm=bbb_p_add_merge_N.groupby([\"Flag\"])[\"patientid\"].count()\n",
    "bbb_p_add_merge_N_sm_ndf=pd.DataFrame(bbb_p_add_merge_N_sm)\n",
    "bbb_p_add_merge_N_sm_ndf.reset_index(inplace=True)\n",
    "bbb_p_add_merge_N_sm_ndf"
   ]
  },
  {
   "cell_type": "code",
   "execution_count": 33,
   "id": "cef93d9f",
   "metadata": {},
   "outputs": [
    {
     "data": {
      "text/html": [
       "<div>\n",
       "<style scoped>\n",
       "    .dataframe tbody tr th:only-of-type {\n",
       "        vertical-align: middle;\n",
       "    }\n",
       "\n",
       "    .dataframe tbody tr th {\n",
       "        vertical-align: top;\n",
       "    }\n",
       "\n",
       "    .dataframe thead th {\n",
       "        text-align: right;\n",
       "    }\n",
       "</style>\n",
       "<table border=\"1\" class=\"dataframe\">\n",
       "  <thead>\n",
       "    <tr style=\"text-align: right;\">\n",
       "      <th></th>\n",
       "      <th>Flag</th>\n",
       "      <th>patientid</th>\n",
       "    </tr>\n",
       "  </thead>\n",
       "  <tbody>\n",
       "    <tr>\n",
       "      <th>0</th>\n",
       "      <td>Total BBB patients</td>\n",
       "      <td>10119</td>\n",
       "    </tr>\n",
       "  </tbody>\n",
       "</table>\n",
       "</div>"
      ],
      "text/plain": [
       "                 Flag  patientid\n",
       "0  Total BBB patients      10119"
      ]
     },
     "execution_count": 33,
     "metadata": {},
     "output_type": "execute_result"
    }
   ],
   "source": [
    "bbb_p_add_merge_sm_ndf=pd.DataFrame(bbb_p_add_merge_sm)\n",
    "bbb_p_add_merge_sm_ndf.columns\n",
    "\n",
    "bbb_p_add_merge_sm_ndf.reset_index(inplace=True)\n",
    "bbb_p_add_merge_sm_ndf"
   ]
  },
  {
   "cell_type": "code",
   "execution_count": 34,
   "id": "5adbeaf9",
   "metadata": {},
   "outputs": [],
   "source": [
    "# ---append---\n",
    "\n",
    "# bbb_p_add_merge_N_sm_ndf\n",
    "final_df=pd.concat([bbb_p_add_merge_sm_ndf,bbb_p_add_merge_P_sm_ndf,bbb_p_add_merge_S_sm_ndf,bbb_p_add_merge_N_sm_ndf],ignore_index=True, axis=0)"
   ]
  },
  {
   "cell_type": "code",
   "execution_count": 35,
   "id": "ab6fc60a",
   "metadata": {},
   "outputs": [],
   "source": [
    "final_df.columns=[\"Flag\",\"Count\"]"
   ]
  },
  {
   "cell_type": "code",
   "execution_count": 36,
   "id": "965deedb",
   "metadata": {},
   "outputs": [
    {
     "data": {
      "text/html": [
       "<div>\n",
       "<style scoped>\n",
       "    .dataframe tbody tr th:only-of-type {\n",
       "        vertical-align: middle;\n",
       "    }\n",
       "\n",
       "    .dataframe tbody tr th {\n",
       "        vertical-align: top;\n",
       "    }\n",
       "\n",
       "    .dataframe thead th {\n",
       "        text-align: right;\n",
       "    }\n",
       "</style>\n",
       "<table border=\"1\" class=\"dataframe\">\n",
       "  <thead>\n",
       "    <tr style=\"text-align: right;\">\n",
       "      <th></th>\n",
       "      <th>Flag</th>\n",
       "      <th>Count</th>\n",
       "    </tr>\n",
       "  </thead>\n",
       "  <tbody>\n",
       "    <tr>\n",
       "      <th>0</th>\n",
       "      <td>Total BBB patients</td>\n",
       "      <td>10119</td>\n",
       "    </tr>\n",
       "    <tr>\n",
       "      <th>1</th>\n",
       "      <td>Total BBB patients with cell flag P</td>\n",
       "      <td>3747</td>\n",
       "    </tr>\n",
       "    <tr>\n",
       "      <th>2</th>\n",
       "      <td>Total BBB patients with cell flag S</td>\n",
       "      <td>1</td>\n",
       "    </tr>\n",
       "    <tr>\n",
       "      <th>3</th>\n",
       "      <td>Total BBB patients with cell flag N</td>\n",
       "      <td>6371</td>\n",
       "    </tr>\n",
       "  </tbody>\n",
       "</table>\n",
       "</div>"
      ],
      "text/plain": [
       "                                  Flag  Count\n",
       "0                   Total BBB patients  10119\n",
       "1  Total BBB patients with cell flag P   3747\n",
       "2  Total BBB patients with cell flag S      1\n",
       "3  Total BBB patients with cell flag N   6371"
      ]
     },
     "execution_count": 36,
     "metadata": {},
     "output_type": "execute_result"
    }
   ],
   "source": [
    "final_df"
   ]
  },
  {
   "cell_type": "code",
   "execution_count": 37,
   "id": "bd7dcc1a",
   "metadata": {},
   "outputs": [
    {
     "name": "stdout",
     "output_type": "stream",
     "text": [
      "2023-08-09\n"
     ]
    }
   ],
   "source": [
    "from datetime import date\n",
    "today_date=date.today()\n",
    "print(today_date)"
   ]
  },
  {
   "cell_type": "code",
   "execution_count": 38,
   "id": "34f58a8d",
   "metadata": {},
   "outputs": [
    {
     "name": "stdout",
     "output_type": "stream",
     "text": [
      "15:15:40\n"
     ]
    }
   ],
   "source": [
    "from datetime import datetime\n",
    "time=datetime.now().strftime('%H:%M:%S')\n",
    "print(time)"
   ]
  },
  {
   "cell_type": "code",
   "execution_count": 39,
   "id": "ba303466",
   "metadata": {},
   "outputs": [],
   "source": [
    "final_df['Date']=today_date"
   ]
  },
  {
   "cell_type": "code",
   "execution_count": 40,
   "id": "a766e444",
   "metadata": {},
   "outputs": [],
   "source": [
    "final_df['Time']=time"
   ]
  },
  {
   "cell_type": "code",
   "execution_count": 42,
   "id": "1132b38a",
   "metadata": {},
   "outputs": [
    {
     "data": {
      "text/html": [
       "<div>\n",
       "<style scoped>\n",
       "    .dataframe tbody tr th:only-of-type {\n",
       "        vertical-align: middle;\n",
       "    }\n",
       "\n",
       "    .dataframe tbody tr th {\n",
       "        vertical-align: top;\n",
       "    }\n",
       "\n",
       "    .dataframe thead th {\n",
       "        text-align: right;\n",
       "    }\n",
       "</style>\n",
       "<table border=\"1\" class=\"dataframe\">\n",
       "  <thead>\n",
       "    <tr style=\"text-align: right;\">\n",
       "      <th></th>\n",
       "      <th>Flag</th>\n",
       "      <th>Count</th>\n",
       "      <th>Date</th>\n",
       "      <th>Time</th>\n",
       "    </tr>\n",
       "  </thead>\n",
       "  <tbody>\n",
       "    <tr>\n",
       "      <th>0</th>\n",
       "      <td>Total BBB patients</td>\n",
       "      <td>10119</td>\n",
       "      <td>2023-08-09</td>\n",
       "      <td>15:15:40</td>\n",
       "    </tr>\n",
       "    <tr>\n",
       "      <th>1</th>\n",
       "      <td>Total BBB patients with cell flag P</td>\n",
       "      <td>3747</td>\n",
       "      <td>2023-08-09</td>\n",
       "      <td>15:15:40</td>\n",
       "    </tr>\n",
       "    <tr>\n",
       "      <th>2</th>\n",
       "      <td>Total BBB patients with cell flag S</td>\n",
       "      <td>1</td>\n",
       "      <td>2023-08-09</td>\n",
       "      <td>15:15:40</td>\n",
       "    </tr>\n",
       "    <tr>\n",
       "      <th>3</th>\n",
       "      <td>Total BBB patients with cell flag N</td>\n",
       "      <td>6371</td>\n",
       "      <td>2023-08-09</td>\n",
       "      <td>15:15:40</td>\n",
       "    </tr>\n",
       "  </tbody>\n",
       "</table>\n",
       "</div>"
      ],
      "text/plain": [
       "                                  Flag  Count        Date      Time\n",
       "0                   Total BBB patients  10119  2023-08-09  15:15:40\n",
       "1  Total BBB patients with cell flag P   3747  2023-08-09  15:15:40\n",
       "2  Total BBB patients with cell flag S      1  2023-08-09  15:15:40\n",
       "3  Total BBB patients with cell flag N   6371  2023-08-09  15:15:40"
      ]
     },
     "execution_count": 42,
     "metadata": {},
     "output_type": "execute_result"
    }
   ],
   "source": [
    "final_df"
   ]
  },
  {
   "cell_type": "code",
   "execution_count": null,
   "id": "23fbe415",
   "metadata": {},
   "outputs": [],
   "source": [
    "#import dddpatients and ddd address excel files"
   ]
  },
  {
   "cell_type": "code",
   "execution_count": null,
   "id": "238fb1a6",
   "metadata": {},
   "outputs": [],
   "source": [
    "import pandas as pd\n",
    "import numpy as np\n",
    "#check all level wise"
   ]
  },
  {
   "cell_type": "code",
   "execution_count": 43,
   "id": "993273fd",
   "metadata": {},
   "outputs": [],
   "source": [
    "ddd_p_df=pd.read_excel(\"Downloads\\Insurance_Customers.xlsx\",sheet_name=\"DDD_Patients\")"
   ]
  },
  {
   "cell_type": "code",
   "execution_count": 46,
   "id": "0435afaa",
   "metadata": {},
   "outputs": [
    {
     "data": {
      "text/html": [
       "<div>\n",
       "<style scoped>\n",
       "    .dataframe tbody tr th:only-of-type {\n",
       "        vertical-align: middle;\n",
       "    }\n",
       "\n",
       "    .dataframe tbody tr th {\n",
       "        vertical-align: top;\n",
       "    }\n",
       "\n",
       "    .dataframe thead th {\n",
       "        text-align: right;\n",
       "    }\n",
       "</style>\n",
       "<table border=\"1\" class=\"dataframe\">\n",
       "  <thead>\n",
       "    <tr style=\"text-align: right;\">\n",
       "      <th></th>\n",
       "      <th>patientid</th>\n",
       "      <th>membershid</th>\n",
       "      <th>groupid</th>\n",
       "      <th>person_nbr</th>\n",
       "    </tr>\n",
       "  </thead>\n",
       "  <tbody>\n",
       "    <tr>\n",
       "      <th>0</th>\n",
       "      <td>200001</td>\n",
       "      <td>4456.162497</td>\n",
       "      <td>100</td>\n",
       "      <td>2748.280106</td>\n",
       "    </tr>\n",
       "    <tr>\n",
       "      <th>1</th>\n",
       "      <td>200002</td>\n",
       "      <td>4456.162497</td>\n",
       "      <td>100</td>\n",
       "      <td>3983.633278</td>\n",
       "    </tr>\n",
       "    <tr>\n",
       "      <th>2</th>\n",
       "      <td>200003</td>\n",
       "      <td>4456.162497</td>\n",
       "      <td>100</td>\n",
       "      <td>5918.043203</td>\n",
       "    </tr>\n",
       "    <tr>\n",
       "      <th>3</th>\n",
       "      <td>200004</td>\n",
       "      <td>4456.162497</td>\n",
       "      <td>100</td>\n",
       "      <td>5882.418134</td>\n",
       "    </tr>\n",
       "    <tr>\n",
       "      <th>4</th>\n",
       "      <td>200005</td>\n",
       "      <td>4456.162497</td>\n",
       "      <td>100</td>\n",
       "      <td>3519.095855</td>\n",
       "    </tr>\n",
       "    <tr>\n",
       "      <th>...</th>\n",
       "      <td>...</td>\n",
       "      <td>...</td>\n",
       "      <td>...</td>\n",
       "      <td>...</td>\n",
       "    </tr>\n",
       "    <tr>\n",
       "      <th>84006</th>\n",
       "      <td>284007</td>\n",
       "      <td>61967.640577</td>\n",
       "      <td>108</td>\n",
       "      <td>6406.791285</td>\n",
       "    </tr>\n",
       "    <tr>\n",
       "      <th>84007</th>\n",
       "      <td>284008</td>\n",
       "      <td>61967.640577</td>\n",
       "      <td>108</td>\n",
       "      <td>5736.801838</td>\n",
       "    </tr>\n",
       "    <tr>\n",
       "      <th>84008</th>\n",
       "      <td>284009</td>\n",
       "      <td>61967.640577</td>\n",
       "      <td>108</td>\n",
       "      <td>7613.994822</td>\n",
       "    </tr>\n",
       "    <tr>\n",
       "      <th>84009</th>\n",
       "      <td>284010</td>\n",
       "      <td>61967.640577</td>\n",
       "      <td>108</td>\n",
       "      <td>8530.577571</td>\n",
       "    </tr>\n",
       "    <tr>\n",
       "      <th>84010</th>\n",
       "      <td>284011</td>\n",
       "      <td>61967.640577</td>\n",
       "      <td>108</td>\n",
       "      <td>2140.830791</td>\n",
       "    </tr>\n",
       "  </tbody>\n",
       "</table>\n",
       "<p>84011 rows × 4 columns</p>\n",
       "</div>"
      ],
      "text/plain": [
       "       patientid    membershid  groupid   person_nbr\n",
       "0         200001   4456.162497      100  2748.280106\n",
       "1         200002   4456.162497      100  3983.633278\n",
       "2         200003   4456.162497      100  5918.043203\n",
       "3         200004   4456.162497      100  5882.418134\n",
       "4         200005   4456.162497      100  3519.095855\n",
       "...          ...           ...      ...          ...\n",
       "84006     284007  61967.640577      108  6406.791285\n",
       "84007     284008  61967.640577      108  5736.801838\n",
       "84008     284009  61967.640577      108  7613.994822\n",
       "84009     284010  61967.640577      108  8530.577571\n",
       "84010     284011  61967.640577      108  2140.830791\n",
       "\n",
       "[84011 rows x 4 columns]"
      ]
     },
     "execution_count": 46,
     "metadata": {},
     "output_type": "execute_result"
    }
   ],
   "source": [
    "ddd_p_df"
   ]
  },
  {
   "cell_type": "code",
   "execution_count": 44,
   "id": "7702a66f",
   "metadata": {},
   "outputs": [],
   "source": [
    "ddd_p_add_df=pd.read_excel(\"Downloads\\Insurance_Customers.xlsx\",sheet_name=\"DDD_Address\")"
   ]
  },
  {
   "cell_type": "code",
   "execution_count": 45,
   "id": "8234314b",
   "metadata": {},
   "outputs": [
    {
     "data": {
      "text/html": [
       "<div>\n",
       "<style scoped>\n",
       "    .dataframe tbody tr th:only-of-type {\n",
       "        vertical-align: middle;\n",
       "    }\n",
       "\n",
       "    .dataframe tbody tr th {\n",
       "        vertical-align: top;\n",
       "    }\n",
       "\n",
       "    .dataframe thead th {\n",
       "        text-align: right;\n",
       "    }\n",
       "</style>\n",
       "<table border=\"1\" class=\"dataframe\">\n",
       "  <thead>\n",
       "    <tr style=\"text-align: right;\">\n",
       "      <th></th>\n",
       "      <th>patientid</th>\n",
       "      <th>membershid</th>\n",
       "      <th>groupid</th>\n",
       "      <th>person_nbr</th>\n",
       "      <th>Primary_Phone_NBR</th>\n",
       "      <th>Phone2_NBR</th>\n",
       "      <th>Phone3_NBR</th>\n",
       "    </tr>\n",
       "  </thead>\n",
       "  <tbody>\n",
       "    <tr>\n",
       "      <th>0</th>\n",
       "      <td>200001</td>\n",
       "      <td>4456.162497</td>\n",
       "      <td>100</td>\n",
       "      <td>2748.280106</td>\n",
       "      <td>C</td>\n",
       "      <td>O</td>\n",
       "      <td>C</td>\n",
       "    </tr>\n",
       "    <tr>\n",
       "      <th>1</th>\n",
       "      <td>200002</td>\n",
       "      <td>4456.162497</td>\n",
       "      <td>100</td>\n",
       "      <td>3983.633278</td>\n",
       "      <td>C</td>\n",
       "      <td>O</td>\n",
       "      <td>C</td>\n",
       "    </tr>\n",
       "    <tr>\n",
       "      <th>2</th>\n",
       "      <td>200003</td>\n",
       "      <td>4456.162497</td>\n",
       "      <td>100</td>\n",
       "      <td>5918.043203</td>\n",
       "      <td>C</td>\n",
       "      <td>O</td>\n",
       "      <td>C</td>\n",
       "    </tr>\n",
       "    <tr>\n",
       "      <th>3</th>\n",
       "      <td>200004</td>\n",
       "      <td>4456.162497</td>\n",
       "      <td>100</td>\n",
       "      <td>5882.418134</td>\n",
       "      <td>C</td>\n",
       "      <td>O</td>\n",
       "      <td>C</td>\n",
       "    </tr>\n",
       "    <tr>\n",
       "      <th>4</th>\n",
       "      <td>200005</td>\n",
       "      <td>4456.162497</td>\n",
       "      <td>100</td>\n",
       "      <td>3519.095855</td>\n",
       "      <td>C</td>\n",
       "      <td>O</td>\n",
       "      <td>C</td>\n",
       "    </tr>\n",
       "    <tr>\n",
       "      <th>...</th>\n",
       "      <td>...</td>\n",
       "      <td>...</td>\n",
       "      <td>...</td>\n",
       "      <td>...</td>\n",
       "      <td>...</td>\n",
       "      <td>...</td>\n",
       "      <td>...</td>\n",
       "    </tr>\n",
       "    <tr>\n",
       "      <th>84006</th>\n",
       "      <td>284007</td>\n",
       "      <td>61967.640577</td>\n",
       "      <td>108</td>\n",
       "      <td>6406.791285</td>\n",
       "      <td>C</td>\n",
       "      <td>C</td>\n",
       "      <td>C</td>\n",
       "    </tr>\n",
       "    <tr>\n",
       "      <th>84007</th>\n",
       "      <td>284008</td>\n",
       "      <td>61967.640577</td>\n",
       "      <td>108</td>\n",
       "      <td>5736.801838</td>\n",
       "      <td>C</td>\n",
       "      <td>C</td>\n",
       "      <td>C</td>\n",
       "    </tr>\n",
       "    <tr>\n",
       "      <th>84008</th>\n",
       "      <td>284009</td>\n",
       "      <td>61967.640577</td>\n",
       "      <td>108</td>\n",
       "      <td>7613.994822</td>\n",
       "      <td>C</td>\n",
       "      <td>C</td>\n",
       "      <td>C</td>\n",
       "    </tr>\n",
       "    <tr>\n",
       "      <th>84009</th>\n",
       "      <td>284010</td>\n",
       "      <td>61967.640577</td>\n",
       "      <td>108</td>\n",
       "      <td>8530.577571</td>\n",
       "      <td>C</td>\n",
       "      <td>C</td>\n",
       "      <td>C</td>\n",
       "    </tr>\n",
       "    <tr>\n",
       "      <th>84010</th>\n",
       "      <td>284011</td>\n",
       "      <td>61967.640577</td>\n",
       "      <td>108</td>\n",
       "      <td>2140.830791</td>\n",
       "      <td>C</td>\n",
       "      <td>C</td>\n",
       "      <td>C</td>\n",
       "    </tr>\n",
       "  </tbody>\n",
       "</table>\n",
       "<p>84011 rows × 7 columns</p>\n",
       "</div>"
      ],
      "text/plain": [
       "       patientid    membershid  groupid   person_nbr Primary_Phone_NBR  \\\n",
       "0         200001   4456.162497      100  2748.280106                 C   \n",
       "1         200002   4456.162497      100  3983.633278                 C   \n",
       "2         200003   4456.162497      100  5918.043203                 C   \n",
       "3         200004   4456.162497      100  5882.418134                 C   \n",
       "4         200005   4456.162497      100  3519.095855                 C   \n",
       "...          ...           ...      ...          ...               ...   \n",
       "84006     284007  61967.640577      108  6406.791285                 C   \n",
       "84007     284008  61967.640577      108  5736.801838                 C   \n",
       "84008     284009  61967.640577      108  7613.994822                 C   \n",
       "84009     284010  61967.640577      108  8530.577571                 C   \n",
       "84010     284011  61967.640577      108  2140.830791                 C   \n",
       "\n",
       "      Phone2_NBR Phone3_NBR  \n",
       "0              O          C  \n",
       "1              O          C  \n",
       "2              O          C  \n",
       "3              O          C  \n",
       "4              O          C  \n",
       "...          ...        ...  \n",
       "84006          C          C  \n",
       "84007          C          C  \n",
       "84008          C          C  \n",
       "84009          C          C  \n",
       "84010          C          C  \n",
       "\n",
       "[84011 rows x 7 columns]"
      ]
     },
     "execution_count": 45,
     "metadata": {},
     "output_type": "execute_result"
    }
   ],
   "source": [
    "ddd_p_add_df"
   ]
  },
  {
   "cell_type": "code",
   "execution_count": null,
   "id": "0531d415",
   "metadata": {},
   "outputs": [],
   "source": [
    "#basic checks import files  bbbpatients and bbb address"
   ]
  },
  {
   "cell_type": "code",
   "execution_count": 47,
   "id": "97ab2b5a",
   "metadata": {},
   "outputs": [
    {
     "data": {
      "text/plain": [
       "(84011, 4)"
      ]
     },
     "execution_count": 47,
     "metadata": {},
     "output_type": "execute_result"
    }
   ],
   "source": [
    "ddd_p_df.shape"
   ]
  },
  {
   "cell_type": "code",
   "execution_count": 48,
   "id": "c41b6c1c",
   "metadata": {},
   "outputs": [
    {
     "data": {
      "text/html": [
       "<div>\n",
       "<style scoped>\n",
       "    .dataframe tbody tr th:only-of-type {\n",
       "        vertical-align: middle;\n",
       "    }\n",
       "\n",
       "    .dataframe tbody tr th {\n",
       "        vertical-align: top;\n",
       "    }\n",
       "\n",
       "    .dataframe thead th {\n",
       "        text-align: right;\n",
       "    }\n",
       "</style>\n",
       "<table border=\"1\" class=\"dataframe\">\n",
       "  <thead>\n",
       "    <tr style=\"text-align: right;\">\n",
       "      <th></th>\n",
       "      <th>patientid</th>\n",
       "      <th>membershid</th>\n",
       "      <th>groupid</th>\n",
       "      <th>person_nbr</th>\n",
       "    </tr>\n",
       "  </thead>\n",
       "  <tbody>\n",
       "    <tr>\n",
       "      <th>0</th>\n",
       "      <td>200001</td>\n",
       "      <td>4456.162497</td>\n",
       "      <td>100</td>\n",
       "      <td>2748.280106</td>\n",
       "    </tr>\n",
       "    <tr>\n",
       "      <th>1</th>\n",
       "      <td>200002</td>\n",
       "      <td>4456.162497</td>\n",
       "      <td>100</td>\n",
       "      <td>3983.633278</td>\n",
       "    </tr>\n",
       "    <tr>\n",
       "      <th>2</th>\n",
       "      <td>200003</td>\n",
       "      <td>4456.162497</td>\n",
       "      <td>100</td>\n",
       "      <td>5918.043203</td>\n",
       "    </tr>\n",
       "    <tr>\n",
       "      <th>3</th>\n",
       "      <td>200004</td>\n",
       "      <td>4456.162497</td>\n",
       "      <td>100</td>\n",
       "      <td>5882.418134</td>\n",
       "    </tr>\n",
       "    <tr>\n",
       "      <th>4</th>\n",
       "      <td>200005</td>\n",
       "      <td>4456.162497</td>\n",
       "      <td>100</td>\n",
       "      <td>3519.095855</td>\n",
       "    </tr>\n",
       "  </tbody>\n",
       "</table>\n",
       "</div>"
      ],
      "text/plain": [
       "   patientid   membershid  groupid   person_nbr\n",
       "0     200001  4456.162497      100  2748.280106\n",
       "1     200002  4456.162497      100  3983.633278\n",
       "2     200003  4456.162497      100  5918.043203\n",
       "3     200004  4456.162497      100  5882.418134\n",
       "4     200005  4456.162497      100  3519.095855"
      ]
     },
     "execution_count": 48,
     "metadata": {},
     "output_type": "execute_result"
    }
   ],
   "source": [
    "ddd_p_df.head()"
   ]
  },
  {
   "cell_type": "code",
   "execution_count": 49,
   "id": "27d12471",
   "metadata": {},
   "outputs": [
    {
     "data": {
      "text/html": [
       "<div>\n",
       "<style scoped>\n",
       "    .dataframe tbody tr th:only-of-type {\n",
       "        vertical-align: middle;\n",
       "    }\n",
       "\n",
       "    .dataframe tbody tr th {\n",
       "        vertical-align: top;\n",
       "    }\n",
       "\n",
       "    .dataframe thead th {\n",
       "        text-align: right;\n",
       "    }\n",
       "</style>\n",
       "<table border=\"1\" class=\"dataframe\">\n",
       "  <thead>\n",
       "    <tr style=\"text-align: right;\">\n",
       "      <th></th>\n",
       "      <th>patientid</th>\n",
       "      <th>membershid</th>\n",
       "      <th>groupid</th>\n",
       "      <th>person_nbr</th>\n",
       "    </tr>\n",
       "  </thead>\n",
       "  <tbody>\n",
       "    <tr>\n",
       "      <th>84006</th>\n",
       "      <td>284007</td>\n",
       "      <td>61967.640577</td>\n",
       "      <td>108</td>\n",
       "      <td>6406.791285</td>\n",
       "    </tr>\n",
       "    <tr>\n",
       "      <th>84007</th>\n",
       "      <td>284008</td>\n",
       "      <td>61967.640577</td>\n",
       "      <td>108</td>\n",
       "      <td>5736.801838</td>\n",
       "    </tr>\n",
       "    <tr>\n",
       "      <th>84008</th>\n",
       "      <td>284009</td>\n",
       "      <td>61967.640577</td>\n",
       "      <td>108</td>\n",
       "      <td>7613.994822</td>\n",
       "    </tr>\n",
       "    <tr>\n",
       "      <th>84009</th>\n",
       "      <td>284010</td>\n",
       "      <td>61967.640577</td>\n",
       "      <td>108</td>\n",
       "      <td>8530.577571</td>\n",
       "    </tr>\n",
       "    <tr>\n",
       "      <th>84010</th>\n",
       "      <td>284011</td>\n",
       "      <td>61967.640577</td>\n",
       "      <td>108</td>\n",
       "      <td>2140.830791</td>\n",
       "    </tr>\n",
       "  </tbody>\n",
       "</table>\n",
       "</div>"
      ],
      "text/plain": [
       "       patientid    membershid  groupid   person_nbr\n",
       "84006     284007  61967.640577      108  6406.791285\n",
       "84007     284008  61967.640577      108  5736.801838\n",
       "84008     284009  61967.640577      108  7613.994822\n",
       "84009     284010  61967.640577      108  8530.577571\n",
       "84010     284011  61967.640577      108  2140.830791"
      ]
     },
     "execution_count": 49,
     "metadata": {},
     "output_type": "execute_result"
    }
   ],
   "source": [
    "ddd_p_df.tail()"
   ]
  },
  {
   "cell_type": "code",
   "execution_count": 50,
   "id": "034ebbda",
   "metadata": {},
   "outputs": [
    {
     "data": {
      "text/plain": [
       "(84011, 7)"
      ]
     },
     "execution_count": 50,
     "metadata": {},
     "output_type": "execute_result"
    }
   ],
   "source": [
    "ddd_p_add_df.shape"
   ]
  },
  {
   "cell_type": "code",
   "execution_count": 51,
   "id": "981e1fa6",
   "metadata": {},
   "outputs": [
    {
     "data": {
      "text/html": [
       "<div>\n",
       "<style scoped>\n",
       "    .dataframe tbody tr th:only-of-type {\n",
       "        vertical-align: middle;\n",
       "    }\n",
       "\n",
       "    .dataframe tbody tr th {\n",
       "        vertical-align: top;\n",
       "    }\n",
       "\n",
       "    .dataframe thead th {\n",
       "        text-align: right;\n",
       "    }\n",
       "</style>\n",
       "<table border=\"1\" class=\"dataframe\">\n",
       "  <thead>\n",
       "    <tr style=\"text-align: right;\">\n",
       "      <th></th>\n",
       "      <th>patientid</th>\n",
       "      <th>membershid</th>\n",
       "      <th>groupid</th>\n",
       "      <th>person_nbr</th>\n",
       "      <th>Primary_Phone_NBR</th>\n",
       "      <th>Phone2_NBR</th>\n",
       "      <th>Phone3_NBR</th>\n",
       "    </tr>\n",
       "  </thead>\n",
       "  <tbody>\n",
       "    <tr>\n",
       "      <th>0</th>\n",
       "      <td>200001</td>\n",
       "      <td>4456.162497</td>\n",
       "      <td>100</td>\n",
       "      <td>2748.280106</td>\n",
       "      <td>C</td>\n",
       "      <td>O</td>\n",
       "      <td>C</td>\n",
       "    </tr>\n",
       "    <tr>\n",
       "      <th>1</th>\n",
       "      <td>200002</td>\n",
       "      <td>4456.162497</td>\n",
       "      <td>100</td>\n",
       "      <td>3983.633278</td>\n",
       "      <td>C</td>\n",
       "      <td>O</td>\n",
       "      <td>C</td>\n",
       "    </tr>\n",
       "    <tr>\n",
       "      <th>2</th>\n",
       "      <td>200003</td>\n",
       "      <td>4456.162497</td>\n",
       "      <td>100</td>\n",
       "      <td>5918.043203</td>\n",
       "      <td>C</td>\n",
       "      <td>O</td>\n",
       "      <td>C</td>\n",
       "    </tr>\n",
       "    <tr>\n",
       "      <th>3</th>\n",
       "      <td>200004</td>\n",
       "      <td>4456.162497</td>\n",
       "      <td>100</td>\n",
       "      <td>5882.418134</td>\n",
       "      <td>C</td>\n",
       "      <td>O</td>\n",
       "      <td>C</td>\n",
       "    </tr>\n",
       "    <tr>\n",
       "      <th>4</th>\n",
       "      <td>200005</td>\n",
       "      <td>4456.162497</td>\n",
       "      <td>100</td>\n",
       "      <td>3519.095855</td>\n",
       "      <td>C</td>\n",
       "      <td>O</td>\n",
       "      <td>C</td>\n",
       "    </tr>\n",
       "  </tbody>\n",
       "</table>\n",
       "</div>"
      ],
      "text/plain": [
       "   patientid   membershid  groupid   person_nbr Primary_Phone_NBR Phone2_NBR  \\\n",
       "0     200001  4456.162497      100  2748.280106                 C          O   \n",
       "1     200002  4456.162497      100  3983.633278                 C          O   \n",
       "2     200003  4456.162497      100  5918.043203                 C          O   \n",
       "3     200004  4456.162497      100  5882.418134                 C          O   \n",
       "4     200005  4456.162497      100  3519.095855                 C          O   \n",
       "\n",
       "  Phone3_NBR  \n",
       "0          C  \n",
       "1          C  \n",
       "2          C  \n",
       "3          C  \n",
       "4          C  "
      ]
     },
     "execution_count": 51,
     "metadata": {},
     "output_type": "execute_result"
    }
   ],
   "source": [
    "ddd_p_add_df.head()"
   ]
  },
  {
   "cell_type": "code",
   "execution_count": 52,
   "id": "5c4f2d81",
   "metadata": {},
   "outputs": [
    {
     "data": {
      "text/html": [
       "<div>\n",
       "<style scoped>\n",
       "    .dataframe tbody tr th:only-of-type {\n",
       "        vertical-align: middle;\n",
       "    }\n",
       "\n",
       "    .dataframe tbody tr th {\n",
       "        vertical-align: top;\n",
       "    }\n",
       "\n",
       "    .dataframe thead th {\n",
       "        text-align: right;\n",
       "    }\n",
       "</style>\n",
       "<table border=\"1\" class=\"dataframe\">\n",
       "  <thead>\n",
       "    <tr style=\"text-align: right;\">\n",
       "      <th></th>\n",
       "      <th>patientid</th>\n",
       "      <th>membershid</th>\n",
       "      <th>groupid</th>\n",
       "      <th>person_nbr</th>\n",
       "      <th>Primary_Phone_NBR</th>\n",
       "      <th>Phone2_NBR</th>\n",
       "      <th>Phone3_NBR</th>\n",
       "    </tr>\n",
       "  </thead>\n",
       "  <tbody>\n",
       "    <tr>\n",
       "      <th>84006</th>\n",
       "      <td>284007</td>\n",
       "      <td>61967.640577</td>\n",
       "      <td>108</td>\n",
       "      <td>6406.791285</td>\n",
       "      <td>C</td>\n",
       "      <td>C</td>\n",
       "      <td>C</td>\n",
       "    </tr>\n",
       "    <tr>\n",
       "      <th>84007</th>\n",
       "      <td>284008</td>\n",
       "      <td>61967.640577</td>\n",
       "      <td>108</td>\n",
       "      <td>5736.801838</td>\n",
       "      <td>C</td>\n",
       "      <td>C</td>\n",
       "      <td>C</td>\n",
       "    </tr>\n",
       "    <tr>\n",
       "      <th>84008</th>\n",
       "      <td>284009</td>\n",
       "      <td>61967.640577</td>\n",
       "      <td>108</td>\n",
       "      <td>7613.994822</td>\n",
       "      <td>C</td>\n",
       "      <td>C</td>\n",
       "      <td>C</td>\n",
       "    </tr>\n",
       "    <tr>\n",
       "      <th>84009</th>\n",
       "      <td>284010</td>\n",
       "      <td>61967.640577</td>\n",
       "      <td>108</td>\n",
       "      <td>8530.577571</td>\n",
       "      <td>C</td>\n",
       "      <td>C</td>\n",
       "      <td>C</td>\n",
       "    </tr>\n",
       "    <tr>\n",
       "      <th>84010</th>\n",
       "      <td>284011</td>\n",
       "      <td>61967.640577</td>\n",
       "      <td>108</td>\n",
       "      <td>2140.830791</td>\n",
       "      <td>C</td>\n",
       "      <td>C</td>\n",
       "      <td>C</td>\n",
       "    </tr>\n",
       "  </tbody>\n",
       "</table>\n",
       "</div>"
      ],
      "text/plain": [
       "       patientid    membershid  groupid   person_nbr Primary_Phone_NBR  \\\n",
       "84006     284007  61967.640577      108  6406.791285                 C   \n",
       "84007     284008  61967.640577      108  5736.801838                 C   \n",
       "84008     284009  61967.640577      108  7613.994822                 C   \n",
       "84009     284010  61967.640577      108  8530.577571                 C   \n",
       "84010     284011  61967.640577      108  2140.830791                 C   \n",
       "\n",
       "      Phone2_NBR Phone3_NBR  \n",
       "84006          C          C  \n",
       "84007          C          C  \n",
       "84008          C          C  \n",
       "84009          C          C  \n",
       "84010          C          C  "
      ]
     },
     "execution_count": 52,
     "metadata": {},
     "output_type": "execute_result"
    }
   ],
   "source": [
    "ddd_p_add_df.tail()"
   ]
  },
  {
   "cell_type": "code",
   "execution_count": null,
   "id": "6dd8fe2b",
   "metadata": {},
   "outputs": [],
   "source": [
    "#join operation two data frames(left join )"
   ]
  },
  {
   "cell_type": "code",
   "execution_count": 53,
   "id": "1a895551",
   "metadata": {},
   "outputs": [],
   "source": [
    "ddd_p_add_merge=ddd_p_df.merge(ddd_p_add_df,on=['patientid', 'membershid', 'groupid', 'person_nbr'],how=\"left\")"
   ]
  },
  {
   "cell_type": "code",
   "execution_count": 54,
   "id": "facc0812",
   "metadata": {},
   "outputs": [
    {
     "data": {
      "text/html": [
       "<div>\n",
       "<style scoped>\n",
       "    .dataframe tbody tr th:only-of-type {\n",
       "        vertical-align: middle;\n",
       "    }\n",
       "\n",
       "    .dataframe tbody tr th {\n",
       "        vertical-align: top;\n",
       "    }\n",
       "\n",
       "    .dataframe thead th {\n",
       "        text-align: right;\n",
       "    }\n",
       "</style>\n",
       "<table border=\"1\" class=\"dataframe\">\n",
       "  <thead>\n",
       "    <tr style=\"text-align: right;\">\n",
       "      <th></th>\n",
       "      <th>patientid</th>\n",
       "      <th>membershid</th>\n",
       "      <th>groupid</th>\n",
       "      <th>person_nbr</th>\n",
       "      <th>Primary_Phone_NBR</th>\n",
       "      <th>Phone2_NBR</th>\n",
       "      <th>Phone3_NBR</th>\n",
       "    </tr>\n",
       "  </thead>\n",
       "  <tbody>\n",
       "    <tr>\n",
       "      <th>0</th>\n",
       "      <td>200001</td>\n",
       "      <td>4456.162497</td>\n",
       "      <td>100</td>\n",
       "      <td>2748.280106</td>\n",
       "      <td>C</td>\n",
       "      <td>O</td>\n",
       "      <td>C</td>\n",
       "    </tr>\n",
       "    <tr>\n",
       "      <th>1</th>\n",
       "      <td>200002</td>\n",
       "      <td>4456.162497</td>\n",
       "      <td>100</td>\n",
       "      <td>3983.633278</td>\n",
       "      <td>C</td>\n",
       "      <td>O</td>\n",
       "      <td>C</td>\n",
       "    </tr>\n",
       "    <tr>\n",
       "      <th>2</th>\n",
       "      <td>200003</td>\n",
       "      <td>4456.162497</td>\n",
       "      <td>100</td>\n",
       "      <td>5918.043203</td>\n",
       "      <td>C</td>\n",
       "      <td>O</td>\n",
       "      <td>C</td>\n",
       "    </tr>\n",
       "    <tr>\n",
       "      <th>3</th>\n",
       "      <td>200004</td>\n",
       "      <td>4456.162497</td>\n",
       "      <td>100</td>\n",
       "      <td>5882.418134</td>\n",
       "      <td>C</td>\n",
       "      <td>O</td>\n",
       "      <td>C</td>\n",
       "    </tr>\n",
       "    <tr>\n",
       "      <th>4</th>\n",
       "      <td>200005</td>\n",
       "      <td>4456.162497</td>\n",
       "      <td>100</td>\n",
       "      <td>3519.095855</td>\n",
       "      <td>C</td>\n",
       "      <td>O</td>\n",
       "      <td>C</td>\n",
       "    </tr>\n",
       "    <tr>\n",
       "      <th>...</th>\n",
       "      <td>...</td>\n",
       "      <td>...</td>\n",
       "      <td>...</td>\n",
       "      <td>...</td>\n",
       "      <td>...</td>\n",
       "      <td>...</td>\n",
       "      <td>...</td>\n",
       "    </tr>\n",
       "    <tr>\n",
       "      <th>84006</th>\n",
       "      <td>284007</td>\n",
       "      <td>61967.640577</td>\n",
       "      <td>108</td>\n",
       "      <td>6406.791285</td>\n",
       "      <td>C</td>\n",
       "      <td>C</td>\n",
       "      <td>C</td>\n",
       "    </tr>\n",
       "    <tr>\n",
       "      <th>84007</th>\n",
       "      <td>284008</td>\n",
       "      <td>61967.640577</td>\n",
       "      <td>108</td>\n",
       "      <td>5736.801838</td>\n",
       "      <td>C</td>\n",
       "      <td>C</td>\n",
       "      <td>C</td>\n",
       "    </tr>\n",
       "    <tr>\n",
       "      <th>84008</th>\n",
       "      <td>284009</td>\n",
       "      <td>61967.640577</td>\n",
       "      <td>108</td>\n",
       "      <td>7613.994822</td>\n",
       "      <td>C</td>\n",
       "      <td>C</td>\n",
       "      <td>C</td>\n",
       "    </tr>\n",
       "    <tr>\n",
       "      <th>84009</th>\n",
       "      <td>284010</td>\n",
       "      <td>61967.640577</td>\n",
       "      <td>108</td>\n",
       "      <td>8530.577571</td>\n",
       "      <td>C</td>\n",
       "      <td>C</td>\n",
       "      <td>C</td>\n",
       "    </tr>\n",
       "    <tr>\n",
       "      <th>84010</th>\n",
       "      <td>284011</td>\n",
       "      <td>61967.640577</td>\n",
       "      <td>108</td>\n",
       "      <td>2140.830791</td>\n",
       "      <td>C</td>\n",
       "      <td>C</td>\n",
       "      <td>C</td>\n",
       "    </tr>\n",
       "  </tbody>\n",
       "</table>\n",
       "<p>84011 rows × 7 columns</p>\n",
       "</div>"
      ],
      "text/plain": [
       "       patientid    membershid  groupid   person_nbr Primary_Phone_NBR  \\\n",
       "0         200001   4456.162497      100  2748.280106                 C   \n",
       "1         200002   4456.162497      100  3983.633278                 C   \n",
       "2         200003   4456.162497      100  5918.043203                 C   \n",
       "3         200004   4456.162497      100  5882.418134                 C   \n",
       "4         200005   4456.162497      100  3519.095855                 C   \n",
       "...          ...           ...      ...          ...               ...   \n",
       "84006     284007  61967.640577      108  6406.791285                 C   \n",
       "84007     284008  61967.640577      108  5736.801838                 C   \n",
       "84008     284009  61967.640577      108  7613.994822                 C   \n",
       "84009     284010  61967.640577      108  8530.577571                 C   \n",
       "84010     284011  61967.640577      108  2140.830791                 C   \n",
       "\n",
       "      Phone2_NBR Phone3_NBR  \n",
       "0              O          C  \n",
       "1              O          C  \n",
       "2              O          C  \n",
       "3              O          C  \n",
       "4              O          C  \n",
       "...          ...        ...  \n",
       "84006          C          C  \n",
       "84007          C          C  \n",
       "84008          C          C  \n",
       "84009          C          C  \n",
       "84010          C          C  \n",
       "\n",
       "[84011 rows x 7 columns]"
      ]
     },
     "execution_count": 54,
     "metadata": {},
     "output_type": "execute_result"
    }
   ],
   "source": [
    "ddd_p_add_merge"
   ]
  },
  {
   "cell_type": "code",
   "execution_count": null,
   "id": "44c4f319",
   "metadata": {},
   "outputs": [],
   "source": [
    "#basic checks ddd_p_add_merge"
   ]
  },
  {
   "cell_type": "code",
   "execution_count": 55,
   "id": "1e8c22bd",
   "metadata": {},
   "outputs": [
    {
     "data": {
      "text/plain": [
       "(84011, 7)"
      ]
     },
     "execution_count": 55,
     "metadata": {},
     "output_type": "execute_result"
    }
   ],
   "source": [
    "ddd_p_add_merge.shape"
   ]
  },
  {
   "cell_type": "code",
   "execution_count": 56,
   "id": "0bbf3244",
   "metadata": {},
   "outputs": [
    {
     "data": {
      "text/plain": [
       "Index(['patientid', 'membershid', 'groupid', 'person_nbr', 'Primary_Phone_NBR',\n",
       "       'Phone2_NBR', 'Phone3_NBR'],\n",
       "      dtype='object')"
      ]
     },
     "execution_count": 56,
     "metadata": {},
     "output_type": "execute_result"
    }
   ],
   "source": [
    "ddd_p_add_merge.columns"
   ]
  },
  {
   "cell_type": "code",
   "execution_count": 57,
   "id": "8a39f32c",
   "metadata": {},
   "outputs": [
    {
     "data": {
      "text/html": [
       "<div>\n",
       "<style scoped>\n",
       "    .dataframe tbody tr th:only-of-type {\n",
       "        vertical-align: middle;\n",
       "    }\n",
       "\n",
       "    .dataframe tbody tr th {\n",
       "        vertical-align: top;\n",
       "    }\n",
       "\n",
       "    .dataframe thead th {\n",
       "        text-align: right;\n",
       "    }\n",
       "</style>\n",
       "<table border=\"1\" class=\"dataframe\">\n",
       "  <thead>\n",
       "    <tr style=\"text-align: right;\">\n",
       "      <th></th>\n",
       "      <th>patientid</th>\n",
       "      <th>membershid</th>\n",
       "      <th>groupid</th>\n",
       "      <th>person_nbr</th>\n",
       "      <th>Primary_Phone_NBR</th>\n",
       "      <th>Phone2_NBR</th>\n",
       "      <th>Phone3_NBR</th>\n",
       "    </tr>\n",
       "  </thead>\n",
       "  <tbody>\n",
       "    <tr>\n",
       "      <th>0</th>\n",
       "      <td>200001</td>\n",
       "      <td>4456.162497</td>\n",
       "      <td>100</td>\n",
       "      <td>2748.280106</td>\n",
       "      <td>C</td>\n",
       "      <td>O</td>\n",
       "      <td>C</td>\n",
       "    </tr>\n",
       "    <tr>\n",
       "      <th>1</th>\n",
       "      <td>200002</td>\n",
       "      <td>4456.162497</td>\n",
       "      <td>100</td>\n",
       "      <td>3983.633278</td>\n",
       "      <td>C</td>\n",
       "      <td>O</td>\n",
       "      <td>C</td>\n",
       "    </tr>\n",
       "    <tr>\n",
       "      <th>2</th>\n",
       "      <td>200003</td>\n",
       "      <td>4456.162497</td>\n",
       "      <td>100</td>\n",
       "      <td>5918.043203</td>\n",
       "      <td>C</td>\n",
       "      <td>O</td>\n",
       "      <td>C</td>\n",
       "    </tr>\n",
       "    <tr>\n",
       "      <th>3</th>\n",
       "      <td>200004</td>\n",
       "      <td>4456.162497</td>\n",
       "      <td>100</td>\n",
       "      <td>5882.418134</td>\n",
       "      <td>C</td>\n",
       "      <td>O</td>\n",
       "      <td>C</td>\n",
       "    </tr>\n",
       "    <tr>\n",
       "      <th>4</th>\n",
       "      <td>200005</td>\n",
       "      <td>4456.162497</td>\n",
       "      <td>100</td>\n",
       "      <td>3519.095855</td>\n",
       "      <td>C</td>\n",
       "      <td>O</td>\n",
       "      <td>C</td>\n",
       "    </tr>\n",
       "  </tbody>\n",
       "</table>\n",
       "</div>"
      ],
      "text/plain": [
       "   patientid   membershid  groupid   person_nbr Primary_Phone_NBR Phone2_NBR  \\\n",
       "0     200001  4456.162497      100  2748.280106                 C          O   \n",
       "1     200002  4456.162497      100  3983.633278                 C          O   \n",
       "2     200003  4456.162497      100  5918.043203                 C          O   \n",
       "3     200004  4456.162497      100  5882.418134                 C          O   \n",
       "4     200005  4456.162497      100  3519.095855                 C          O   \n",
       "\n",
       "  Phone3_NBR  \n",
       "0          C  \n",
       "1          C  \n",
       "2          C  \n",
       "3          C  \n",
       "4          C  "
      ]
     },
     "execution_count": 57,
     "metadata": {},
     "output_type": "execute_result"
    }
   ],
   "source": [
    "ddd_p_add_merge.head()"
   ]
  },
  {
   "cell_type": "code",
   "execution_count": 58,
   "id": "3e824646",
   "metadata": {},
   "outputs": [
    {
     "data": {
      "text/html": [
       "<div>\n",
       "<style scoped>\n",
       "    .dataframe tbody tr th:only-of-type {\n",
       "        vertical-align: middle;\n",
       "    }\n",
       "\n",
       "    .dataframe tbody tr th {\n",
       "        vertical-align: top;\n",
       "    }\n",
       "\n",
       "    .dataframe thead th {\n",
       "        text-align: right;\n",
       "    }\n",
       "</style>\n",
       "<table border=\"1\" class=\"dataframe\">\n",
       "  <thead>\n",
       "    <tr style=\"text-align: right;\">\n",
       "      <th></th>\n",
       "      <th>patientid</th>\n",
       "      <th>membershid</th>\n",
       "      <th>groupid</th>\n",
       "      <th>person_nbr</th>\n",
       "      <th>Primary_Phone_NBR</th>\n",
       "      <th>Phone2_NBR</th>\n",
       "      <th>Phone3_NBR</th>\n",
       "    </tr>\n",
       "  </thead>\n",
       "  <tbody>\n",
       "    <tr>\n",
       "      <th>84006</th>\n",
       "      <td>284007</td>\n",
       "      <td>61967.640577</td>\n",
       "      <td>108</td>\n",
       "      <td>6406.791285</td>\n",
       "      <td>C</td>\n",
       "      <td>C</td>\n",
       "      <td>C</td>\n",
       "    </tr>\n",
       "    <tr>\n",
       "      <th>84007</th>\n",
       "      <td>284008</td>\n",
       "      <td>61967.640577</td>\n",
       "      <td>108</td>\n",
       "      <td>5736.801838</td>\n",
       "      <td>C</td>\n",
       "      <td>C</td>\n",
       "      <td>C</td>\n",
       "    </tr>\n",
       "    <tr>\n",
       "      <th>84008</th>\n",
       "      <td>284009</td>\n",
       "      <td>61967.640577</td>\n",
       "      <td>108</td>\n",
       "      <td>7613.994822</td>\n",
       "      <td>C</td>\n",
       "      <td>C</td>\n",
       "      <td>C</td>\n",
       "    </tr>\n",
       "    <tr>\n",
       "      <th>84009</th>\n",
       "      <td>284010</td>\n",
       "      <td>61967.640577</td>\n",
       "      <td>108</td>\n",
       "      <td>8530.577571</td>\n",
       "      <td>C</td>\n",
       "      <td>C</td>\n",
       "      <td>C</td>\n",
       "    </tr>\n",
       "    <tr>\n",
       "      <th>84010</th>\n",
       "      <td>284011</td>\n",
       "      <td>61967.640577</td>\n",
       "      <td>108</td>\n",
       "      <td>2140.830791</td>\n",
       "      <td>C</td>\n",
       "      <td>C</td>\n",
       "      <td>C</td>\n",
       "    </tr>\n",
       "  </tbody>\n",
       "</table>\n",
       "</div>"
      ],
      "text/plain": [
       "       patientid    membershid  groupid   person_nbr Primary_Phone_NBR  \\\n",
       "84006     284007  61967.640577      108  6406.791285                 C   \n",
       "84007     284008  61967.640577      108  5736.801838                 C   \n",
       "84008     284009  61967.640577      108  7613.994822                 C   \n",
       "84009     284010  61967.640577      108  8530.577571                 C   \n",
       "84010     284011  61967.640577      108  2140.830791                 C   \n",
       "\n",
       "      Phone2_NBR Phone3_NBR  \n",
       "84006          C          C  \n",
       "84007          C          C  \n",
       "84008          C          C  \n",
       "84009          C          C  \n",
       "84010          C          C  "
      ]
     },
     "execution_count": 58,
     "metadata": {},
     "output_type": "execute_result"
    }
   ],
   "source": [
    "ddd_p_add_merge.tail()"
   ]
  },
  {
   "cell_type": "code",
   "execution_count": null,
   "id": "fef22a92",
   "metadata": {},
   "outputs": [],
   "source": [
    "#import ddd_flag file"
   ]
  },
  {
   "cell_type": "code",
   "execution_count": 59,
   "id": "4261ac84",
   "metadata": {},
   "outputs": [],
   "source": [
    "ddd_flag=pd.read_excel(\"Downloads\\Insurance_Customers.xlsx\",sheet_name=\"DDD_Flag\")"
   ]
  },
  {
   "cell_type": "code",
   "execution_count": 60,
   "id": "f4782d26",
   "metadata": {},
   "outputs": [
    {
     "data": {
      "text/html": [
       "<div>\n",
       "<style scoped>\n",
       "    .dataframe tbody tr th:only-of-type {\n",
       "        vertical-align: middle;\n",
       "    }\n",
       "\n",
       "    .dataframe tbody tr th {\n",
       "        vertical-align: top;\n",
       "    }\n",
       "\n",
       "    .dataframe thead th {\n",
       "        text-align: right;\n",
       "    }\n",
       "</style>\n",
       "<table border=\"1\" class=\"dataframe\">\n",
       "  <thead>\n",
       "    <tr style=\"text-align: right;\">\n",
       "      <th></th>\n",
       "      <th>groupid</th>\n",
       "      <th>Flag</th>\n",
       "    </tr>\n",
       "  </thead>\n",
       "  <tbody>\n",
       "    <tr>\n",
       "      <th>0</th>\n",
       "      <td>100</td>\n",
       "      <td>EarD</td>\n",
       "    </tr>\n",
       "    <tr>\n",
       "      <th>1</th>\n",
       "      <td>102</td>\n",
       "      <td>EyesD</td>\n",
       "    </tr>\n",
       "    <tr>\n",
       "      <th>2</th>\n",
       "      <td>103</td>\n",
       "      <td>Nervers</td>\n",
       "    </tr>\n",
       "    <tr>\n",
       "      <th>3</th>\n",
       "      <td>105</td>\n",
       "      <td>KneeF</td>\n",
       "    </tr>\n",
       "    <tr>\n",
       "      <th>4</th>\n",
       "      <td>106</td>\n",
       "      <td>SpineF</td>\n",
       "    </tr>\n",
       "    <tr>\n",
       "      <th>5</th>\n",
       "      <td>107</td>\n",
       "      <td>Obesity</td>\n",
       "    </tr>\n",
       "    <tr>\n",
       "      <th>6</th>\n",
       "      <td>108</td>\n",
       "      <td>Obesity-II</td>\n",
       "    </tr>\n",
       "  </tbody>\n",
       "</table>\n",
       "</div>"
      ],
      "text/plain": [
       "   groupid        Flag\n",
       "0      100        EarD\n",
       "1      102       EyesD\n",
       "2      103     Nervers\n",
       "3      105       KneeF\n",
       "4      106      SpineF\n",
       "5      107     Obesity\n",
       "6      108  Obesity-II"
      ]
     },
     "execution_count": 60,
     "metadata": {},
     "output_type": "execute_result"
    }
   ],
   "source": [
    "ddd_flag"
   ]
  },
  {
   "cell_type": "code",
   "execution_count": null,
   "id": "4411e9b3",
   "metadata": {},
   "outputs": [],
   "source": [
    "#join operation for ddd_p_add_merge and dddflag(left join),on='grpupid'"
   ]
  },
  {
   "cell_type": "code",
   "execution_count": 61,
   "id": "35979d9d",
   "metadata": {},
   "outputs": [],
   "source": [
    "ddd_p_add_merge_f=ddd_p_add_merge.merge(ddd_flag,how='left',on= ['groupid'])"
   ]
  },
  {
   "cell_type": "code",
   "execution_count": 62,
   "id": "d3d2caa3",
   "metadata": {},
   "outputs": [
    {
     "data": {
      "text/html": [
       "<div>\n",
       "<style scoped>\n",
       "    .dataframe tbody tr th:only-of-type {\n",
       "        vertical-align: middle;\n",
       "    }\n",
       "\n",
       "    .dataframe tbody tr th {\n",
       "        vertical-align: top;\n",
       "    }\n",
       "\n",
       "    .dataframe thead th {\n",
       "        text-align: right;\n",
       "    }\n",
       "</style>\n",
       "<table border=\"1\" class=\"dataframe\">\n",
       "  <thead>\n",
       "    <tr style=\"text-align: right;\">\n",
       "      <th></th>\n",
       "      <th>patientid</th>\n",
       "      <th>membershid</th>\n",
       "      <th>groupid</th>\n",
       "      <th>person_nbr</th>\n",
       "      <th>Primary_Phone_NBR</th>\n",
       "      <th>Phone2_NBR</th>\n",
       "      <th>Phone3_NBR</th>\n",
       "      <th>Flag</th>\n",
       "    </tr>\n",
       "  </thead>\n",
       "  <tbody>\n",
       "    <tr>\n",
       "      <th>0</th>\n",
       "      <td>200001</td>\n",
       "      <td>4456.162497</td>\n",
       "      <td>100</td>\n",
       "      <td>2748.280106</td>\n",
       "      <td>C</td>\n",
       "      <td>O</td>\n",
       "      <td>C</td>\n",
       "      <td>EarD</td>\n",
       "    </tr>\n",
       "    <tr>\n",
       "      <th>1</th>\n",
       "      <td>200002</td>\n",
       "      <td>4456.162497</td>\n",
       "      <td>100</td>\n",
       "      <td>3983.633278</td>\n",
       "      <td>C</td>\n",
       "      <td>O</td>\n",
       "      <td>C</td>\n",
       "      <td>EarD</td>\n",
       "    </tr>\n",
       "    <tr>\n",
       "      <th>2</th>\n",
       "      <td>200003</td>\n",
       "      <td>4456.162497</td>\n",
       "      <td>100</td>\n",
       "      <td>5918.043203</td>\n",
       "      <td>C</td>\n",
       "      <td>O</td>\n",
       "      <td>C</td>\n",
       "      <td>EarD</td>\n",
       "    </tr>\n",
       "    <tr>\n",
       "      <th>3</th>\n",
       "      <td>200004</td>\n",
       "      <td>4456.162497</td>\n",
       "      <td>100</td>\n",
       "      <td>5882.418134</td>\n",
       "      <td>C</td>\n",
       "      <td>O</td>\n",
       "      <td>C</td>\n",
       "      <td>EarD</td>\n",
       "    </tr>\n",
       "    <tr>\n",
       "      <th>4</th>\n",
       "      <td>200005</td>\n",
       "      <td>4456.162497</td>\n",
       "      <td>100</td>\n",
       "      <td>3519.095855</td>\n",
       "      <td>C</td>\n",
       "      <td>O</td>\n",
       "      <td>C</td>\n",
       "      <td>EarD</td>\n",
       "    </tr>\n",
       "    <tr>\n",
       "      <th>...</th>\n",
       "      <td>...</td>\n",
       "      <td>...</td>\n",
       "      <td>...</td>\n",
       "      <td>...</td>\n",
       "      <td>...</td>\n",
       "      <td>...</td>\n",
       "      <td>...</td>\n",
       "      <td>...</td>\n",
       "    </tr>\n",
       "    <tr>\n",
       "      <th>84006</th>\n",
       "      <td>284007</td>\n",
       "      <td>61967.640577</td>\n",
       "      <td>108</td>\n",
       "      <td>6406.791285</td>\n",
       "      <td>C</td>\n",
       "      <td>C</td>\n",
       "      <td>C</td>\n",
       "      <td>Obesity-II</td>\n",
       "    </tr>\n",
       "    <tr>\n",
       "      <th>84007</th>\n",
       "      <td>284008</td>\n",
       "      <td>61967.640577</td>\n",
       "      <td>108</td>\n",
       "      <td>5736.801838</td>\n",
       "      <td>C</td>\n",
       "      <td>C</td>\n",
       "      <td>C</td>\n",
       "      <td>Obesity-II</td>\n",
       "    </tr>\n",
       "    <tr>\n",
       "      <th>84008</th>\n",
       "      <td>284009</td>\n",
       "      <td>61967.640577</td>\n",
       "      <td>108</td>\n",
       "      <td>7613.994822</td>\n",
       "      <td>C</td>\n",
       "      <td>C</td>\n",
       "      <td>C</td>\n",
       "      <td>Obesity-II</td>\n",
       "    </tr>\n",
       "    <tr>\n",
       "      <th>84009</th>\n",
       "      <td>284010</td>\n",
       "      <td>61967.640577</td>\n",
       "      <td>108</td>\n",
       "      <td>8530.577571</td>\n",
       "      <td>C</td>\n",
       "      <td>C</td>\n",
       "      <td>C</td>\n",
       "      <td>Obesity-II</td>\n",
       "    </tr>\n",
       "    <tr>\n",
       "      <th>84010</th>\n",
       "      <td>284011</td>\n",
       "      <td>61967.640577</td>\n",
       "      <td>108</td>\n",
       "      <td>2140.830791</td>\n",
       "      <td>C</td>\n",
       "      <td>C</td>\n",
       "      <td>C</td>\n",
       "      <td>Obesity-II</td>\n",
       "    </tr>\n",
       "  </tbody>\n",
       "</table>\n",
       "<p>84011 rows × 8 columns</p>\n",
       "</div>"
      ],
      "text/plain": [
       "       patientid    membershid  groupid   person_nbr Primary_Phone_NBR  \\\n",
       "0         200001   4456.162497      100  2748.280106                 C   \n",
       "1         200002   4456.162497      100  3983.633278                 C   \n",
       "2         200003   4456.162497      100  5918.043203                 C   \n",
       "3         200004   4456.162497      100  5882.418134                 C   \n",
       "4         200005   4456.162497      100  3519.095855                 C   \n",
       "...          ...           ...      ...          ...               ...   \n",
       "84006     284007  61967.640577      108  6406.791285                 C   \n",
       "84007     284008  61967.640577      108  5736.801838                 C   \n",
       "84008     284009  61967.640577      108  7613.994822                 C   \n",
       "84009     284010  61967.640577      108  8530.577571                 C   \n",
       "84010     284011  61967.640577      108  2140.830791                 C   \n",
       "\n",
       "      Phone2_NBR Phone3_NBR        Flag  \n",
       "0              O          C        EarD  \n",
       "1              O          C        EarD  \n",
       "2              O          C        EarD  \n",
       "3              O          C        EarD  \n",
       "4              O          C        EarD  \n",
       "...          ...        ...         ...  \n",
       "84006          C          C  Obesity-II  \n",
       "84007          C          C  Obesity-II  \n",
       "84008          C          C  Obesity-II  \n",
       "84009          C          C  Obesity-II  \n",
       "84010          C          C  Obesity-II  \n",
       "\n",
       "[84011 rows x 8 columns]"
      ]
     },
     "execution_count": 62,
     "metadata": {},
     "output_type": "execute_result"
    }
   ],
   "source": [
    "ddd_p_add_merge_f"
   ]
  },
  {
   "cell_type": "code",
   "execution_count": 63,
   "id": "7a2e6a64",
   "metadata": {},
   "outputs": [
    {
     "data": {
      "text/plain": [
       "Index(['patientid', 'membershid', 'groupid', 'person_nbr', 'Primary_Phone_NBR',\n",
       "       'Phone2_NBR', 'Phone3_NBR', 'Flag'],\n",
       "      dtype='object')"
      ]
     },
     "execution_count": 63,
     "metadata": {},
     "output_type": "execute_result"
    }
   ],
   "source": [
    "ddd_p_add_merge_f.columns"
   ]
  },
  {
   "cell_type": "code",
   "execution_count": null,
   "id": "53c9fedc",
   "metadata": {},
   "outputs": [],
   "source": [
    "#remove groupid column"
   ]
  },
  {
   "cell_type": "code",
   "execution_count": 64,
   "id": "195cb440",
   "metadata": {},
   "outputs": [],
   "source": [
    "ddd_p_add_merge_ff=ddd_p_add_merge_f[['patientid', 'membershid', 'person_nbr', 'Primary_Phone_NBR',\n",
    "       'Phone2_NBR', 'Phone3_NBR', 'Flag']]"
   ]
  },
  {
   "cell_type": "code",
   "execution_count": 65,
   "id": "b50d4cf3",
   "metadata": {},
   "outputs": [
    {
     "data": {
      "text/html": [
       "<div>\n",
       "<style scoped>\n",
       "    .dataframe tbody tr th:only-of-type {\n",
       "        vertical-align: middle;\n",
       "    }\n",
       "\n",
       "    .dataframe tbody tr th {\n",
       "        vertical-align: top;\n",
       "    }\n",
       "\n",
       "    .dataframe thead th {\n",
       "        text-align: right;\n",
       "    }\n",
       "</style>\n",
       "<table border=\"1\" class=\"dataframe\">\n",
       "  <thead>\n",
       "    <tr style=\"text-align: right;\">\n",
       "      <th></th>\n",
       "      <th>patientid</th>\n",
       "      <th>membershid</th>\n",
       "      <th>person_nbr</th>\n",
       "      <th>Primary_Phone_NBR</th>\n",
       "      <th>Phone2_NBR</th>\n",
       "      <th>Phone3_NBR</th>\n",
       "      <th>Flag</th>\n",
       "    </tr>\n",
       "  </thead>\n",
       "  <tbody>\n",
       "    <tr>\n",
       "      <th>0</th>\n",
       "      <td>200001</td>\n",
       "      <td>4456.162497</td>\n",
       "      <td>2748.280106</td>\n",
       "      <td>C</td>\n",
       "      <td>O</td>\n",
       "      <td>C</td>\n",
       "      <td>EarD</td>\n",
       "    </tr>\n",
       "    <tr>\n",
       "      <th>1</th>\n",
       "      <td>200002</td>\n",
       "      <td>4456.162497</td>\n",
       "      <td>3983.633278</td>\n",
       "      <td>C</td>\n",
       "      <td>O</td>\n",
       "      <td>C</td>\n",
       "      <td>EarD</td>\n",
       "    </tr>\n",
       "    <tr>\n",
       "      <th>2</th>\n",
       "      <td>200003</td>\n",
       "      <td>4456.162497</td>\n",
       "      <td>5918.043203</td>\n",
       "      <td>C</td>\n",
       "      <td>O</td>\n",
       "      <td>C</td>\n",
       "      <td>EarD</td>\n",
       "    </tr>\n",
       "    <tr>\n",
       "      <th>3</th>\n",
       "      <td>200004</td>\n",
       "      <td>4456.162497</td>\n",
       "      <td>5882.418134</td>\n",
       "      <td>C</td>\n",
       "      <td>O</td>\n",
       "      <td>C</td>\n",
       "      <td>EarD</td>\n",
       "    </tr>\n",
       "    <tr>\n",
       "      <th>4</th>\n",
       "      <td>200005</td>\n",
       "      <td>4456.162497</td>\n",
       "      <td>3519.095855</td>\n",
       "      <td>C</td>\n",
       "      <td>O</td>\n",
       "      <td>C</td>\n",
       "      <td>EarD</td>\n",
       "    </tr>\n",
       "    <tr>\n",
       "      <th>...</th>\n",
       "      <td>...</td>\n",
       "      <td>...</td>\n",
       "      <td>...</td>\n",
       "      <td>...</td>\n",
       "      <td>...</td>\n",
       "      <td>...</td>\n",
       "      <td>...</td>\n",
       "    </tr>\n",
       "    <tr>\n",
       "      <th>84006</th>\n",
       "      <td>284007</td>\n",
       "      <td>61967.640577</td>\n",
       "      <td>6406.791285</td>\n",
       "      <td>C</td>\n",
       "      <td>C</td>\n",
       "      <td>C</td>\n",
       "      <td>Obesity-II</td>\n",
       "    </tr>\n",
       "    <tr>\n",
       "      <th>84007</th>\n",
       "      <td>284008</td>\n",
       "      <td>61967.640577</td>\n",
       "      <td>5736.801838</td>\n",
       "      <td>C</td>\n",
       "      <td>C</td>\n",
       "      <td>C</td>\n",
       "      <td>Obesity-II</td>\n",
       "    </tr>\n",
       "    <tr>\n",
       "      <th>84008</th>\n",
       "      <td>284009</td>\n",
       "      <td>61967.640577</td>\n",
       "      <td>7613.994822</td>\n",
       "      <td>C</td>\n",
       "      <td>C</td>\n",
       "      <td>C</td>\n",
       "      <td>Obesity-II</td>\n",
       "    </tr>\n",
       "    <tr>\n",
       "      <th>84009</th>\n",
       "      <td>284010</td>\n",
       "      <td>61967.640577</td>\n",
       "      <td>8530.577571</td>\n",
       "      <td>C</td>\n",
       "      <td>C</td>\n",
       "      <td>C</td>\n",
       "      <td>Obesity-II</td>\n",
       "    </tr>\n",
       "    <tr>\n",
       "      <th>84010</th>\n",
       "      <td>284011</td>\n",
       "      <td>61967.640577</td>\n",
       "      <td>2140.830791</td>\n",
       "      <td>C</td>\n",
       "      <td>C</td>\n",
       "      <td>C</td>\n",
       "      <td>Obesity-II</td>\n",
       "    </tr>\n",
       "  </tbody>\n",
       "</table>\n",
       "<p>84011 rows × 7 columns</p>\n",
       "</div>"
      ],
      "text/plain": [
       "       patientid    membershid   person_nbr Primary_Phone_NBR Phone2_NBR  \\\n",
       "0         200001   4456.162497  2748.280106                 C          O   \n",
       "1         200002   4456.162497  3983.633278                 C          O   \n",
       "2         200003   4456.162497  5918.043203                 C          O   \n",
       "3         200004   4456.162497  5882.418134                 C          O   \n",
       "4         200005   4456.162497  3519.095855                 C          O   \n",
       "...          ...           ...          ...               ...        ...   \n",
       "84006     284007  61967.640577  6406.791285                 C          C   \n",
       "84007     284008  61967.640577  5736.801838                 C          C   \n",
       "84008     284009  61967.640577  7613.994822                 C          C   \n",
       "84009     284010  61967.640577  8530.577571                 C          C   \n",
       "84010     284011  61967.640577  2140.830791                 C          C   \n",
       "\n",
       "      Phone3_NBR        Flag  \n",
       "0              C        EarD  \n",
       "1              C        EarD  \n",
       "2              C        EarD  \n",
       "3              C        EarD  \n",
       "4              C        EarD  \n",
       "...          ...         ...  \n",
       "84006          C  Obesity-II  \n",
       "84007          C  Obesity-II  \n",
       "84008          C  Obesity-II  \n",
       "84009          C  Obesity-II  \n",
       "84010          C  Obesity-II  \n",
       "\n",
       "[84011 rows x 7 columns]"
      ]
     },
     "execution_count": 65,
     "metadata": {},
     "output_type": "execute_result"
    }
   ],
   "source": [
    "ddd_p_add_merge_ff"
   ]
  },
  {
   "cell_type": "code",
   "execution_count": 66,
   "id": "a5e80cba",
   "metadata": {},
   "outputs": [
    {
     "data": {
      "text/plain": [
       "Index(['patientid', 'membershid', 'person_nbr', 'Primary_Phone_NBR',\n",
       "       'Phone2_NBR', 'Phone3_NBR', 'Flag'],\n",
       "      dtype='object')"
      ]
     },
     "execution_count": 66,
     "metadata": {},
     "output_type": "execute_result"
    }
   ],
   "source": [
    "ddd_p_add_merge_ff.columns"
   ]
  },
  {
   "cell_type": "code",
   "execution_count": null,
   "id": "b95fb82c",
   "metadata": {},
   "outputs": [],
   "source": [
    "#rename flag colum into groupid"
   ]
  },
  {
   "cell_type": "code",
   "execution_count": 67,
   "id": "2c1c03e3",
   "metadata": {},
   "outputs": [],
   "source": [
    "ddd_p_add_merge_ff.columns=['patientid', 'membershid', 'person_nbr', 'Primary_Phone_NBR',\n",
    "       'Phone2_NBR', 'Phone3_NBR', 'groupid']"
   ]
  },
  {
   "cell_type": "code",
   "execution_count": 68,
   "id": "12d542e6",
   "metadata": {},
   "outputs": [
    {
     "data": {
      "text/plain": [
       "Index(['patientid', 'membershid', 'person_nbr', 'Primary_Phone_NBR',\n",
       "       'Phone2_NBR', 'Phone3_NBR', 'groupid'],\n",
       "      dtype='object')"
      ]
     },
     "execution_count": 68,
     "metadata": {},
     "output_type": "execute_result"
    }
   ],
   "source": [
    "ddd_p_add_merge_ff.columns"
   ]
  },
  {
   "cell_type": "code",
   "execution_count": 69,
   "id": "8e806e15",
   "metadata": {},
   "outputs": [
    {
     "data": {
      "text/html": [
       "<div>\n",
       "<style scoped>\n",
       "    .dataframe tbody tr th:only-of-type {\n",
       "        vertical-align: middle;\n",
       "    }\n",
       "\n",
       "    .dataframe tbody tr th {\n",
       "        vertical-align: top;\n",
       "    }\n",
       "\n",
       "    .dataframe thead th {\n",
       "        text-align: right;\n",
       "    }\n",
       "</style>\n",
       "<table border=\"1\" class=\"dataframe\">\n",
       "  <thead>\n",
       "    <tr style=\"text-align: right;\">\n",
       "      <th></th>\n",
       "      <th>patientid</th>\n",
       "      <th>membershid</th>\n",
       "      <th>person_nbr</th>\n",
       "      <th>Primary_Phone_NBR</th>\n",
       "      <th>Phone2_NBR</th>\n",
       "      <th>Phone3_NBR</th>\n",
       "      <th>groupid</th>\n",
       "    </tr>\n",
       "  </thead>\n",
       "  <tbody>\n",
       "    <tr>\n",
       "      <th>0</th>\n",
       "      <td>200001</td>\n",
       "      <td>4456.162497</td>\n",
       "      <td>2748.280106</td>\n",
       "      <td>C</td>\n",
       "      <td>O</td>\n",
       "      <td>C</td>\n",
       "      <td>EarD</td>\n",
       "    </tr>\n",
       "    <tr>\n",
       "      <th>1</th>\n",
       "      <td>200002</td>\n",
       "      <td>4456.162497</td>\n",
       "      <td>3983.633278</td>\n",
       "      <td>C</td>\n",
       "      <td>O</td>\n",
       "      <td>C</td>\n",
       "      <td>EarD</td>\n",
       "    </tr>\n",
       "    <tr>\n",
       "      <th>2</th>\n",
       "      <td>200003</td>\n",
       "      <td>4456.162497</td>\n",
       "      <td>5918.043203</td>\n",
       "      <td>C</td>\n",
       "      <td>O</td>\n",
       "      <td>C</td>\n",
       "      <td>EarD</td>\n",
       "    </tr>\n",
       "    <tr>\n",
       "      <th>3</th>\n",
       "      <td>200004</td>\n",
       "      <td>4456.162497</td>\n",
       "      <td>5882.418134</td>\n",
       "      <td>C</td>\n",
       "      <td>O</td>\n",
       "      <td>C</td>\n",
       "      <td>EarD</td>\n",
       "    </tr>\n",
       "    <tr>\n",
       "      <th>4</th>\n",
       "      <td>200005</td>\n",
       "      <td>4456.162497</td>\n",
       "      <td>3519.095855</td>\n",
       "      <td>C</td>\n",
       "      <td>O</td>\n",
       "      <td>C</td>\n",
       "      <td>EarD</td>\n",
       "    </tr>\n",
       "    <tr>\n",
       "      <th>...</th>\n",
       "      <td>...</td>\n",
       "      <td>...</td>\n",
       "      <td>...</td>\n",
       "      <td>...</td>\n",
       "      <td>...</td>\n",
       "      <td>...</td>\n",
       "      <td>...</td>\n",
       "    </tr>\n",
       "    <tr>\n",
       "      <th>84006</th>\n",
       "      <td>284007</td>\n",
       "      <td>61967.640577</td>\n",
       "      <td>6406.791285</td>\n",
       "      <td>C</td>\n",
       "      <td>C</td>\n",
       "      <td>C</td>\n",
       "      <td>Obesity-II</td>\n",
       "    </tr>\n",
       "    <tr>\n",
       "      <th>84007</th>\n",
       "      <td>284008</td>\n",
       "      <td>61967.640577</td>\n",
       "      <td>5736.801838</td>\n",
       "      <td>C</td>\n",
       "      <td>C</td>\n",
       "      <td>C</td>\n",
       "      <td>Obesity-II</td>\n",
       "    </tr>\n",
       "    <tr>\n",
       "      <th>84008</th>\n",
       "      <td>284009</td>\n",
       "      <td>61967.640577</td>\n",
       "      <td>7613.994822</td>\n",
       "      <td>C</td>\n",
       "      <td>C</td>\n",
       "      <td>C</td>\n",
       "      <td>Obesity-II</td>\n",
       "    </tr>\n",
       "    <tr>\n",
       "      <th>84009</th>\n",
       "      <td>284010</td>\n",
       "      <td>61967.640577</td>\n",
       "      <td>8530.577571</td>\n",
       "      <td>C</td>\n",
       "      <td>C</td>\n",
       "      <td>C</td>\n",
       "      <td>Obesity-II</td>\n",
       "    </tr>\n",
       "    <tr>\n",
       "      <th>84010</th>\n",
       "      <td>284011</td>\n",
       "      <td>61967.640577</td>\n",
       "      <td>2140.830791</td>\n",
       "      <td>C</td>\n",
       "      <td>C</td>\n",
       "      <td>C</td>\n",
       "      <td>Obesity-II</td>\n",
       "    </tr>\n",
       "  </tbody>\n",
       "</table>\n",
       "<p>84011 rows × 7 columns</p>\n",
       "</div>"
      ],
      "text/plain": [
       "       patientid    membershid   person_nbr Primary_Phone_NBR Phone2_NBR  \\\n",
       "0         200001   4456.162497  2748.280106                 C          O   \n",
       "1         200002   4456.162497  3983.633278                 C          O   \n",
       "2         200003   4456.162497  5918.043203                 C          O   \n",
       "3         200004   4456.162497  5882.418134                 C          O   \n",
       "4         200005   4456.162497  3519.095855                 C          O   \n",
       "...          ...           ...          ...               ...        ...   \n",
       "84006     284007  61967.640577  6406.791285                 C          C   \n",
       "84007     284008  61967.640577  5736.801838                 C          C   \n",
       "84008     284009  61967.640577  7613.994822                 C          C   \n",
       "84009     284010  61967.640577  8530.577571                 C          C   \n",
       "84010     284011  61967.640577  2140.830791                 C          C   \n",
       "\n",
       "      Phone3_NBR     groupid  \n",
       "0              C        EarD  \n",
       "1              C        EarD  \n",
       "2              C        EarD  \n",
       "3              C        EarD  \n",
       "4              C        EarD  \n",
       "...          ...         ...  \n",
       "84006          C  Obesity-II  \n",
       "84007          C  Obesity-II  \n",
       "84008          C  Obesity-II  \n",
       "84009          C  Obesity-II  \n",
       "84010          C  Obesity-II  \n",
       "\n",
       "[84011 rows x 7 columns]"
      ]
     },
     "execution_count": 69,
     "metadata": {},
     "output_type": "execute_result"
    }
   ],
   "source": [
    "ddd_p_add_merge_ff"
   ]
  },
  {
   "cell_type": "code",
   "execution_count": null,
   "id": "583d63a8",
   "metadata": {},
   "outputs": [],
   "source": [
    "#df.iloc[:,[0,2,1]]"
   ]
  },
  {
   "cell_type": "code",
   "execution_count": null,
   "id": "77d8e5be",
   "metadata": {},
   "outputs": [],
   "source": [
    "#ddd_p_add_merge_fff=ddd_p_add_merge_ff.iloc[:,[0,1,6,2,3,4,5]]"
   ]
  },
  {
   "cell_type": "code",
   "execution_count": null,
   "id": "5baf5385",
   "metadata": {},
   "outputs": [],
   "source": [
    "#ddd_p_add_merge_fff"
   ]
  },
  {
   "cell_type": "code",
   "execution_count": null,
   "id": "5c8bb01e",
   "metadata": {},
   "outputs": [],
   "source": [
    "#add cellflag empty column in dataframe"
   ]
  },
  {
   "cell_type": "code",
   "execution_count": 70,
   "id": "b31cb29a",
   "metadata": {},
   "outputs": [],
   "source": [
    "ddd_p_add_merge_ff['Cell_Flag']=''"
   ]
  },
  {
   "cell_type": "code",
   "execution_count": 71,
   "id": "ca8f7ed2",
   "metadata": {},
   "outputs": [
    {
     "data": {
      "text/html": [
       "<div>\n",
       "<style scoped>\n",
       "    .dataframe tbody tr th:only-of-type {\n",
       "        vertical-align: middle;\n",
       "    }\n",
       "\n",
       "    .dataframe tbody tr th {\n",
       "        vertical-align: top;\n",
       "    }\n",
       "\n",
       "    .dataframe thead th {\n",
       "        text-align: right;\n",
       "    }\n",
       "</style>\n",
       "<table border=\"1\" class=\"dataframe\">\n",
       "  <thead>\n",
       "    <tr style=\"text-align: right;\">\n",
       "      <th></th>\n",
       "      <th>patientid</th>\n",
       "      <th>membershid</th>\n",
       "      <th>person_nbr</th>\n",
       "      <th>Primary_Phone_NBR</th>\n",
       "      <th>Phone2_NBR</th>\n",
       "      <th>Phone3_NBR</th>\n",
       "      <th>groupid</th>\n",
       "      <th>Cell_Flag</th>\n",
       "    </tr>\n",
       "  </thead>\n",
       "  <tbody>\n",
       "    <tr>\n",
       "      <th>0</th>\n",
       "      <td>200001</td>\n",
       "      <td>4456.162497</td>\n",
       "      <td>2748.280106</td>\n",
       "      <td>C</td>\n",
       "      <td>O</td>\n",
       "      <td>C</td>\n",
       "      <td>EarD</td>\n",
       "      <td></td>\n",
       "    </tr>\n",
       "    <tr>\n",
       "      <th>1</th>\n",
       "      <td>200002</td>\n",
       "      <td>4456.162497</td>\n",
       "      <td>3983.633278</td>\n",
       "      <td>C</td>\n",
       "      <td>O</td>\n",
       "      <td>C</td>\n",
       "      <td>EarD</td>\n",
       "      <td></td>\n",
       "    </tr>\n",
       "    <tr>\n",
       "      <th>2</th>\n",
       "      <td>200003</td>\n",
       "      <td>4456.162497</td>\n",
       "      <td>5918.043203</td>\n",
       "      <td>C</td>\n",
       "      <td>O</td>\n",
       "      <td>C</td>\n",
       "      <td>EarD</td>\n",
       "      <td></td>\n",
       "    </tr>\n",
       "    <tr>\n",
       "      <th>3</th>\n",
       "      <td>200004</td>\n",
       "      <td>4456.162497</td>\n",
       "      <td>5882.418134</td>\n",
       "      <td>C</td>\n",
       "      <td>O</td>\n",
       "      <td>C</td>\n",
       "      <td>EarD</td>\n",
       "      <td></td>\n",
       "    </tr>\n",
       "    <tr>\n",
       "      <th>4</th>\n",
       "      <td>200005</td>\n",
       "      <td>4456.162497</td>\n",
       "      <td>3519.095855</td>\n",
       "      <td>C</td>\n",
       "      <td>O</td>\n",
       "      <td>C</td>\n",
       "      <td>EarD</td>\n",
       "      <td></td>\n",
       "    </tr>\n",
       "    <tr>\n",
       "      <th>...</th>\n",
       "      <td>...</td>\n",
       "      <td>...</td>\n",
       "      <td>...</td>\n",
       "      <td>...</td>\n",
       "      <td>...</td>\n",
       "      <td>...</td>\n",
       "      <td>...</td>\n",
       "      <td>...</td>\n",
       "    </tr>\n",
       "    <tr>\n",
       "      <th>84006</th>\n",
       "      <td>284007</td>\n",
       "      <td>61967.640577</td>\n",
       "      <td>6406.791285</td>\n",
       "      <td>C</td>\n",
       "      <td>C</td>\n",
       "      <td>C</td>\n",
       "      <td>Obesity-II</td>\n",
       "      <td></td>\n",
       "    </tr>\n",
       "    <tr>\n",
       "      <th>84007</th>\n",
       "      <td>284008</td>\n",
       "      <td>61967.640577</td>\n",
       "      <td>5736.801838</td>\n",
       "      <td>C</td>\n",
       "      <td>C</td>\n",
       "      <td>C</td>\n",
       "      <td>Obesity-II</td>\n",
       "      <td></td>\n",
       "    </tr>\n",
       "    <tr>\n",
       "      <th>84008</th>\n",
       "      <td>284009</td>\n",
       "      <td>61967.640577</td>\n",
       "      <td>7613.994822</td>\n",
       "      <td>C</td>\n",
       "      <td>C</td>\n",
       "      <td>C</td>\n",
       "      <td>Obesity-II</td>\n",
       "      <td></td>\n",
       "    </tr>\n",
       "    <tr>\n",
       "      <th>84009</th>\n",
       "      <td>284010</td>\n",
       "      <td>61967.640577</td>\n",
       "      <td>8530.577571</td>\n",
       "      <td>C</td>\n",
       "      <td>C</td>\n",
       "      <td>C</td>\n",
       "      <td>Obesity-II</td>\n",
       "      <td></td>\n",
       "    </tr>\n",
       "    <tr>\n",
       "      <th>84010</th>\n",
       "      <td>284011</td>\n",
       "      <td>61967.640577</td>\n",
       "      <td>2140.830791</td>\n",
       "      <td>C</td>\n",
       "      <td>C</td>\n",
       "      <td>C</td>\n",
       "      <td>Obesity-II</td>\n",
       "      <td></td>\n",
       "    </tr>\n",
       "  </tbody>\n",
       "</table>\n",
       "<p>84011 rows × 8 columns</p>\n",
       "</div>"
      ],
      "text/plain": [
       "       patientid    membershid   person_nbr Primary_Phone_NBR Phone2_NBR  \\\n",
       "0         200001   4456.162497  2748.280106                 C          O   \n",
       "1         200002   4456.162497  3983.633278                 C          O   \n",
       "2         200003   4456.162497  5918.043203                 C          O   \n",
       "3         200004   4456.162497  5882.418134                 C          O   \n",
       "4         200005   4456.162497  3519.095855                 C          O   \n",
       "...          ...           ...          ...               ...        ...   \n",
       "84006     284007  61967.640577  6406.791285                 C          C   \n",
       "84007     284008  61967.640577  5736.801838                 C          C   \n",
       "84008     284009  61967.640577  7613.994822                 C          C   \n",
       "84009     284010  61967.640577  8530.577571                 C          C   \n",
       "84010     284011  61967.640577  2140.830791                 C          C   \n",
       "\n",
       "      Phone3_NBR     groupid Cell_Flag  \n",
       "0              C        EarD            \n",
       "1              C        EarD            \n",
       "2              C        EarD            \n",
       "3              C        EarD            \n",
       "4              C        EarD            \n",
       "...          ...         ...       ...  \n",
       "84006          C  Obesity-II            \n",
       "84007          C  Obesity-II            \n",
       "84008          C  Obesity-II            \n",
       "84009          C  Obesity-II            \n",
       "84010          C  Obesity-II            \n",
       "\n",
       "[84011 rows x 8 columns]"
      ]
     },
     "execution_count": 71,
     "metadata": {},
     "output_type": "execute_result"
    }
   ],
   "source": [
    "ddd_p_add_merge_ff"
   ]
  },
  {
   "cell_type": "code",
   "execution_count": null,
   "id": "e91c5bbb",
   "metadata": {},
   "outputs": [],
   "source": [
    "#update cellflag p value in where condition"
   ]
  },
  {
   "cell_type": "code",
   "execution_count": 72,
   "id": "ade24b3c",
   "metadata": {},
   "outputs": [],
   "source": [
    "ddd_p_add_merge_ff[\"Cell_Flag\"]=np.where(ddd_p_add_merge_ff[\"Primary_Phone_NBR\"]==\"C\",\"P\", ddd_p_add_merge_ff[\"Cell_Flag\"])"
   ]
  },
  {
   "cell_type": "code",
   "execution_count": 73,
   "id": "23158f27",
   "metadata": {},
   "outputs": [
    {
     "data": {
      "text/plain": [
       "array(['P', ''], dtype=object)"
      ]
     },
     "execution_count": 73,
     "metadata": {},
     "output_type": "execute_result"
    }
   ],
   "source": [
    "ddd_p_add_merge_ff.Cell_Flag.unique()"
   ]
  },
  {
   "cell_type": "code",
   "execution_count": 74,
   "id": "cea22bd3",
   "metadata": {},
   "outputs": [],
   "source": [
    "# -----updating S flag, wher priman!=c pr2=c \n",
    "\n",
    "ddd_p_add_merge_ff[\"Cell_Flag\"]=np.where((ddd_p_add_merge_ff[\"Primary_Phone_NBR\"]!=\"C\") & (ddd_p_add_merge_ff[\"Phone2_NBR\"]==\"C\"),\"S\",\n",
    "                                      ddd_p_add_merge_ff[\"Cell_Flag\"])\n",
    "                                     "
   ]
  },
  {
   "cell_type": "code",
   "execution_count": 75,
   "id": "fa558b47",
   "metadata": {},
   "outputs": [
    {
     "data": {
      "text/plain": [
       "array(['P', 'S', ''], dtype=object)"
      ]
     },
     "execution_count": 75,
     "metadata": {},
     "output_type": "execute_result"
    }
   ],
   "source": [
    "ddd_p_add_merge_ff.Cell_Flag.unique()"
   ]
  },
  {
   "cell_type": "code",
   "execution_count": 76,
   "id": "379f868d",
   "metadata": {},
   "outputs": [],
   "source": [
    "# -----updating S flag, wher priman!=c , pr3=c\n",
    "\n",
    "ddd_p_add_merge_ff[\"Cell_Flag\"]=np.where((ddd_p_add_merge_ff[\"Primary_Phone_NBR\"]!=\"C\") &(ddd_p_add_merge_ff[\"Phone3_NBR\"]==\"C\"),\n",
    "                                      \"S\",ddd_p_add_merge_ff[\"Cell_Flag\"])\n",
    "                                     "
   ]
  },
  {
   "cell_type": "code",
   "execution_count": 77,
   "id": "73a10ede",
   "metadata": {},
   "outputs": [
    {
     "data": {
      "text/plain": [
       "array(['P', 'S', ''], dtype=object)"
      ]
     },
     "execution_count": 77,
     "metadata": {},
     "output_type": "execute_result"
    }
   ],
   "source": [
    "ddd_p_add_merge_ff.Cell_Flag.unique()"
   ]
  },
  {
   "cell_type": "code",
   "execution_count": 78,
   "id": "b2301561",
   "metadata": {},
   "outputs": [
    {
     "data": {
      "text/plain": [
       "P    81589\n",
       "S     1810\n",
       "       612\n",
       "Name: Cell_Flag, dtype: int64"
      ]
     },
     "execution_count": 78,
     "metadata": {},
     "output_type": "execute_result"
    }
   ],
   "source": [
    "ddd_p_add_merge_ff.Cell_Flag.value_counts()"
   ]
  },
  {
   "cell_type": "code",
   "execution_count": 79,
   "id": "476aedd3",
   "metadata": {},
   "outputs": [],
   "source": [
    "# -----updating S flag, wher priman!=c pr2!=c or pr3!=c\n",
    "\n",
    "ddd_p_add_merge_ff[\"Cell_Flag\"]=np.where((ddd_p_add_merge_ff[\"Primary_Phone_NBR\"]!=\"C\") &(ddd_p_add_merge_ff[\"Phone2_NBR\"]!=\"C\"),\n",
    "                                      \"N\",ddd_p_add_merge_ff[\"Cell_Flag\"])\n",
    "                                     \n",
    "# -----updating S flag, wher priman!=c pr2=c or pr3=c\n",
    "\n",
    "ddd_p_add_merge_ff[\"Cell_Flag\"]=np.where((ddd_p_add_merge_ff[\"Primary_Phone_NBR\"]!=\"C\") &(ddd_p_add_merge_ff[\"Phone3_NBR\"]!=\"C\"),\n",
    "                                      \"N\",ddd_p_add_merge_ff[\"Cell_Flag\"])\n",
    "                                     \n"
   ]
  },
  {
   "cell_type": "code",
   "execution_count": 80,
   "id": "ce96105e",
   "metadata": {},
   "outputs": [
    {
     "data": {
      "text/plain": [
       "array(['P', 'N'], dtype=object)"
      ]
     },
     "execution_count": 80,
     "metadata": {},
     "output_type": "execute_result"
    }
   ],
   "source": [
    "ddd_p_add_merge_ff.Cell_Flag.unique()"
   ]
  },
  {
   "cell_type": "code",
   "execution_count": 81,
   "id": "880d9742",
   "metadata": {},
   "outputs": [
    {
     "data": {
      "text/plain": [
       "P    81589\n",
       "N     2422\n",
       "Name: Cell_Flag, dtype: int64"
      ]
     },
     "execution_count": 81,
     "metadata": {},
     "output_type": "execute_result"
    }
   ],
   "source": [
    "ddd_p_add_merge_ff.Cell_Flag.value_counts()"
   ]
  },
  {
   "cell_type": "code",
   "execution_count": null,
   "id": "2980afda",
   "metadata": {},
   "outputs": [],
   "source": [
    "#add flag colum ,cellflag=p,flag=Total BBB patients'p'and cellflag=s,flag=Total BBB patients's'andcellflag=N,flag=Total BBB patients'N'"
   ]
  },
  {
   "cell_type": "code",
   "execution_count": 82,
   "id": "daf157ae",
   "metadata": {},
   "outputs": [],
   "source": [
    "ddd_p_add_merge_ff['Flag']=\"Total BBB patients\""
   ]
  },
  {
   "cell_type": "code",
   "execution_count": 83,
   "id": "bc59c4af",
   "metadata": {},
   "outputs": [],
   "source": [
    "#this method only flag value =\"Total BBB patients \"\n",
    "ddd_p_add_merge_ff_P=ddd_p_add_merge_ff[ddd_p_add_merge_ff.Cell_Flag==\"P\"]\n",
    "ddd_p_add_merge_ff_S=ddd_p_add_merge_ff[ddd_p_add_merge_ff.Cell_Flag==\"S\"]\n",
    "ddd_p_add_merge_ff_N=ddd_p_add_merge_ff[ddd_p_add_merge_ff.Cell_Flag==\"N\"]"
   ]
  },
  {
   "cell_type": "code",
   "execution_count": 84,
   "id": "0604f938",
   "metadata": {},
   "outputs": [
    {
     "name": "stderr",
     "output_type": "stream",
     "text": [
      "C:\\Users\\hp\\AppData\\Local\\Temp\\ipykernel_17036\\490117499.py:1: SettingWithCopyWarning: \n",
      "A value is trying to be set on a copy of a slice from a DataFrame.\n",
      "Try using .loc[row_indexer,col_indexer] = value instead\n",
      "\n",
      "See the caveats in the documentation: https://pandas.pydata.org/pandas-docs/stable/user_guide/indexing.html#returning-a-view-versus-a-copy\n",
      "  ddd_p_add_merge_ff_P[\"Flag\"]=\"Total BBB patients with cell flag P\"\n",
      "C:\\Users\\hp\\AppData\\Local\\Temp\\ipykernel_17036\\490117499.py:3: SettingWithCopyWarning: \n",
      "A value is trying to be set on a copy of a slice from a DataFrame.\n",
      "Try using .loc[row_indexer,col_indexer] = value instead\n",
      "\n",
      "See the caveats in the documentation: https://pandas.pydata.org/pandas-docs/stable/user_guide/indexing.html#returning-a-view-versus-a-copy\n",
      "  ddd_p_add_merge_ff_N[\"Flag\"]=\"Total BBB patients with cell flag N\"\n"
     ]
    }
   ],
   "source": [
    "ddd_p_add_merge_ff_P[\"Flag\"]=\"Total BBB patients with cell flag P\"\n",
    "ddd_p_add_merge_ff_S[\"Flag\"]=\"Total BBB patients with cell flag S\"\n",
    "ddd_p_add_merge_ff_N[\"Flag\"]=\"Total BBB patients with cell flag N\""
   ]
  },
  {
   "cell_type": "code",
   "execution_count": 85,
   "id": "63fe2015",
   "metadata": {},
   "outputs": [
    {
     "data": {
      "text/html": [
       "<div>\n",
       "<style scoped>\n",
       "    .dataframe tbody tr th:only-of-type {\n",
       "        vertical-align: middle;\n",
       "    }\n",
       "\n",
       "    .dataframe tbody tr th {\n",
       "        vertical-align: top;\n",
       "    }\n",
       "\n",
       "    .dataframe thead th {\n",
       "        text-align: right;\n",
       "    }\n",
       "</style>\n",
       "<table border=\"1\" class=\"dataframe\">\n",
       "  <thead>\n",
       "    <tr style=\"text-align: right;\">\n",
       "      <th></th>\n",
       "      <th>patientid</th>\n",
       "      <th>membershid</th>\n",
       "      <th>person_nbr</th>\n",
       "      <th>Primary_Phone_NBR</th>\n",
       "      <th>Phone2_NBR</th>\n",
       "      <th>Phone3_NBR</th>\n",
       "      <th>groupid</th>\n",
       "      <th>Cell_Flag</th>\n",
       "      <th>Flag</th>\n",
       "    </tr>\n",
       "  </thead>\n",
       "  <tbody>\n",
       "  </tbody>\n",
       "</table>\n",
       "</div>"
      ],
      "text/plain": [
       "Empty DataFrame\n",
       "Columns: [patientid, membershid, person_nbr, Primary_Phone_NBR, Phone2_NBR, Phone3_NBR, groupid, Cell_Flag, Flag]\n",
       "Index: []"
      ]
     },
     "execution_count": 85,
     "metadata": {},
     "output_type": "execute_result"
    }
   ],
   "source": [
    "ddd_p_add_merge_ff_S.head()"
   ]
  },
  {
   "cell_type": "code",
   "execution_count": 86,
   "id": "5af0f318",
   "metadata": {},
   "outputs": [
    {
     "data": {
      "text/html": [
       "<div>\n",
       "<style scoped>\n",
       "    .dataframe tbody tr th:only-of-type {\n",
       "        vertical-align: middle;\n",
       "    }\n",
       "\n",
       "    .dataframe tbody tr th {\n",
       "        vertical-align: top;\n",
       "    }\n",
       "\n",
       "    .dataframe thead th {\n",
       "        text-align: right;\n",
       "    }\n",
       "</style>\n",
       "<table border=\"1\" class=\"dataframe\">\n",
       "  <thead>\n",
       "    <tr style=\"text-align: right;\">\n",
       "      <th></th>\n",
       "      <th>patientid</th>\n",
       "      <th>membershid</th>\n",
       "      <th>person_nbr</th>\n",
       "      <th>Primary_Phone_NBR</th>\n",
       "      <th>Phone2_NBR</th>\n",
       "      <th>Phone3_NBR</th>\n",
       "      <th>groupid</th>\n",
       "      <th>Cell_Flag</th>\n",
       "      <th>Flag</th>\n",
       "    </tr>\n",
       "  </thead>\n",
       "  <tbody>\n",
       "    <tr>\n",
       "      <th>614</th>\n",
       "      <td>200615</td>\n",
       "      <td>4456.162497</td>\n",
       "      <td>6677.313951</td>\n",
       "      <td>O</td>\n",
       "      <td>C</td>\n",
       "      <td>O</td>\n",
       "      <td>EarD</td>\n",
       "      <td>N</td>\n",
       "      <td>Total BBB patients with cell flag N</td>\n",
       "    </tr>\n",
       "    <tr>\n",
       "      <th>615</th>\n",
       "      <td>200616</td>\n",
       "      <td>4456.162497</td>\n",
       "      <td>2462.055205</td>\n",
       "      <td>O</td>\n",
       "      <td>C</td>\n",
       "      <td>O</td>\n",
       "      <td>EarD</td>\n",
       "      <td>N</td>\n",
       "      <td>Total BBB patients with cell flag N</td>\n",
       "    </tr>\n",
       "    <tr>\n",
       "      <th>616</th>\n",
       "      <td>200617</td>\n",
       "      <td>4456.162497</td>\n",
       "      <td>3429.345531</td>\n",
       "      <td>O</td>\n",
       "      <td>C</td>\n",
       "      <td>O</td>\n",
       "      <td>EarD</td>\n",
       "      <td>N</td>\n",
       "      <td>Total BBB patients with cell flag N</td>\n",
       "    </tr>\n",
       "    <tr>\n",
       "      <th>617</th>\n",
       "      <td>200618</td>\n",
       "      <td>4456.162497</td>\n",
       "      <td>9685.907698</td>\n",
       "      <td>O</td>\n",
       "      <td>C</td>\n",
       "      <td>O</td>\n",
       "      <td>EarD</td>\n",
       "      <td>N</td>\n",
       "      <td>Total BBB patients with cell flag N</td>\n",
       "    </tr>\n",
       "    <tr>\n",
       "      <th>618</th>\n",
       "      <td>200619</td>\n",
       "      <td>4456.162497</td>\n",
       "      <td>4297.300386</td>\n",
       "      <td>O</td>\n",
       "      <td>C</td>\n",
       "      <td>O</td>\n",
       "      <td>EarD</td>\n",
       "      <td>N</td>\n",
       "      <td>Total BBB patients with cell flag N</td>\n",
       "    </tr>\n",
       "  </tbody>\n",
       "</table>\n",
       "</div>"
      ],
      "text/plain": [
       "     patientid   membershid   person_nbr Primary_Phone_NBR Phone2_NBR  \\\n",
       "614     200615  4456.162497  6677.313951                 O          C   \n",
       "615     200616  4456.162497  2462.055205                 O          C   \n",
       "616     200617  4456.162497  3429.345531                 O          C   \n",
       "617     200618  4456.162497  9685.907698                 O          C   \n",
       "618     200619  4456.162497  4297.300386                 O          C   \n",
       "\n",
       "    Phone3_NBR groupid Cell_Flag                                 Flag  \n",
       "614          O    EarD         N  Total BBB patients with cell flag N  \n",
       "615          O    EarD         N  Total BBB patients with cell flag N  \n",
       "616          O    EarD         N  Total BBB patients with cell flag N  \n",
       "617          O    EarD         N  Total BBB patients with cell flag N  \n",
       "618          O    EarD         N  Total BBB patients with cell flag N  "
      ]
     },
     "execution_count": 86,
     "metadata": {},
     "output_type": "execute_result"
    }
   ],
   "source": [
    "ddd_p_add_merge_ff_N.head()"
   ]
  },
  {
   "cell_type": "code",
   "execution_count": 87,
   "id": "98b035c4",
   "metadata": {},
   "outputs": [
    {
     "data": {
      "text/html": [
       "<div>\n",
       "<style scoped>\n",
       "    .dataframe tbody tr th:only-of-type {\n",
       "        vertical-align: middle;\n",
       "    }\n",
       "\n",
       "    .dataframe tbody tr th {\n",
       "        vertical-align: top;\n",
       "    }\n",
       "\n",
       "    .dataframe thead th {\n",
       "        text-align: right;\n",
       "    }\n",
       "</style>\n",
       "<table border=\"1\" class=\"dataframe\">\n",
       "  <thead>\n",
       "    <tr style=\"text-align: right;\">\n",
       "      <th></th>\n",
       "      <th>patientid</th>\n",
       "      <th>membershid</th>\n",
       "      <th>person_nbr</th>\n",
       "      <th>Primary_Phone_NBR</th>\n",
       "      <th>Phone2_NBR</th>\n",
       "      <th>Phone3_NBR</th>\n",
       "      <th>groupid</th>\n",
       "      <th>Cell_Flag</th>\n",
       "      <th>Flag</th>\n",
       "    </tr>\n",
       "  </thead>\n",
       "  <tbody>\n",
       "    <tr>\n",
       "      <th>0</th>\n",
       "      <td>200001</td>\n",
       "      <td>4456.162497</td>\n",
       "      <td>2748.280106</td>\n",
       "      <td>C</td>\n",
       "      <td>O</td>\n",
       "      <td>C</td>\n",
       "      <td>EarD</td>\n",
       "      <td>P</td>\n",
       "      <td>Total BBB patients with cell flag P</td>\n",
       "    </tr>\n",
       "    <tr>\n",
       "      <th>1</th>\n",
       "      <td>200002</td>\n",
       "      <td>4456.162497</td>\n",
       "      <td>3983.633278</td>\n",
       "      <td>C</td>\n",
       "      <td>O</td>\n",
       "      <td>C</td>\n",
       "      <td>EarD</td>\n",
       "      <td>P</td>\n",
       "      <td>Total BBB patients with cell flag P</td>\n",
       "    </tr>\n",
       "    <tr>\n",
       "      <th>2</th>\n",
       "      <td>200003</td>\n",
       "      <td>4456.162497</td>\n",
       "      <td>5918.043203</td>\n",
       "      <td>C</td>\n",
       "      <td>O</td>\n",
       "      <td>C</td>\n",
       "      <td>EarD</td>\n",
       "      <td>P</td>\n",
       "      <td>Total BBB patients with cell flag P</td>\n",
       "    </tr>\n",
       "    <tr>\n",
       "      <th>3</th>\n",
       "      <td>200004</td>\n",
       "      <td>4456.162497</td>\n",
       "      <td>5882.418134</td>\n",
       "      <td>C</td>\n",
       "      <td>O</td>\n",
       "      <td>C</td>\n",
       "      <td>EarD</td>\n",
       "      <td>P</td>\n",
       "      <td>Total BBB patients with cell flag P</td>\n",
       "    </tr>\n",
       "    <tr>\n",
       "      <th>4</th>\n",
       "      <td>200005</td>\n",
       "      <td>4456.162497</td>\n",
       "      <td>3519.095855</td>\n",
       "      <td>C</td>\n",
       "      <td>O</td>\n",
       "      <td>C</td>\n",
       "      <td>EarD</td>\n",
       "      <td>P</td>\n",
       "      <td>Total BBB patients with cell flag P</td>\n",
       "    </tr>\n",
       "  </tbody>\n",
       "</table>\n",
       "</div>"
      ],
      "text/plain": [
       "   patientid   membershid   person_nbr Primary_Phone_NBR Phone2_NBR  \\\n",
       "0     200001  4456.162497  2748.280106                 C          O   \n",
       "1     200002  4456.162497  3983.633278                 C          O   \n",
       "2     200003  4456.162497  5918.043203                 C          O   \n",
       "3     200004  4456.162497  5882.418134                 C          O   \n",
       "4     200005  4456.162497  3519.095855                 C          O   \n",
       "\n",
       "  Phone3_NBR groupid Cell_Flag                                 Flag  \n",
       "0          C    EarD         P  Total BBB patients with cell flag P  \n",
       "1          C    EarD         P  Total BBB patients with cell flag P  \n",
       "2          C    EarD         P  Total BBB patients with cell flag P  \n",
       "3          C    EarD         P  Total BBB patients with cell flag P  \n",
       "4          C    EarD         P  Total BBB patients with cell flag P  "
      ]
     },
     "execution_count": 87,
     "metadata": {},
     "output_type": "execute_result"
    }
   ],
   "source": [
    "ddd_p_add_merge_ff_P.head()"
   ]
  },
  {
   "cell_type": "code",
   "execution_count": null,
   "id": "aa3ba2cb",
   "metadata": {},
   "outputs": [],
   "source": [
    "# bbb_p_add_merge, bbb_p_add_merge_P,bbb_p_add_merge_S,bbb_p_add_merge_N"
   ]
  },
  {
   "cell_type": "code",
   "execution_count": 88,
   "id": "1c6b4469",
   "metadata": {},
   "outputs": [],
   "source": [
    "ddd_p_add_merge_ff_sm=ddd_p_add_merge_ff.groupby([\"Flag\"])[\"patientid\"].count()"
   ]
  },
  {
   "cell_type": "code",
   "execution_count": 89,
   "id": "4da3a64e",
   "metadata": {},
   "outputs": [
    {
     "data": {
      "text/plain": [
       "Flag\n",
       "Total BBB patients    84011\n",
       "Name: patientid, dtype: int64"
      ]
     },
     "execution_count": 89,
     "metadata": {},
     "output_type": "execute_result"
    }
   ],
   "source": [
    "ddd_p_add_merge_ff_sm"
   ]
  },
  {
   "cell_type": "code",
   "execution_count": 90,
   "id": "c2edc408",
   "metadata": {},
   "outputs": [],
   "source": [
    "ddd_p_add_merge_ff_P_sm=ddd_p_add_merge_ff_P.groupby([\"Flag\"])[\"patientid\"].count()\n",
    "ddd_p_add_merge_ff_P_sm_ndf=pd.DataFrame(ddd_p_add_merge_ff_P_sm)\n",
    "ddd_p_add_merge_ff_P_sm_ndf.reset_index(inplace=True)"
   ]
  },
  {
   "cell_type": "code",
   "execution_count": 91,
   "id": "f894a615",
   "metadata": {},
   "outputs": [
    {
     "data": {
      "text/html": [
       "<div>\n",
       "<style scoped>\n",
       "    .dataframe tbody tr th:only-of-type {\n",
       "        vertical-align: middle;\n",
       "    }\n",
       "\n",
       "    .dataframe tbody tr th {\n",
       "        vertical-align: top;\n",
       "    }\n",
       "\n",
       "    .dataframe thead th {\n",
       "        text-align: right;\n",
       "    }\n",
       "</style>\n",
       "<table border=\"1\" class=\"dataframe\">\n",
       "  <thead>\n",
       "    <tr style=\"text-align: right;\">\n",
       "      <th></th>\n",
       "      <th>Flag</th>\n",
       "      <th>patientid</th>\n",
       "    </tr>\n",
       "  </thead>\n",
       "  <tbody>\n",
       "    <tr>\n",
       "      <th>0</th>\n",
       "      <td>Total BBB patients with cell flag P</td>\n",
       "      <td>81589</td>\n",
       "    </tr>\n",
       "  </tbody>\n",
       "</table>\n",
       "</div>"
      ],
      "text/plain": [
       "                                  Flag  patientid\n",
       "0  Total BBB patients with cell flag P      81589"
      ]
     },
     "execution_count": 91,
     "metadata": {},
     "output_type": "execute_result"
    }
   ],
   "source": [
    "ddd_p_add_merge_ff_P_sm_ndf"
   ]
  },
  {
   "cell_type": "code",
   "execution_count": 92,
   "id": "3e4392bf",
   "metadata": {},
   "outputs": [],
   "source": [
    "ddd_p_add_merge_ff_S_sm=ddd_p_add_merge_ff_S.groupby([\"Flag\"])[\"patientid\"].count()\n",
    "ddd_p_add_merge_ff_S_sm_ndf=pd.DataFrame(ddd_p_add_merge_ff_S_sm)\n",
    "ddd_p_add_merge_ff_S_sm_ndf.reset_index(inplace=True)"
   ]
  },
  {
   "cell_type": "code",
   "execution_count": 93,
   "id": "e4289555",
   "metadata": {},
   "outputs": [
    {
     "data": {
      "text/html": [
       "<div>\n",
       "<style scoped>\n",
       "    .dataframe tbody tr th:only-of-type {\n",
       "        vertical-align: middle;\n",
       "    }\n",
       "\n",
       "    .dataframe tbody tr th {\n",
       "        vertical-align: top;\n",
       "    }\n",
       "\n",
       "    .dataframe thead th {\n",
       "        text-align: right;\n",
       "    }\n",
       "</style>\n",
       "<table border=\"1\" class=\"dataframe\">\n",
       "  <thead>\n",
       "    <tr style=\"text-align: right;\">\n",
       "      <th></th>\n",
       "      <th>Flag</th>\n",
       "      <th>patientid</th>\n",
       "    </tr>\n",
       "  </thead>\n",
       "  <tbody>\n",
       "  </tbody>\n",
       "</table>\n",
       "</div>"
      ],
      "text/plain": [
       "Empty DataFrame\n",
       "Columns: [Flag, patientid]\n",
       "Index: []"
      ]
     },
     "execution_count": 93,
     "metadata": {},
     "output_type": "execute_result"
    }
   ],
   "source": [
    "ddd_p_add_merge_ff_S_sm_ndf"
   ]
  },
  {
   "cell_type": "code",
   "execution_count": 94,
   "id": "760b9407",
   "metadata": {},
   "outputs": [],
   "source": [
    "ddd_p_add_merge_ff_N_sm=ddd_p_add_merge_ff_N.groupby([\"Flag\"])[\"patientid\"].count()\n",
    "ddd_p_add_merge_ff_N_sm_ndf=pd.DataFrame(ddd_p_add_merge_ff_N_sm)\n",
    "ddd_p_add_merge_ff_N_sm_ndf.reset_index(inplace=True)"
   ]
  },
  {
   "cell_type": "code",
   "execution_count": 95,
   "id": "75dbdb0c",
   "metadata": {},
   "outputs": [
    {
     "data": {
      "text/html": [
       "<div>\n",
       "<style scoped>\n",
       "    .dataframe tbody tr th:only-of-type {\n",
       "        vertical-align: middle;\n",
       "    }\n",
       "\n",
       "    .dataframe tbody tr th {\n",
       "        vertical-align: top;\n",
       "    }\n",
       "\n",
       "    .dataframe thead th {\n",
       "        text-align: right;\n",
       "    }\n",
       "</style>\n",
       "<table border=\"1\" class=\"dataframe\">\n",
       "  <thead>\n",
       "    <tr style=\"text-align: right;\">\n",
       "      <th></th>\n",
       "      <th>Flag</th>\n",
       "      <th>patientid</th>\n",
       "    </tr>\n",
       "  </thead>\n",
       "  <tbody>\n",
       "    <tr>\n",
       "      <th>0</th>\n",
       "      <td>Total BBB patients with cell flag N</td>\n",
       "      <td>2422</td>\n",
       "    </tr>\n",
       "  </tbody>\n",
       "</table>\n",
       "</div>"
      ],
      "text/plain": [
       "                                  Flag  patientid\n",
       "0  Total BBB patients with cell flag N       2422"
      ]
     },
     "execution_count": 95,
     "metadata": {},
     "output_type": "execute_result"
    }
   ],
   "source": [
    "ddd_p_add_merge_ff_N_sm_ndf"
   ]
  },
  {
   "cell_type": "code",
   "execution_count": 99,
   "id": "2106987c",
   "metadata": {},
   "outputs": [
    {
     "data": {
      "text/html": [
       "<div>\n",
       "<style scoped>\n",
       "    .dataframe tbody tr th:only-of-type {\n",
       "        vertical-align: middle;\n",
       "    }\n",
       "\n",
       "    .dataframe tbody tr th {\n",
       "        vertical-align: top;\n",
       "    }\n",
       "\n",
       "    .dataframe thead th {\n",
       "        text-align: right;\n",
       "    }\n",
       "</style>\n",
       "<table border=\"1\" class=\"dataframe\">\n",
       "  <thead>\n",
       "    <tr style=\"text-align: right;\">\n",
       "      <th></th>\n",
       "      <th>Flag</th>\n",
       "      <th>patientid</th>\n",
       "    </tr>\n",
       "  </thead>\n",
       "  <tbody>\n",
       "    <tr>\n",
       "      <th>0</th>\n",
       "      <td>Total BBB patients</td>\n",
       "      <td>84011</td>\n",
       "    </tr>\n",
       "  </tbody>\n",
       "</table>\n",
       "</div>"
      ],
      "text/plain": [
       "                 Flag  patientid\n",
       "0  Total BBB patients      84011"
      ]
     },
     "execution_count": 99,
     "metadata": {},
     "output_type": "execute_result"
    }
   ],
   "source": [
    "ddd_p_add_merge_ff_sm_ndf=pd.DataFrame(ddd_p_add_merge_ff_sm)\n",
    "ddd_p_add_merge_ff_sm_ndf.columns\n",
    "\n",
    "ddd_p_add_merge_ff_sm_ndf.reset_index(inplace=True)\n",
    "ddd_p_add_merge_ff_sm_ndf"
   ]
  },
  {
   "cell_type": "code",
   "execution_count": 100,
   "id": "e47910e2",
   "metadata": {},
   "outputs": [],
   "source": [
    "# ---append---\n",
    "\n",
    "# bbb_p_add_merge_N_sm_ndf\n",
    "final_df1=pd.concat([ddd_p_add_merge_ff_sm_ndf,ddd_p_add_merge_ff_P_sm_ndf,ddd_p_add_merge_ff_S_sm_ndf,ddd_p_add_merge_ff_N_sm_ndf],ignore_index=True, axis=0)"
   ]
  },
  {
   "cell_type": "code",
   "execution_count": 101,
   "id": "87600c6c",
   "metadata": {},
   "outputs": [
    {
     "data": {
      "text/html": [
       "<div>\n",
       "<style scoped>\n",
       "    .dataframe tbody tr th:only-of-type {\n",
       "        vertical-align: middle;\n",
       "    }\n",
       "\n",
       "    .dataframe tbody tr th {\n",
       "        vertical-align: top;\n",
       "    }\n",
       "\n",
       "    .dataframe thead th {\n",
       "        text-align: right;\n",
       "    }\n",
       "</style>\n",
       "<table border=\"1\" class=\"dataframe\">\n",
       "  <thead>\n",
       "    <tr style=\"text-align: right;\">\n",
       "      <th></th>\n",
       "      <th>Flag</th>\n",
       "      <th>patientid</th>\n",
       "    </tr>\n",
       "  </thead>\n",
       "  <tbody>\n",
       "    <tr>\n",
       "      <th>0</th>\n",
       "      <td>Total BBB patients</td>\n",
       "      <td>84011</td>\n",
       "    </tr>\n",
       "    <tr>\n",
       "      <th>1</th>\n",
       "      <td>Total BBB patients with cell flag P</td>\n",
       "      <td>81589</td>\n",
       "    </tr>\n",
       "    <tr>\n",
       "      <th>2</th>\n",
       "      <td>Total BBB patients with cell flag N</td>\n",
       "      <td>2422</td>\n",
       "    </tr>\n",
       "  </tbody>\n",
       "</table>\n",
       "</div>"
      ],
      "text/plain": [
       "                                  Flag  patientid\n",
       "0                   Total BBB patients      84011\n",
       "1  Total BBB patients with cell flag P      81589\n",
       "2  Total BBB patients with cell flag N       2422"
      ]
     },
     "execution_count": 101,
     "metadata": {},
     "output_type": "execute_result"
    }
   ],
   "source": [
    "final_df1"
   ]
  },
  {
   "cell_type": "code",
   "execution_count": 102,
   "id": "a340f433",
   "metadata": {},
   "outputs": [],
   "source": [
    "final_df1.columns=[\"Flag\",\"Count\"]"
   ]
  },
  {
   "cell_type": "code",
   "execution_count": 103,
   "id": "00af8c6d",
   "metadata": {},
   "outputs": [
    {
     "data": {
      "text/html": [
       "<div>\n",
       "<style scoped>\n",
       "    .dataframe tbody tr th:only-of-type {\n",
       "        vertical-align: middle;\n",
       "    }\n",
       "\n",
       "    .dataframe tbody tr th {\n",
       "        vertical-align: top;\n",
       "    }\n",
       "\n",
       "    .dataframe thead th {\n",
       "        text-align: right;\n",
       "    }\n",
       "</style>\n",
       "<table border=\"1\" class=\"dataframe\">\n",
       "  <thead>\n",
       "    <tr style=\"text-align: right;\">\n",
       "      <th></th>\n",
       "      <th>Flag</th>\n",
       "      <th>Count</th>\n",
       "    </tr>\n",
       "  </thead>\n",
       "  <tbody>\n",
       "    <tr>\n",
       "      <th>0</th>\n",
       "      <td>Total BBB patients</td>\n",
       "      <td>84011</td>\n",
       "    </tr>\n",
       "    <tr>\n",
       "      <th>1</th>\n",
       "      <td>Total BBB patients with cell flag P</td>\n",
       "      <td>81589</td>\n",
       "    </tr>\n",
       "    <tr>\n",
       "      <th>2</th>\n",
       "      <td>Total BBB patients with cell flag N</td>\n",
       "      <td>2422</td>\n",
       "    </tr>\n",
       "  </tbody>\n",
       "</table>\n",
       "</div>"
      ],
      "text/plain": [
       "                                  Flag  Count\n",
       "0                   Total BBB patients  84011\n",
       "1  Total BBB patients with cell flag P  81589\n",
       "2  Total BBB patients with cell flag N   2422"
      ]
     },
     "execution_count": 103,
     "metadata": {},
     "output_type": "execute_result"
    }
   ],
   "source": [
    "final_df1"
   ]
  },
  {
   "cell_type": "code",
   "execution_count": 104,
   "id": "17414f61",
   "metadata": {},
   "outputs": [
    {
     "name": "stdout",
     "output_type": "stream",
     "text": [
      "2023-08-09\n"
     ]
    }
   ],
   "source": [
    "from datetime import date\n",
    "today_date=date.today()\n",
    "print(today_date)"
   ]
  },
  {
   "cell_type": "code",
   "execution_count": 105,
   "id": "ea3e74cc",
   "metadata": {},
   "outputs": [
    {
     "name": "stdout",
     "output_type": "stream",
     "text": [
      "15:32:42\n"
     ]
    }
   ],
   "source": [
    "from datetime import datetime\n",
    "time=datetime.now().strftime('%H:%M:%S')\n",
    "print(time)"
   ]
  },
  {
   "cell_type": "code",
   "execution_count": 106,
   "id": "2f9a56fc",
   "metadata": {},
   "outputs": [],
   "source": [
    "final_df1['Date']=today_date"
   ]
  },
  {
   "cell_type": "code",
   "execution_count": 107,
   "id": "823a8095",
   "metadata": {},
   "outputs": [],
   "source": [
    "final_df1['Time']=time"
   ]
  },
  {
   "cell_type": "code",
   "execution_count": 108,
   "id": "6f8b4eb2",
   "metadata": {},
   "outputs": [
    {
     "data": {
      "text/html": [
       "<div>\n",
       "<style scoped>\n",
       "    .dataframe tbody tr th:only-of-type {\n",
       "        vertical-align: middle;\n",
       "    }\n",
       "\n",
       "    .dataframe tbody tr th {\n",
       "        vertical-align: top;\n",
       "    }\n",
       "\n",
       "    .dataframe thead th {\n",
       "        text-align: right;\n",
       "    }\n",
       "</style>\n",
       "<table border=\"1\" class=\"dataframe\">\n",
       "  <thead>\n",
       "    <tr style=\"text-align: right;\">\n",
       "      <th></th>\n",
       "      <th>Flag</th>\n",
       "      <th>Count</th>\n",
       "      <th>Date</th>\n",
       "      <th>Time</th>\n",
       "    </tr>\n",
       "  </thead>\n",
       "  <tbody>\n",
       "    <tr>\n",
       "      <th>0</th>\n",
       "      <td>Total BBB patients</td>\n",
       "      <td>84011</td>\n",
       "      <td>2023-08-09</td>\n",
       "      <td>15:32:42</td>\n",
       "    </tr>\n",
       "    <tr>\n",
       "      <th>1</th>\n",
       "      <td>Total BBB patients with cell flag P</td>\n",
       "      <td>81589</td>\n",
       "      <td>2023-08-09</td>\n",
       "      <td>15:32:42</td>\n",
       "    </tr>\n",
       "    <tr>\n",
       "      <th>2</th>\n",
       "      <td>Total BBB patients with cell flag N</td>\n",
       "      <td>2422</td>\n",
       "      <td>2023-08-09</td>\n",
       "      <td>15:32:42</td>\n",
       "    </tr>\n",
       "  </tbody>\n",
       "</table>\n",
       "</div>"
      ],
      "text/plain": [
       "                                  Flag  Count        Date      Time\n",
       "0                   Total BBB patients  84011  2023-08-09  15:32:42\n",
       "1  Total BBB patients with cell flag P  81589  2023-08-09  15:32:42\n",
       "2  Total BBB patients with cell flag N   2422  2023-08-09  15:32:42"
      ]
     },
     "execution_count": 108,
     "metadata": {},
     "output_type": "execute_result"
    }
   ],
   "source": [
    "final_df1"
   ]
  },
  {
   "cell_type": "code",
   "execution_count": null,
   "id": "e769f502",
   "metadata": {},
   "outputs": [],
   "source": [
    "import pandas as pd\n",
    "import numpy as np\n",
    "#check all level wiseTo check all level wise Patientid, membershipid, groupid"
   ]
  },
  {
   "cell_type": "code",
   "execution_count": null,
   "id": "ab0a8619",
   "metadata": {},
   "outputs": [],
   "source": [
    "#function:\n",
    "#read_excel,concat(),filters/conditions"
   ]
  },
  {
   "cell_type": "code",
   "execution_count": null,
   "id": "ed1b195f",
   "metadata": {},
   "outputs": [],
   "source": [
    "#import bbbpatients and bbb address excel files"
   ]
  },
  {
   "cell_type": "code",
   "execution_count": 109,
   "id": "b00573d4",
   "metadata": {},
   "outputs": [],
   "source": [
    "bbb_p_df1=pd.read_excel(\"Downloads\\Insurance_Customers.xlsx\",sheet_name=\"BBB_Patients\")"
   ]
  },
  {
   "cell_type": "code",
   "execution_count": 110,
   "id": "9ee9141b",
   "metadata": {},
   "outputs": [
    {
     "data": {
      "text/html": [
       "<div>\n",
       "<style scoped>\n",
       "    .dataframe tbody tr th:only-of-type {\n",
       "        vertical-align: middle;\n",
       "    }\n",
       "\n",
       "    .dataframe tbody tr th {\n",
       "        vertical-align: top;\n",
       "    }\n",
       "\n",
       "    .dataframe thead th {\n",
       "        text-align: right;\n",
       "    }\n",
       "</style>\n",
       "<table border=\"1\" class=\"dataframe\">\n",
       "  <thead>\n",
       "    <tr style=\"text-align: right;\">\n",
       "      <th></th>\n",
       "      <th>patientid</th>\n",
       "      <th>membershid</th>\n",
       "      <th>groupid</th>\n",
       "      <th>person_nbr</th>\n",
       "    </tr>\n",
       "  </thead>\n",
       "  <tbody>\n",
       "    <tr>\n",
       "      <th>0</th>\n",
       "      <td>10001</td>\n",
       "      <td>123456891</td>\n",
       "      <td>Upperbody</td>\n",
       "      <td>2386.041022</td>\n",
       "    </tr>\n",
       "    <tr>\n",
       "      <th>1</th>\n",
       "      <td>10002</td>\n",
       "      <td>123456891</td>\n",
       "      <td>Upperbody</td>\n",
       "      <td>7219.568003</td>\n",
       "    </tr>\n",
       "    <tr>\n",
       "      <th>2</th>\n",
       "      <td>10003</td>\n",
       "      <td>123456891</td>\n",
       "      <td>Upperbody</td>\n",
       "      <td>1110.167181</td>\n",
       "    </tr>\n",
       "    <tr>\n",
       "      <th>3</th>\n",
       "      <td>10004</td>\n",
       "      <td>123456891</td>\n",
       "      <td>Upperbody</td>\n",
       "      <td>4522.639998</td>\n",
       "    </tr>\n",
       "    <tr>\n",
       "      <th>4</th>\n",
       "      <td>10005</td>\n",
       "      <td>123456891</td>\n",
       "      <td>Upperbody</td>\n",
       "      <td>7305.192980</td>\n",
       "    </tr>\n",
       "    <tr>\n",
       "      <th>...</th>\n",
       "      <td>...</td>\n",
       "      <td>...</td>\n",
       "      <td>...</td>\n",
       "      <td>...</td>\n",
       "    </tr>\n",
       "    <tr>\n",
       "      <th>10114</th>\n",
       "      <td>20115</td>\n",
       "      <td>123456896</td>\n",
       "      <td>Nerves</td>\n",
       "      <td>2985.574310</td>\n",
       "    </tr>\n",
       "    <tr>\n",
       "      <th>10115</th>\n",
       "      <td>20116</td>\n",
       "      <td>123456896</td>\n",
       "      <td>Nerves</td>\n",
       "      <td>9698.888692</td>\n",
       "    </tr>\n",
       "    <tr>\n",
       "      <th>10116</th>\n",
       "      <td>20117</td>\n",
       "      <td>123456896</td>\n",
       "      <td>Nerves</td>\n",
       "      <td>3305.456074</td>\n",
       "    </tr>\n",
       "    <tr>\n",
       "      <th>10117</th>\n",
       "      <td>20118</td>\n",
       "      <td>123456896</td>\n",
       "      <td>Nerves</td>\n",
       "      <td>9179.853623</td>\n",
       "    </tr>\n",
       "    <tr>\n",
       "      <th>10118</th>\n",
       "      <td>20119</td>\n",
       "      <td>123456896</td>\n",
       "      <td>Nerves</td>\n",
       "      <td>2048.429434</td>\n",
       "    </tr>\n",
       "  </tbody>\n",
       "</table>\n",
       "<p>10119 rows × 4 columns</p>\n",
       "</div>"
      ],
      "text/plain": [
       "       patientid  membershid    groupid   person_nbr\n",
       "0          10001   123456891  Upperbody  2386.041022\n",
       "1          10002   123456891  Upperbody  7219.568003\n",
       "2          10003   123456891  Upperbody  1110.167181\n",
       "3          10004   123456891  Upperbody  4522.639998\n",
       "4          10005   123456891  Upperbody  7305.192980\n",
       "...          ...         ...        ...          ...\n",
       "10114      20115   123456896     Nerves  2985.574310\n",
       "10115      20116   123456896     Nerves  9698.888692\n",
       "10116      20117   123456896     Nerves  3305.456074\n",
       "10117      20118   123456896     Nerves  9179.853623\n",
       "10118      20119   123456896     Nerves  2048.429434\n",
       "\n",
       "[10119 rows x 4 columns]"
      ]
     },
     "execution_count": 110,
     "metadata": {},
     "output_type": "execute_result"
    }
   ],
   "source": [
    "bbb_p_df1"
   ]
  },
  {
   "cell_type": "code",
   "execution_count": null,
   "id": "42acb6ff",
   "metadata": {},
   "outputs": [],
   "source": [
    "#basic checks bbb_p_df1"
   ]
  },
  {
   "cell_type": "code",
   "execution_count": 111,
   "id": "34e5c3f6",
   "metadata": {},
   "outputs": [
    {
     "data": {
      "text/plain": [
       "(10119, 4)"
      ]
     },
     "execution_count": 111,
     "metadata": {},
     "output_type": "execute_result"
    }
   ],
   "source": [
    "bbb_p_df1.shape"
   ]
  },
  {
   "cell_type": "code",
   "execution_count": 112,
   "id": "69878d5f",
   "metadata": {},
   "outputs": [
    {
     "data": {
      "text/html": [
       "<div>\n",
       "<style scoped>\n",
       "    .dataframe tbody tr th:only-of-type {\n",
       "        vertical-align: middle;\n",
       "    }\n",
       "\n",
       "    .dataframe tbody tr th {\n",
       "        vertical-align: top;\n",
       "    }\n",
       "\n",
       "    .dataframe thead th {\n",
       "        text-align: right;\n",
       "    }\n",
       "</style>\n",
       "<table border=\"1\" class=\"dataframe\">\n",
       "  <thead>\n",
       "    <tr style=\"text-align: right;\">\n",
       "      <th></th>\n",
       "      <th>patientid</th>\n",
       "      <th>membershid</th>\n",
       "      <th>groupid</th>\n",
       "      <th>person_nbr</th>\n",
       "    </tr>\n",
       "  </thead>\n",
       "  <tbody>\n",
       "    <tr>\n",
       "      <th>0</th>\n",
       "      <td>10001</td>\n",
       "      <td>123456891</td>\n",
       "      <td>Upperbody</td>\n",
       "      <td>2386.041022</td>\n",
       "    </tr>\n",
       "    <tr>\n",
       "      <th>1</th>\n",
       "      <td>10002</td>\n",
       "      <td>123456891</td>\n",
       "      <td>Upperbody</td>\n",
       "      <td>7219.568003</td>\n",
       "    </tr>\n",
       "    <tr>\n",
       "      <th>2</th>\n",
       "      <td>10003</td>\n",
       "      <td>123456891</td>\n",
       "      <td>Upperbody</td>\n",
       "      <td>1110.167181</td>\n",
       "    </tr>\n",
       "    <tr>\n",
       "      <th>3</th>\n",
       "      <td>10004</td>\n",
       "      <td>123456891</td>\n",
       "      <td>Upperbody</td>\n",
       "      <td>4522.639998</td>\n",
       "    </tr>\n",
       "    <tr>\n",
       "      <th>4</th>\n",
       "      <td>10005</td>\n",
       "      <td>123456891</td>\n",
       "      <td>Upperbody</td>\n",
       "      <td>7305.192980</td>\n",
       "    </tr>\n",
       "  </tbody>\n",
       "</table>\n",
       "</div>"
      ],
      "text/plain": [
       "   patientid  membershid    groupid   person_nbr\n",
       "0      10001   123456891  Upperbody  2386.041022\n",
       "1      10002   123456891  Upperbody  7219.568003\n",
       "2      10003   123456891  Upperbody  1110.167181\n",
       "3      10004   123456891  Upperbody  4522.639998\n",
       "4      10005   123456891  Upperbody  7305.192980"
      ]
     },
     "execution_count": 112,
     "metadata": {},
     "output_type": "execute_result"
    }
   ],
   "source": [
    "bbb_p_df1.head()"
   ]
  },
  {
   "cell_type": "code",
   "execution_count": null,
   "id": "8b6574f6",
   "metadata": {},
   "outputs": [],
   "source": [
    "bbb_p_df1.tail()"
   ]
  },
  {
   "cell_type": "code",
   "execution_count": null,
   "id": "af68b20d",
   "metadata": {},
   "outputs": [],
   "source": [
    "bbb_p_df1.columns"
   ]
  },
  {
   "cell_type": "code",
   "execution_count": 113,
   "id": "f35e2196",
   "metadata": {},
   "outputs": [],
   "source": [
    "bbb_p_add_df1=pd.read_excel(\"Downloads\\Insurance_Customers.xlsx\",sheet_name=\"BBB_Address\")"
   ]
  },
  {
   "cell_type": "code",
   "execution_count": 114,
   "id": "37254bab",
   "metadata": {},
   "outputs": [
    {
     "data": {
      "text/html": [
       "<div>\n",
       "<style scoped>\n",
       "    .dataframe tbody tr th:only-of-type {\n",
       "        vertical-align: middle;\n",
       "    }\n",
       "\n",
       "    .dataframe tbody tr th {\n",
       "        vertical-align: top;\n",
       "    }\n",
       "\n",
       "    .dataframe thead th {\n",
       "        text-align: right;\n",
       "    }\n",
       "</style>\n",
       "<table border=\"1\" class=\"dataframe\">\n",
       "  <thead>\n",
       "    <tr style=\"text-align: right;\">\n",
       "      <th></th>\n",
       "      <th>patientid</th>\n",
       "      <th>membershid</th>\n",
       "      <th>groupid</th>\n",
       "      <th>person_nbr</th>\n",
       "      <th>Primary_Phone_NBR</th>\n",
       "      <th>Phone2_NBR</th>\n",
       "      <th>Phone3_NBR</th>\n",
       "    </tr>\n",
       "  </thead>\n",
       "  <tbody>\n",
       "    <tr>\n",
       "      <th>0</th>\n",
       "      <td>10001</td>\n",
       "      <td>123456891</td>\n",
       "      <td>Upperbody</td>\n",
       "      <td>2.386041e+03</td>\n",
       "      <td>C</td>\n",
       "      <td>O</td>\n",
       "      <td>C</td>\n",
       "    </tr>\n",
       "    <tr>\n",
       "      <th>1</th>\n",
       "      <td>10002</td>\n",
       "      <td>123456891</td>\n",
       "      <td>Upperbody</td>\n",
       "      <td>7.219568e+03</td>\n",
       "      <td>C</td>\n",
       "      <td>O</td>\n",
       "      <td>C</td>\n",
       "    </tr>\n",
       "    <tr>\n",
       "      <th>2</th>\n",
       "      <td>10003</td>\n",
       "      <td>123456891</td>\n",
       "      <td>Upperbody</td>\n",
       "      <td>1.110167e+03</td>\n",
       "      <td>C</td>\n",
       "      <td>O</td>\n",
       "      <td>C</td>\n",
       "    </tr>\n",
       "    <tr>\n",
       "      <th>3</th>\n",
       "      <td>10004</td>\n",
       "      <td>123456891</td>\n",
       "      <td>Upperbody</td>\n",
       "      <td>4.522640e+03</td>\n",
       "      <td>C</td>\n",
       "      <td>O</td>\n",
       "      <td>C</td>\n",
       "    </tr>\n",
       "    <tr>\n",
       "      <th>4</th>\n",
       "      <td>10005</td>\n",
       "      <td>123456891</td>\n",
       "      <td>Upperbody</td>\n",
       "      <td>7.305193e+03</td>\n",
       "      <td>C</td>\n",
       "      <td>O</td>\n",
       "      <td>C</td>\n",
       "    </tr>\n",
       "    <tr>\n",
       "      <th>...</th>\n",
       "      <td>...</td>\n",
       "      <td>...</td>\n",
       "      <td>...</td>\n",
       "      <td>...</td>\n",
       "      <td>...</td>\n",
       "      <td>...</td>\n",
       "      <td>...</td>\n",
       "    </tr>\n",
       "    <tr>\n",
       "      <th>15989</th>\n",
       "      <td>25990</td>\n",
       "      <td>28862324</td>\n",
       "      <td>EarD</td>\n",
       "      <td>5.377624e+06</td>\n",
       "      <td>C</td>\n",
       "      <td>H</td>\n",
       "      <td>C</td>\n",
       "    </tr>\n",
       "    <tr>\n",
       "      <th>15990</th>\n",
       "      <td>25991</td>\n",
       "      <td>46570001</td>\n",
       "      <td>EarD</td>\n",
       "      <td>1.232265e+07</td>\n",
       "      <td>C</td>\n",
       "      <td>H</td>\n",
       "      <td>C</td>\n",
       "    </tr>\n",
       "    <tr>\n",
       "      <th>15991</th>\n",
       "      <td>25992</td>\n",
       "      <td>26399463</td>\n",
       "      <td>EarD</td>\n",
       "      <td>6.552275e+06</td>\n",
       "      <td>C</td>\n",
       "      <td>H</td>\n",
       "      <td>C</td>\n",
       "    </tr>\n",
       "    <tr>\n",
       "      <th>15992</th>\n",
       "      <td>25993</td>\n",
       "      <td>63512490</td>\n",
       "      <td>EarD</td>\n",
       "      <td>5.607201e+06</td>\n",
       "      <td>C</td>\n",
       "      <td>H</td>\n",
       "      <td>C</td>\n",
       "    </tr>\n",
       "    <tr>\n",
       "      <th>15993</th>\n",
       "      <td>25994</td>\n",
       "      <td>30518036</td>\n",
       "      <td>EarD</td>\n",
       "      <td>1.340731e+06</td>\n",
       "      <td>C</td>\n",
       "      <td>H</td>\n",
       "      <td>C</td>\n",
       "    </tr>\n",
       "  </tbody>\n",
       "</table>\n",
       "<p>15994 rows × 7 columns</p>\n",
       "</div>"
      ],
      "text/plain": [
       "       patientid  membershid    groupid    person_nbr Primary_Phone_NBR  \\\n",
       "0          10001   123456891  Upperbody  2.386041e+03                 C   \n",
       "1          10002   123456891  Upperbody  7.219568e+03                 C   \n",
       "2          10003   123456891  Upperbody  1.110167e+03                 C   \n",
       "3          10004   123456891  Upperbody  4.522640e+03                 C   \n",
       "4          10005   123456891  Upperbody  7.305193e+03                 C   \n",
       "...          ...         ...        ...           ...               ...   \n",
       "15989      25990    28862324       EarD  5.377624e+06                 C   \n",
       "15990      25991    46570001       EarD  1.232265e+07                 C   \n",
       "15991      25992    26399463       EarD  6.552275e+06                 C   \n",
       "15992      25993    63512490       EarD  5.607201e+06                 C   \n",
       "15993      25994    30518036       EarD  1.340731e+06                 C   \n",
       "\n",
       "      Phone2_NBR Phone3_NBR  \n",
       "0              O          C  \n",
       "1              O          C  \n",
       "2              O          C  \n",
       "3              O          C  \n",
       "4              O          C  \n",
       "...          ...        ...  \n",
       "15989          H          C  \n",
       "15990          H          C  \n",
       "15991          H          C  \n",
       "15992          H          C  \n",
       "15993          H          C  \n",
       "\n",
       "[15994 rows x 7 columns]"
      ]
     },
     "execution_count": 114,
     "metadata": {},
     "output_type": "execute_result"
    }
   ],
   "source": [
    "bbb_p_add_df1"
   ]
  },
  {
   "cell_type": "code",
   "execution_count": null,
   "id": "36fbac07",
   "metadata": {},
   "outputs": [],
   "source": [
    "#basic checks bbb_p_add_df1"
   ]
  },
  {
   "cell_type": "code",
   "execution_count": null,
   "id": "e02c0103",
   "metadata": {},
   "outputs": [],
   "source": [
    "bbb_p_add_df1.shape"
   ]
  },
  {
   "cell_type": "code",
   "execution_count": 115,
   "id": "87a1d87a",
   "metadata": {},
   "outputs": [
    {
     "data": {
      "text/html": [
       "<div>\n",
       "<style scoped>\n",
       "    .dataframe tbody tr th:only-of-type {\n",
       "        vertical-align: middle;\n",
       "    }\n",
       "\n",
       "    .dataframe tbody tr th {\n",
       "        vertical-align: top;\n",
       "    }\n",
       "\n",
       "    .dataframe thead th {\n",
       "        text-align: right;\n",
       "    }\n",
       "</style>\n",
       "<table border=\"1\" class=\"dataframe\">\n",
       "  <thead>\n",
       "    <tr style=\"text-align: right;\">\n",
       "      <th></th>\n",
       "      <th>patientid</th>\n",
       "      <th>membershid</th>\n",
       "      <th>groupid</th>\n",
       "      <th>person_nbr</th>\n",
       "      <th>Primary_Phone_NBR</th>\n",
       "      <th>Phone2_NBR</th>\n",
       "      <th>Phone3_NBR</th>\n",
       "    </tr>\n",
       "  </thead>\n",
       "  <tbody>\n",
       "    <tr>\n",
       "      <th>0</th>\n",
       "      <td>10001</td>\n",
       "      <td>123456891</td>\n",
       "      <td>Upperbody</td>\n",
       "      <td>2386.041022</td>\n",
       "      <td>C</td>\n",
       "      <td>O</td>\n",
       "      <td>C</td>\n",
       "    </tr>\n",
       "    <tr>\n",
       "      <th>1</th>\n",
       "      <td>10002</td>\n",
       "      <td>123456891</td>\n",
       "      <td>Upperbody</td>\n",
       "      <td>7219.568003</td>\n",
       "      <td>C</td>\n",
       "      <td>O</td>\n",
       "      <td>C</td>\n",
       "    </tr>\n",
       "    <tr>\n",
       "      <th>2</th>\n",
       "      <td>10003</td>\n",
       "      <td>123456891</td>\n",
       "      <td>Upperbody</td>\n",
       "      <td>1110.167181</td>\n",
       "      <td>C</td>\n",
       "      <td>O</td>\n",
       "      <td>C</td>\n",
       "    </tr>\n",
       "    <tr>\n",
       "      <th>3</th>\n",
       "      <td>10004</td>\n",
       "      <td>123456891</td>\n",
       "      <td>Upperbody</td>\n",
       "      <td>4522.639998</td>\n",
       "      <td>C</td>\n",
       "      <td>O</td>\n",
       "      <td>C</td>\n",
       "    </tr>\n",
       "    <tr>\n",
       "      <th>4</th>\n",
       "      <td>10005</td>\n",
       "      <td>123456891</td>\n",
       "      <td>Upperbody</td>\n",
       "      <td>7305.192980</td>\n",
       "      <td>C</td>\n",
       "      <td>O</td>\n",
       "      <td>C</td>\n",
       "    </tr>\n",
       "  </tbody>\n",
       "</table>\n",
       "</div>"
      ],
      "text/plain": [
       "   patientid  membershid    groupid   person_nbr Primary_Phone_NBR Phone2_NBR  \\\n",
       "0      10001   123456891  Upperbody  2386.041022                 C          O   \n",
       "1      10002   123456891  Upperbody  7219.568003                 C          O   \n",
       "2      10003   123456891  Upperbody  1110.167181                 C          O   \n",
       "3      10004   123456891  Upperbody  4522.639998                 C          O   \n",
       "4      10005   123456891  Upperbody  7305.192980                 C          O   \n",
       "\n",
       "  Phone3_NBR  \n",
       "0          C  \n",
       "1          C  \n",
       "2          C  \n",
       "3          C  \n",
       "4          C  "
      ]
     },
     "execution_count": 115,
     "metadata": {},
     "output_type": "execute_result"
    }
   ],
   "source": [
    "bbb_p_add_df1.head()"
   ]
  },
  {
   "cell_type": "code",
   "execution_count": null,
   "id": "6e3ae5ee",
   "metadata": {},
   "outputs": [],
   "source": [
    "bbb_p_add_df1.tail()"
   ]
  },
  {
   "cell_type": "code",
   "execution_count": 116,
   "id": "34d71892",
   "metadata": {},
   "outputs": [
    {
     "data": {
      "text/plain": [
       "Index(['patientid', 'membershid', 'groupid', 'person_nbr', 'Primary_Phone_NBR',\n",
       "       'Phone2_NBR', 'Phone3_NBR'],\n",
       "      dtype='object')"
      ]
     },
     "execution_count": 116,
     "metadata": {},
     "output_type": "execute_result"
    }
   ],
   "source": [
    "bbb_p_add_df1.columns"
   ]
  },
  {
   "cell_type": "code",
   "execution_count": null,
   "id": "603d5559",
   "metadata": {},
   "outputs": [],
   "source": [
    "#left merge two data frames bbb_p_df1,bbb_p_add_df1"
   ]
  },
  {
   "cell_type": "code",
   "execution_count": 117,
   "id": "eb83cb1e",
   "metadata": {},
   "outputs": [],
   "source": [
    "bbb_p_add_df1_merge=bbb_p_df1.merge(bbb_p_add_df1,how='left',on=['patientid', 'membershid', 'groupid'])"
   ]
  },
  {
   "cell_type": "code",
   "execution_count": 118,
   "id": "cd620ef6",
   "metadata": {},
   "outputs": [
    {
     "data": {
      "text/html": [
       "<div>\n",
       "<style scoped>\n",
       "    .dataframe tbody tr th:only-of-type {\n",
       "        vertical-align: middle;\n",
       "    }\n",
       "\n",
       "    .dataframe tbody tr th {\n",
       "        vertical-align: top;\n",
       "    }\n",
       "\n",
       "    .dataframe thead th {\n",
       "        text-align: right;\n",
       "    }\n",
       "</style>\n",
       "<table border=\"1\" class=\"dataframe\">\n",
       "  <thead>\n",
       "    <tr style=\"text-align: right;\">\n",
       "      <th></th>\n",
       "      <th>patientid</th>\n",
       "      <th>membershid</th>\n",
       "      <th>groupid</th>\n",
       "      <th>person_nbr_x</th>\n",
       "      <th>person_nbr_y</th>\n",
       "      <th>Primary_Phone_NBR</th>\n",
       "      <th>Phone2_NBR</th>\n",
       "      <th>Phone3_NBR</th>\n",
       "    </tr>\n",
       "  </thead>\n",
       "  <tbody>\n",
       "    <tr>\n",
       "      <th>0</th>\n",
       "      <td>10001</td>\n",
       "      <td>123456891</td>\n",
       "      <td>Upperbody</td>\n",
       "      <td>2386.041022</td>\n",
       "      <td>2386.041022</td>\n",
       "      <td>C</td>\n",
       "      <td>O</td>\n",
       "      <td>C</td>\n",
       "    </tr>\n",
       "    <tr>\n",
       "      <th>1</th>\n",
       "      <td>10002</td>\n",
       "      <td>123456891</td>\n",
       "      <td>Upperbody</td>\n",
       "      <td>7219.568003</td>\n",
       "      <td>7219.568003</td>\n",
       "      <td>C</td>\n",
       "      <td>O</td>\n",
       "      <td>C</td>\n",
       "    </tr>\n",
       "    <tr>\n",
       "      <th>2</th>\n",
       "      <td>10003</td>\n",
       "      <td>123456891</td>\n",
       "      <td>Upperbody</td>\n",
       "      <td>1110.167181</td>\n",
       "      <td>1110.167181</td>\n",
       "      <td>C</td>\n",
       "      <td>O</td>\n",
       "      <td>C</td>\n",
       "    </tr>\n",
       "    <tr>\n",
       "      <th>3</th>\n",
       "      <td>10004</td>\n",
       "      <td>123456891</td>\n",
       "      <td>Upperbody</td>\n",
       "      <td>4522.639998</td>\n",
       "      <td>4522.639998</td>\n",
       "      <td>C</td>\n",
       "      <td>O</td>\n",
       "      <td>C</td>\n",
       "    </tr>\n",
       "    <tr>\n",
       "      <th>4</th>\n",
       "      <td>10005</td>\n",
       "      <td>123456891</td>\n",
       "      <td>Upperbody</td>\n",
       "      <td>7305.192980</td>\n",
       "      <td>7305.192980</td>\n",
       "      <td>C</td>\n",
       "      <td>O</td>\n",
       "      <td>C</td>\n",
       "    </tr>\n",
       "    <tr>\n",
       "      <th>...</th>\n",
       "      <td>...</td>\n",
       "      <td>...</td>\n",
       "      <td>...</td>\n",
       "      <td>...</td>\n",
       "      <td>...</td>\n",
       "      <td>...</td>\n",
       "      <td>...</td>\n",
       "      <td>...</td>\n",
       "    </tr>\n",
       "    <tr>\n",
       "      <th>10114</th>\n",
       "      <td>20115</td>\n",
       "      <td>123456896</td>\n",
       "      <td>Nerves</td>\n",
       "      <td>2985.574310</td>\n",
       "      <td>2985.574310</td>\n",
       "      <td>C</td>\n",
       "      <td>H</td>\n",
       "      <td>C</td>\n",
       "    </tr>\n",
       "    <tr>\n",
       "      <th>10115</th>\n",
       "      <td>20116</td>\n",
       "      <td>123456896</td>\n",
       "      <td>Nerves</td>\n",
       "      <td>9698.888692</td>\n",
       "      <td>9698.888692</td>\n",
       "      <td>C</td>\n",
       "      <td>H</td>\n",
       "      <td>C</td>\n",
       "    </tr>\n",
       "    <tr>\n",
       "      <th>10116</th>\n",
       "      <td>20117</td>\n",
       "      <td>123456896</td>\n",
       "      <td>Nerves</td>\n",
       "      <td>3305.456074</td>\n",
       "      <td>3305.456074</td>\n",
       "      <td>C</td>\n",
       "      <td>H</td>\n",
       "      <td>C</td>\n",
       "    </tr>\n",
       "    <tr>\n",
       "      <th>10117</th>\n",
       "      <td>20118</td>\n",
       "      <td>123456896</td>\n",
       "      <td>Nerves</td>\n",
       "      <td>9179.853623</td>\n",
       "      <td>9179.853623</td>\n",
       "      <td>C</td>\n",
       "      <td>H</td>\n",
       "      <td>C</td>\n",
       "    </tr>\n",
       "    <tr>\n",
       "      <th>10118</th>\n",
       "      <td>20119</td>\n",
       "      <td>123456896</td>\n",
       "      <td>Nerves</td>\n",
       "      <td>2048.429434</td>\n",
       "      <td>2048.429434</td>\n",
       "      <td>C</td>\n",
       "      <td>H</td>\n",
       "      <td>C</td>\n",
       "    </tr>\n",
       "  </tbody>\n",
       "</table>\n",
       "<p>10119 rows × 8 columns</p>\n",
       "</div>"
      ],
      "text/plain": [
       "       patientid  membershid    groupid  person_nbr_x  person_nbr_y  \\\n",
       "0          10001   123456891  Upperbody   2386.041022   2386.041022   \n",
       "1          10002   123456891  Upperbody   7219.568003   7219.568003   \n",
       "2          10003   123456891  Upperbody   1110.167181   1110.167181   \n",
       "3          10004   123456891  Upperbody   4522.639998   4522.639998   \n",
       "4          10005   123456891  Upperbody   7305.192980   7305.192980   \n",
       "...          ...         ...        ...           ...           ...   \n",
       "10114      20115   123456896     Nerves   2985.574310   2985.574310   \n",
       "10115      20116   123456896     Nerves   9698.888692   9698.888692   \n",
       "10116      20117   123456896     Nerves   3305.456074   3305.456074   \n",
       "10117      20118   123456896     Nerves   9179.853623   9179.853623   \n",
       "10118      20119   123456896     Nerves   2048.429434   2048.429434   \n",
       "\n",
       "      Primary_Phone_NBR Phone2_NBR Phone3_NBR  \n",
       "0                     C          O          C  \n",
       "1                     C          O          C  \n",
       "2                     C          O          C  \n",
       "3                     C          O          C  \n",
       "4                     C          O          C  \n",
       "...                 ...        ...        ...  \n",
       "10114                 C          H          C  \n",
       "10115                 C          H          C  \n",
       "10116                 C          H          C  \n",
       "10117                 C          H          C  \n",
       "10118                 C          H          C  \n",
       "\n",
       "[10119 rows x 8 columns]"
      ]
     },
     "execution_count": 118,
     "metadata": {},
     "output_type": "execute_result"
    }
   ],
   "source": [
    "bbb_p_add_df1_merge"
   ]
  },
  {
   "cell_type": "code",
   "execution_count": 119,
   "id": "5bd42217",
   "metadata": {},
   "outputs": [
    {
     "data": {
      "text/plain": [
       "Index(['patientid', 'membershid', 'groupid', 'person_nbr_x', 'person_nbr_y',\n",
       "       'Primary_Phone_NBR', 'Phone2_NBR', 'Phone3_NBR'],\n",
       "      dtype='object')"
      ]
     },
     "execution_count": 119,
     "metadata": {},
     "output_type": "execute_result"
    }
   ],
   "source": [
    "bbb_p_add_df1_merge.columns"
   ]
  },
  {
   "cell_type": "code",
   "execution_count": 121,
   "id": "8c9e9bb6",
   "metadata": {},
   "outputs": [
    {
     "data": {
      "text/html": [
       "<div>\n",
       "<style scoped>\n",
       "    .dataframe tbody tr th:only-of-type {\n",
       "        vertical-align: middle;\n",
       "    }\n",
       "\n",
       "    .dataframe tbody tr th {\n",
       "        vertical-align: top;\n",
       "    }\n",
       "\n",
       "    .dataframe thead th {\n",
       "        text-align: right;\n",
       "    }\n",
       "</style>\n",
       "<table border=\"1\" class=\"dataframe\">\n",
       "  <thead>\n",
       "    <tr style=\"text-align: right;\">\n",
       "      <th></th>\n",
       "      <th>patientid</th>\n",
       "      <th>membershid</th>\n",
       "      <th>groupid</th>\n",
       "      <th>person_nbr_x</th>\n",
       "      <th>person_nbr_y</th>\n",
       "      <th>Primary_Phone_NBR</th>\n",
       "      <th>Phone2_NBR</th>\n",
       "      <th>Phone3_NBR</th>\n",
       "    </tr>\n",
       "  </thead>\n",
       "  <tbody>\n",
       "    <tr>\n",
       "      <th>0</th>\n",
       "      <td>10001</td>\n",
       "      <td>123456891</td>\n",
       "      <td>Upperbody</td>\n",
       "      <td>2386.041022</td>\n",
       "      <td>2386.041022</td>\n",
       "      <td>C</td>\n",
       "      <td>O</td>\n",
       "      <td>C</td>\n",
       "    </tr>\n",
       "    <tr>\n",
       "      <th>1</th>\n",
       "      <td>10002</td>\n",
       "      <td>123456891</td>\n",
       "      <td>Upperbody</td>\n",
       "      <td>7219.568003</td>\n",
       "      <td>7219.568003</td>\n",
       "      <td>C</td>\n",
       "      <td>O</td>\n",
       "      <td>C</td>\n",
       "    </tr>\n",
       "    <tr>\n",
       "      <th>2</th>\n",
       "      <td>10003</td>\n",
       "      <td>123456891</td>\n",
       "      <td>Upperbody</td>\n",
       "      <td>1110.167181</td>\n",
       "      <td>1110.167181</td>\n",
       "      <td>C</td>\n",
       "      <td>O</td>\n",
       "      <td>C</td>\n",
       "    </tr>\n",
       "    <tr>\n",
       "      <th>3</th>\n",
       "      <td>10004</td>\n",
       "      <td>123456891</td>\n",
       "      <td>Upperbody</td>\n",
       "      <td>4522.639998</td>\n",
       "      <td>4522.639998</td>\n",
       "      <td>C</td>\n",
       "      <td>O</td>\n",
       "      <td>C</td>\n",
       "    </tr>\n",
       "    <tr>\n",
       "      <th>4</th>\n",
       "      <td>10005</td>\n",
       "      <td>123456891</td>\n",
       "      <td>Upperbody</td>\n",
       "      <td>7305.192980</td>\n",
       "      <td>7305.192980</td>\n",
       "      <td>C</td>\n",
       "      <td>O</td>\n",
       "      <td>C</td>\n",
       "    </tr>\n",
       "  </tbody>\n",
       "</table>\n",
       "</div>"
      ],
      "text/plain": [
       "   patientid  membershid    groupid  person_nbr_x  person_nbr_y  \\\n",
       "0      10001   123456891  Upperbody   2386.041022   2386.041022   \n",
       "1      10002   123456891  Upperbody   7219.568003   7219.568003   \n",
       "2      10003   123456891  Upperbody   1110.167181   1110.167181   \n",
       "3      10004   123456891  Upperbody   4522.639998   4522.639998   \n",
       "4      10005   123456891  Upperbody   7305.192980   7305.192980   \n",
       "\n",
       "  Primary_Phone_NBR Phone2_NBR Phone3_NBR  \n",
       "0                 C          O          C  \n",
       "1                 C          O          C  \n",
       "2                 C          O          C  \n",
       "3                 C          O          C  \n",
       "4                 C          O          C  "
      ]
     },
     "execution_count": 121,
     "metadata": {},
     "output_type": "execute_result"
    }
   ],
   "source": [
    "bbb_p_add_df1_merge.head()"
   ]
  },
  {
   "cell_type": "code",
   "execution_count": null,
   "id": "c5a5b630",
   "metadata": {},
   "outputs": [],
   "source": [
    "bbb_p_add_df1_merge.tail()"
   ]
  },
  {
   "cell_type": "code",
   "execution_count": 120,
   "id": "64e0e7b0",
   "metadata": {},
   "outputs": [
    {
     "data": {
      "text/plain": [
       "(10119, 8)"
      ]
     },
     "execution_count": 120,
     "metadata": {},
     "output_type": "execute_result"
    }
   ],
   "source": [
    "bbb_p_add_df1_merge.shape"
   ]
  },
  {
   "cell_type": "code",
   "execution_count": null,
   "id": "c04a4a10",
   "metadata": {},
   "outputs": [],
   "source": [
    "#remove person_nbr_y column\t"
   ]
  },
  {
   "cell_type": "code",
   "execution_count": 122,
   "id": "2258c84b",
   "metadata": {},
   "outputs": [],
   "source": [
    "bbb_p_add_df1_merge_f=bbb_p_add_df1_merge[['patientid', 'membershid', 'groupid', 'person_nbr_x', \n",
    "       'Primary_Phone_NBR', 'Phone2_NBR', 'Phone3_NBR']]"
   ]
  },
  {
   "cell_type": "code",
   "execution_count": 123,
   "id": "79d7217e",
   "metadata": {},
   "outputs": [
    {
     "data": {
      "text/html": [
       "<div>\n",
       "<style scoped>\n",
       "    .dataframe tbody tr th:only-of-type {\n",
       "        vertical-align: middle;\n",
       "    }\n",
       "\n",
       "    .dataframe tbody tr th {\n",
       "        vertical-align: top;\n",
       "    }\n",
       "\n",
       "    .dataframe thead th {\n",
       "        text-align: right;\n",
       "    }\n",
       "</style>\n",
       "<table border=\"1\" class=\"dataframe\">\n",
       "  <thead>\n",
       "    <tr style=\"text-align: right;\">\n",
       "      <th></th>\n",
       "      <th>patientid</th>\n",
       "      <th>membershid</th>\n",
       "      <th>groupid</th>\n",
       "      <th>person_nbr_x</th>\n",
       "      <th>Primary_Phone_NBR</th>\n",
       "      <th>Phone2_NBR</th>\n",
       "      <th>Phone3_NBR</th>\n",
       "    </tr>\n",
       "  </thead>\n",
       "  <tbody>\n",
       "    <tr>\n",
       "      <th>0</th>\n",
       "      <td>10001</td>\n",
       "      <td>123456891</td>\n",
       "      <td>Upperbody</td>\n",
       "      <td>2386.041022</td>\n",
       "      <td>C</td>\n",
       "      <td>O</td>\n",
       "      <td>C</td>\n",
       "    </tr>\n",
       "    <tr>\n",
       "      <th>1</th>\n",
       "      <td>10002</td>\n",
       "      <td>123456891</td>\n",
       "      <td>Upperbody</td>\n",
       "      <td>7219.568003</td>\n",
       "      <td>C</td>\n",
       "      <td>O</td>\n",
       "      <td>C</td>\n",
       "    </tr>\n",
       "    <tr>\n",
       "      <th>2</th>\n",
       "      <td>10003</td>\n",
       "      <td>123456891</td>\n",
       "      <td>Upperbody</td>\n",
       "      <td>1110.167181</td>\n",
       "      <td>C</td>\n",
       "      <td>O</td>\n",
       "      <td>C</td>\n",
       "    </tr>\n",
       "    <tr>\n",
       "      <th>3</th>\n",
       "      <td>10004</td>\n",
       "      <td>123456891</td>\n",
       "      <td>Upperbody</td>\n",
       "      <td>4522.639998</td>\n",
       "      <td>C</td>\n",
       "      <td>O</td>\n",
       "      <td>C</td>\n",
       "    </tr>\n",
       "    <tr>\n",
       "      <th>4</th>\n",
       "      <td>10005</td>\n",
       "      <td>123456891</td>\n",
       "      <td>Upperbody</td>\n",
       "      <td>7305.192980</td>\n",
       "      <td>C</td>\n",
       "      <td>O</td>\n",
       "      <td>C</td>\n",
       "    </tr>\n",
       "    <tr>\n",
       "      <th>...</th>\n",
       "      <td>...</td>\n",
       "      <td>...</td>\n",
       "      <td>...</td>\n",
       "      <td>...</td>\n",
       "      <td>...</td>\n",
       "      <td>...</td>\n",
       "      <td>...</td>\n",
       "    </tr>\n",
       "    <tr>\n",
       "      <th>10114</th>\n",
       "      <td>20115</td>\n",
       "      <td>123456896</td>\n",
       "      <td>Nerves</td>\n",
       "      <td>2985.574310</td>\n",
       "      <td>C</td>\n",
       "      <td>H</td>\n",
       "      <td>C</td>\n",
       "    </tr>\n",
       "    <tr>\n",
       "      <th>10115</th>\n",
       "      <td>20116</td>\n",
       "      <td>123456896</td>\n",
       "      <td>Nerves</td>\n",
       "      <td>9698.888692</td>\n",
       "      <td>C</td>\n",
       "      <td>H</td>\n",
       "      <td>C</td>\n",
       "    </tr>\n",
       "    <tr>\n",
       "      <th>10116</th>\n",
       "      <td>20117</td>\n",
       "      <td>123456896</td>\n",
       "      <td>Nerves</td>\n",
       "      <td>3305.456074</td>\n",
       "      <td>C</td>\n",
       "      <td>H</td>\n",
       "      <td>C</td>\n",
       "    </tr>\n",
       "    <tr>\n",
       "      <th>10117</th>\n",
       "      <td>20118</td>\n",
       "      <td>123456896</td>\n",
       "      <td>Nerves</td>\n",
       "      <td>9179.853623</td>\n",
       "      <td>C</td>\n",
       "      <td>H</td>\n",
       "      <td>C</td>\n",
       "    </tr>\n",
       "    <tr>\n",
       "      <th>10118</th>\n",
       "      <td>20119</td>\n",
       "      <td>123456896</td>\n",
       "      <td>Nerves</td>\n",
       "      <td>2048.429434</td>\n",
       "      <td>C</td>\n",
       "      <td>H</td>\n",
       "      <td>C</td>\n",
       "    </tr>\n",
       "  </tbody>\n",
       "</table>\n",
       "<p>10119 rows × 7 columns</p>\n",
       "</div>"
      ],
      "text/plain": [
       "       patientid  membershid    groupid  person_nbr_x Primary_Phone_NBR  \\\n",
       "0          10001   123456891  Upperbody   2386.041022                 C   \n",
       "1          10002   123456891  Upperbody   7219.568003                 C   \n",
       "2          10003   123456891  Upperbody   1110.167181                 C   \n",
       "3          10004   123456891  Upperbody   4522.639998                 C   \n",
       "4          10005   123456891  Upperbody   7305.192980                 C   \n",
       "...          ...         ...        ...           ...               ...   \n",
       "10114      20115   123456896     Nerves   2985.574310                 C   \n",
       "10115      20116   123456896     Nerves   9698.888692                 C   \n",
       "10116      20117   123456896     Nerves   3305.456074                 C   \n",
       "10117      20118   123456896     Nerves   9179.853623                 C   \n",
       "10118      20119   123456896     Nerves   2048.429434                 C   \n",
       "\n",
       "      Phone2_NBR Phone3_NBR  \n",
       "0              O          C  \n",
       "1              O          C  \n",
       "2              O          C  \n",
       "3              O          C  \n",
       "4              O          C  \n",
       "...          ...        ...  \n",
       "10114          H          C  \n",
       "10115          H          C  \n",
       "10116          H          C  \n",
       "10117          H          C  \n",
       "10118          H          C  \n",
       "\n",
       "[10119 rows x 7 columns]"
      ]
     },
     "execution_count": 123,
     "metadata": {},
     "output_type": "execute_result"
    }
   ],
   "source": [
    "bbb_p_add_df1_merge_f"
   ]
  },
  {
   "cell_type": "code",
   "execution_count": 137,
   "id": "90a19633",
   "metadata": {},
   "outputs": [],
   "source": [
    "bbb_p_add_df1_merge_f[\"Cell_Flag\"]=\"\"\n"
   ]
  },
  {
   "cell_type": "code",
   "execution_count": 138,
   "id": "0883f55d",
   "metadata": {},
   "outputs": [
    {
     "data": {
      "text/html": [
       "<div>\n",
       "<style scoped>\n",
       "    .dataframe tbody tr th:only-of-type {\n",
       "        vertical-align: middle;\n",
       "    }\n",
       "\n",
       "    .dataframe tbody tr th {\n",
       "        vertical-align: top;\n",
       "    }\n",
       "\n",
       "    .dataframe thead th {\n",
       "        text-align: right;\n",
       "    }\n",
       "</style>\n",
       "<table border=\"1\" class=\"dataframe\">\n",
       "  <thead>\n",
       "    <tr style=\"text-align: right;\">\n",
       "      <th></th>\n",
       "      <th>patientid</th>\n",
       "      <th>membershid</th>\n",
       "      <th>groupid</th>\n",
       "      <th>person_nbr_x</th>\n",
       "      <th>Primary_Phone_NBR</th>\n",
       "      <th>Phone2_NBR</th>\n",
       "      <th>Phone3_NBR</th>\n",
       "      <th>Cell_Flag</th>\n",
       "    </tr>\n",
       "  </thead>\n",
       "  <tbody>\n",
       "    <tr>\n",
       "      <th>0</th>\n",
       "      <td>10001</td>\n",
       "      <td>123456891</td>\n",
       "      <td>Upperbody</td>\n",
       "      <td>2386.041022</td>\n",
       "      <td>C</td>\n",
       "      <td>O</td>\n",
       "      <td>C</td>\n",
       "      <td></td>\n",
       "    </tr>\n",
       "    <tr>\n",
       "      <th>1</th>\n",
       "      <td>10002</td>\n",
       "      <td>123456891</td>\n",
       "      <td>Upperbody</td>\n",
       "      <td>7219.568003</td>\n",
       "      <td>C</td>\n",
       "      <td>O</td>\n",
       "      <td>C</td>\n",
       "      <td></td>\n",
       "    </tr>\n",
       "    <tr>\n",
       "      <th>2</th>\n",
       "      <td>10003</td>\n",
       "      <td>123456891</td>\n",
       "      <td>Upperbody</td>\n",
       "      <td>1110.167181</td>\n",
       "      <td>C</td>\n",
       "      <td>O</td>\n",
       "      <td>C</td>\n",
       "      <td></td>\n",
       "    </tr>\n",
       "    <tr>\n",
       "      <th>3</th>\n",
       "      <td>10004</td>\n",
       "      <td>123456891</td>\n",
       "      <td>Upperbody</td>\n",
       "      <td>4522.639998</td>\n",
       "      <td>C</td>\n",
       "      <td>O</td>\n",
       "      <td>C</td>\n",
       "      <td></td>\n",
       "    </tr>\n",
       "    <tr>\n",
       "      <th>4</th>\n",
       "      <td>10005</td>\n",
       "      <td>123456891</td>\n",
       "      <td>Upperbody</td>\n",
       "      <td>7305.192980</td>\n",
       "      <td>C</td>\n",
       "      <td>O</td>\n",
       "      <td>C</td>\n",
       "      <td></td>\n",
       "    </tr>\n",
       "    <tr>\n",
       "      <th>...</th>\n",
       "      <td>...</td>\n",
       "      <td>...</td>\n",
       "      <td>...</td>\n",
       "      <td>...</td>\n",
       "      <td>...</td>\n",
       "      <td>...</td>\n",
       "      <td>...</td>\n",
       "      <td>...</td>\n",
       "    </tr>\n",
       "    <tr>\n",
       "      <th>10114</th>\n",
       "      <td>20115</td>\n",
       "      <td>123456896</td>\n",
       "      <td>Nerves</td>\n",
       "      <td>2985.574310</td>\n",
       "      <td>C</td>\n",
       "      <td>H</td>\n",
       "      <td>C</td>\n",
       "      <td></td>\n",
       "    </tr>\n",
       "    <tr>\n",
       "      <th>10115</th>\n",
       "      <td>20116</td>\n",
       "      <td>123456896</td>\n",
       "      <td>Nerves</td>\n",
       "      <td>9698.888692</td>\n",
       "      <td>C</td>\n",
       "      <td>H</td>\n",
       "      <td>C</td>\n",
       "      <td></td>\n",
       "    </tr>\n",
       "    <tr>\n",
       "      <th>10116</th>\n",
       "      <td>20117</td>\n",
       "      <td>123456896</td>\n",
       "      <td>Nerves</td>\n",
       "      <td>3305.456074</td>\n",
       "      <td>C</td>\n",
       "      <td>H</td>\n",
       "      <td>C</td>\n",
       "      <td></td>\n",
       "    </tr>\n",
       "    <tr>\n",
       "      <th>10117</th>\n",
       "      <td>20118</td>\n",
       "      <td>123456896</td>\n",
       "      <td>Nerves</td>\n",
       "      <td>9179.853623</td>\n",
       "      <td>C</td>\n",
       "      <td>H</td>\n",
       "      <td>C</td>\n",
       "      <td></td>\n",
       "    </tr>\n",
       "    <tr>\n",
       "      <th>10118</th>\n",
       "      <td>20119</td>\n",
       "      <td>123456896</td>\n",
       "      <td>Nerves</td>\n",
       "      <td>2048.429434</td>\n",
       "      <td>C</td>\n",
       "      <td>H</td>\n",
       "      <td>C</td>\n",
       "      <td></td>\n",
       "    </tr>\n",
       "  </tbody>\n",
       "</table>\n",
       "<p>10119 rows × 8 columns</p>\n",
       "</div>"
      ],
      "text/plain": [
       "       patientid  membershid    groupid  person_nbr_x Primary_Phone_NBR  \\\n",
       "0          10001   123456891  Upperbody   2386.041022                 C   \n",
       "1          10002   123456891  Upperbody   7219.568003                 C   \n",
       "2          10003   123456891  Upperbody   1110.167181                 C   \n",
       "3          10004   123456891  Upperbody   4522.639998                 C   \n",
       "4          10005   123456891  Upperbody   7305.192980                 C   \n",
       "...          ...         ...        ...           ...               ...   \n",
       "10114      20115   123456896     Nerves   2985.574310                 C   \n",
       "10115      20116   123456896     Nerves   9698.888692                 C   \n",
       "10116      20117   123456896     Nerves   3305.456074                 C   \n",
       "10117      20118   123456896     Nerves   9179.853623                 C   \n",
       "10118      20119   123456896     Nerves   2048.429434                 C   \n",
       "\n",
       "      Phone2_NBR Phone3_NBR Cell_Flag  \n",
       "0              O          C            \n",
       "1              O          C            \n",
       "2              O          C            \n",
       "3              O          C            \n",
       "4              O          C            \n",
       "...          ...        ...       ...  \n",
       "10114          H          C            \n",
       "10115          H          C            \n",
       "10116          H          C            \n",
       "10117          H          C            \n",
       "10118          H          C            \n",
       "\n",
       "[10119 rows x 8 columns]"
      ]
     },
     "execution_count": 138,
     "metadata": {},
     "output_type": "execute_result"
    }
   ],
   "source": [
    "bbb_p_add_df1_merge_f"
   ]
  },
  {
   "cell_type": "code",
   "execution_count": 139,
   "id": "0516a7b9",
   "metadata": {},
   "outputs": [
    {
     "data": {
      "text/plain": [
       "Index(['patientid', 'membershid', 'groupid', 'person_nbr_x',\n",
       "       'Primary_Phone_NBR', 'Phone2_NBR', 'Phone3_NBR', 'Cell_Flag'],\n",
       "      dtype='object')"
      ]
     },
     "execution_count": 139,
     "metadata": {},
     "output_type": "execute_result"
    }
   ],
   "source": [
    "bbb_p_add_df1_merge_f.columns"
   ]
  },
  {
   "cell_type": "code",
   "execution_count": null,
   "id": "030830b2",
   "metadata": {},
   "outputs": [],
   "source": [
    "# ---cell flag updage for P flag"
   ]
  },
  {
   "cell_type": "code",
   "execution_count": 140,
   "id": "d833725f",
   "metadata": {},
   "outputs": [],
   "source": [
    "bbb_p_add_df1_merge_f[\"Cell_Flag\"]=np.where(bbb_p_add_df1_merge_f[\"Primary_Phone_NBR\"]==\"C\",\n",
    "                                      \"P\",bbb_p_add_df1_merge_f[\"Cell_Flag\"])\n",
    "                                     "
   ]
  },
  {
   "cell_type": "code",
   "execution_count": 141,
   "id": "247e17d7",
   "metadata": {},
   "outputs": [
    {
     "data": {
      "text/plain": [
       "array(['P', ''], dtype=object)"
      ]
     },
     "execution_count": 141,
     "metadata": {},
     "output_type": "execute_result"
    }
   ],
   "source": [
    "bbb_p_add_df1_merge_f.Cell_Flag.unique()"
   ]
  },
  {
   "cell_type": "code",
   "execution_count": 142,
   "id": "bc94730d",
   "metadata": {},
   "outputs": [
    {
     "ename": "KeyError",
     "evalue": "'Cell_Flag'",
     "output_type": "error",
     "traceback": [
      "\u001b[1;31m---------------------------------------------------------------------------\u001b[0m",
      "\u001b[1;31mKeyError\u001b[0m                                  Traceback (most recent call last)",
      "File \u001b[1;32m~\\anaconda3\\lib\\site-packages\\pandas\\core\\indexes\\base.py:3802\u001b[0m, in \u001b[0;36mIndex.get_loc\u001b[1;34m(self, key, method, tolerance)\u001b[0m\n\u001b[0;32m   3801\u001b[0m \u001b[38;5;28;01mtry\u001b[39;00m:\n\u001b[1;32m-> 3802\u001b[0m     \u001b[38;5;28;01mreturn\u001b[39;00m \u001b[38;5;28;43mself\u001b[39;49m\u001b[38;5;241;43m.\u001b[39;49m\u001b[43m_engine\u001b[49m\u001b[38;5;241;43m.\u001b[39;49m\u001b[43mget_loc\u001b[49m\u001b[43m(\u001b[49m\u001b[43mcasted_key\u001b[49m\u001b[43m)\u001b[49m\n\u001b[0;32m   3803\u001b[0m \u001b[38;5;28;01mexcept\u001b[39;00m \u001b[38;5;167;01mKeyError\u001b[39;00m \u001b[38;5;28;01mas\u001b[39;00m err:\n",
      "File \u001b[1;32m~\\anaconda3\\lib\\site-packages\\pandas\\_libs\\index.pyx:138\u001b[0m, in \u001b[0;36mpandas._libs.index.IndexEngine.get_loc\u001b[1;34m()\u001b[0m\n",
      "File \u001b[1;32m~\\anaconda3\\lib\\site-packages\\pandas\\_libs\\index.pyx:165\u001b[0m, in \u001b[0;36mpandas._libs.index.IndexEngine.get_loc\u001b[1;34m()\u001b[0m\n",
      "File \u001b[1;32mpandas\\_libs\\hashtable_class_helper.pxi:5745\u001b[0m, in \u001b[0;36mpandas._libs.hashtable.PyObjectHashTable.get_item\u001b[1;34m()\u001b[0m\n",
      "File \u001b[1;32mpandas\\_libs\\hashtable_class_helper.pxi:5753\u001b[0m, in \u001b[0;36mpandas._libs.hashtable.PyObjectHashTable.get_item\u001b[1;34m()\u001b[0m\n",
      "\u001b[1;31mKeyError\u001b[0m: 'Cell_Flag'",
      "\nThe above exception was the direct cause of the following exception:\n",
      "\u001b[1;31mKeyError\u001b[0m                                  Traceback (most recent call last)",
      "Cell \u001b[1;32mIn[142], line 4\u001b[0m\n\u001b[0;32m      1\u001b[0m \u001b[38;5;66;03m# -----updating S flag, wher priman!=c pr2=c or pr3=c\u001b[39;00m\n\u001b[0;32m      3\u001b[0m bbb_p_add_df1_merge_f[\u001b[38;5;124m\"\u001b[39m\u001b[38;5;124mCell_Flag\u001b[39m\u001b[38;5;124m\"\u001b[39m]\u001b[38;5;241m=\u001b[39mnp\u001b[38;5;241m.\u001b[39mwhere((bbb_p_add_df1_merge[\u001b[38;5;124m\"\u001b[39m\u001b[38;5;124mPrimary_Phone_NBR\u001b[39m\u001b[38;5;124m\"\u001b[39m]\u001b[38;5;241m!=\u001b[39m\u001b[38;5;124m\"\u001b[39m\u001b[38;5;124mC\u001b[39m\u001b[38;5;124m\"\u001b[39m) \u001b[38;5;241m&\u001b[39m(bbb_p_add_df1_merge[\u001b[38;5;124m\"\u001b[39m\u001b[38;5;124mPhone2_NBR\u001b[39m\u001b[38;5;124m\"\u001b[39m]\u001b[38;5;241m==\u001b[39m\u001b[38;5;124m\"\u001b[39m\u001b[38;5;124mC\u001b[39m\u001b[38;5;124m\"\u001b[39m),\n\u001b[1;32m----> 4\u001b[0m                                       \u001b[38;5;124m\"\u001b[39m\u001b[38;5;124mS\u001b[39m\u001b[38;5;124m\"\u001b[39m,\u001b[43mbbb_p_add_df1_merge\u001b[49m\u001b[43m[\u001b[49m\u001b[38;5;124;43m\"\u001b[39;49m\u001b[38;5;124;43mCell_Flag\u001b[39;49m\u001b[38;5;124;43m\"\u001b[39;49m\u001b[43m]\u001b[49m)\n",
      "File \u001b[1;32m~\\anaconda3\\lib\\site-packages\\pandas\\core\\frame.py:3807\u001b[0m, in \u001b[0;36mDataFrame.__getitem__\u001b[1;34m(self, key)\u001b[0m\n\u001b[0;32m   3805\u001b[0m \u001b[38;5;28;01mif\u001b[39;00m \u001b[38;5;28mself\u001b[39m\u001b[38;5;241m.\u001b[39mcolumns\u001b[38;5;241m.\u001b[39mnlevels \u001b[38;5;241m>\u001b[39m \u001b[38;5;241m1\u001b[39m:\n\u001b[0;32m   3806\u001b[0m     \u001b[38;5;28;01mreturn\u001b[39;00m \u001b[38;5;28mself\u001b[39m\u001b[38;5;241m.\u001b[39m_getitem_multilevel(key)\n\u001b[1;32m-> 3807\u001b[0m indexer \u001b[38;5;241m=\u001b[39m \u001b[38;5;28;43mself\u001b[39;49m\u001b[38;5;241;43m.\u001b[39;49m\u001b[43mcolumns\u001b[49m\u001b[38;5;241;43m.\u001b[39;49m\u001b[43mget_loc\u001b[49m\u001b[43m(\u001b[49m\u001b[43mkey\u001b[49m\u001b[43m)\u001b[49m\n\u001b[0;32m   3808\u001b[0m \u001b[38;5;28;01mif\u001b[39;00m is_integer(indexer):\n\u001b[0;32m   3809\u001b[0m     indexer \u001b[38;5;241m=\u001b[39m [indexer]\n",
      "File \u001b[1;32m~\\anaconda3\\lib\\site-packages\\pandas\\core\\indexes\\base.py:3804\u001b[0m, in \u001b[0;36mIndex.get_loc\u001b[1;34m(self, key, method, tolerance)\u001b[0m\n\u001b[0;32m   3802\u001b[0m     \u001b[38;5;28;01mreturn\u001b[39;00m \u001b[38;5;28mself\u001b[39m\u001b[38;5;241m.\u001b[39m_engine\u001b[38;5;241m.\u001b[39mget_loc(casted_key)\n\u001b[0;32m   3803\u001b[0m \u001b[38;5;28;01mexcept\u001b[39;00m \u001b[38;5;167;01mKeyError\u001b[39;00m \u001b[38;5;28;01mas\u001b[39;00m err:\n\u001b[1;32m-> 3804\u001b[0m     \u001b[38;5;28;01mraise\u001b[39;00m \u001b[38;5;167;01mKeyError\u001b[39;00m(key) \u001b[38;5;28;01mfrom\u001b[39;00m \u001b[38;5;21;01merr\u001b[39;00m\n\u001b[0;32m   3805\u001b[0m \u001b[38;5;28;01mexcept\u001b[39;00m \u001b[38;5;167;01mTypeError\u001b[39;00m:\n\u001b[0;32m   3806\u001b[0m     \u001b[38;5;66;03m# If we have a listlike key, _check_indexing_error will raise\u001b[39;00m\n\u001b[0;32m   3807\u001b[0m     \u001b[38;5;66;03m#  InvalidIndexError. Otherwise we fall through and re-raise\u001b[39;00m\n\u001b[0;32m   3808\u001b[0m     \u001b[38;5;66;03m#  the TypeError.\u001b[39;00m\n\u001b[0;32m   3809\u001b[0m     \u001b[38;5;28mself\u001b[39m\u001b[38;5;241m.\u001b[39m_check_indexing_error(key)\n",
      "\u001b[1;31mKeyError\u001b[0m: 'Cell_Flag'"
     ]
    }
   ],
   "source": [
    "# -----updating S flag, wher priman!=c pr2=c or pr3=c\n",
    "\n",
    "bbb_p_add_df1_merge_f[\"Cell_Flag\"]=np.where((bbb_p_add_df1_merge[\"Primary_Phone_NBR\"]!=\"C\") &(bbb_p_add_df1_merge[\"Phone2_NBR\"]==\"C\"),\n",
    "                                      \"S\",bbb_p_add_df1_merge[\"Cell_Flag\"])\n",
    "                                     "
   ]
  },
  {
   "cell_type": "code",
   "execution_count": null,
   "id": "144dc8c5",
   "metadata": {},
   "outputs": [],
   "source": [
    "bbb_p_add_df1_merge_f.Cell_Flag.unique()"
   ]
  },
  {
   "cell_type": "code",
   "execution_count": null,
   "id": "9307a36e",
   "metadata": {},
   "outputs": [],
   "source": [
    "bbb_p_add_df1_merge_f.Cell_Flag.value_counts()"
   ]
  },
  {
   "cell_type": "code",
   "execution_count": null,
   "id": "972afee7",
   "metadata": {},
   "outputs": [],
   "source": [
    "# -----updating S flag, wher priman!=c pr2=c or pr3=c\n",
    "\n",
    "bbb_p_add_df1_merge_f[\"Cell_Flag\"]=np.where((bbb_p_add_df1_merge_f[\"Primary_Phone_NBR\"]!=\"C\") & (bbb_p_add_df1_merge_f[\"Phone3_NBR\"]==\"C\"),\"S\",\n",
    "                                      bbb_p_add_df1_merge_f[\"Cell_Flag\"])\n"
   ]
  },
  {
   "cell_type": "code",
   "execution_count": null,
   "id": "9713b314",
   "metadata": {},
   "outputs": [],
   "source": [
    "bbb_p_add_df1_merge_f.Cell_Flag.unique()"
   ]
  },
  {
   "cell_type": "code",
   "execution_count": null,
   "id": "3d3f211f",
   "metadata": {},
   "outputs": [],
   "source": [
    "bbb_p_add_df1_merge_f.Cell_Flag.value_counts()"
   ]
  },
  {
   "cell_type": "code",
   "execution_count": null,
   "id": "61c0620a",
   "metadata": {},
   "outputs": [],
   "source": [
    "# -----updating S flag, wher priman!=c pr2=c or pr3=c\n",
    "\n",
    "bbb_p_add_df1_merge_f[\"Cell_Flag\"]=np.where((bbb_p_add_df1_merge_f[\"Primary_Phone_NBR\"]!=\"C\") & (bbb_p_add_df1_merge_f[\"Phone2_NBR\"]!=\"C\"),\"N\",\n",
    "                                      bbb_p_add_df1_merge_f[\"Cell_Flag\"])\n",
    "                                     \n",
    "# -----updating S flag, wher priman!=c pr2=c or pr3=c\n",
    "\n",
    "bbb_p_add_df1_merge_f[\"Cell_Flag\"]=np.where((bbb_p_add_df1_merge_f[\"Primary_Phone_NBR\"]!=\"C\") &(bbb_p_add_df1_merge_f[\"Phone3_NBR\"]!=\"C\"),\"N\",\n",
    "                                      bbb_p_add_df1_merge_f[\"Cell_Flag\"])"
   ]
  },
  {
   "cell_type": "code",
   "execution_count": null,
   "id": "0e1df823",
   "metadata": {},
   "outputs": [],
   "source": [
    "bbb_p_add_df1_merge_f.Cell_Flag.unique()"
   ]
  },
  {
   "cell_type": "code",
   "execution_count": null,
   "id": "4e106edd",
   "metadata": {},
   "outputs": [],
   "source": [
    "bbb_p_add_df1_merge_f.Cell_Flag.value_counts()"
   ]
  },
  {
   "cell_type": "code",
   "execution_count": null,
   "id": "a5e80fe7",
   "metadata": {},
   "outputs": [],
   "source": [
    "bbb_p_add_df1_merge_f['Flag']=\"Total BBB patients\""
   ]
  },
  {
   "cell_type": "code",
   "execution_count": null,
   "id": "c54e4367",
   "metadata": {},
   "outputs": [],
   "source": [
    "bbb_p_add_df1_merge_f_P=bbb_p_add_df1_merge_f[bbb_p_add_df1_merge_f.Cell_Flag==\"P\"]\n",
    "bbb_p_add_df1_merge_f_S=bbb_p_add_df1_merge_f[bbb_p_add_df1_merge_f.Cell_Flag==\"S\"]\n",
    "bbb_p_add_df1_merge_f_N=bbb_p_add_df1_merge_f[bbb_p_add_df1_merge_f.Cell_Flag==\"N\"]"
   ]
  },
  {
   "cell_type": "code",
   "execution_count": null,
   "id": "f6eb34ee",
   "metadata": {},
   "outputs": [],
   "source": [
    "bbb_p_add_df1_merge_f_P[\"Flag\"]=\"Total BBB patients with cell flag P\"\n",
    "bbb_p_add_df1_merge_f_S[\"Flag\"]=\"Total BBB patients with cell flag S\"\n",
    "bbb_p_add_df1_merge_f_N[\"Flag\"]=\"Total BBB patients with cell flag N\""
   ]
  },
  {
   "cell_type": "code",
   "execution_count": null,
   "id": "bfbb0066",
   "metadata": {},
   "outputs": [],
   "source": [
    "# bbb_p_add_merge, bbb_p_add_merge_P,bbb_p_add_merge_S,bbb_p_add_merge_N all df groupby"
   ]
  },
  {
   "cell_type": "code",
   "execution_count": null,
   "id": "639f98e2",
   "metadata": {},
   "outputs": [],
   "source": [
    "bbb_p_add_df1_merge_f_sm=bbb_p_add_df1_merge_f.groupby([\"Flag\"])[\"patientid\"].count()"
   ]
  },
  {
   "cell_type": "code",
   "execution_count": null,
   "id": "abf89611",
   "metadata": {},
   "outputs": [],
   "source": [
    "bbb_p_add_df1_merge_f_sm"
   ]
  },
  {
   "cell_type": "code",
   "execution_count": null,
   "id": "68e13259",
   "metadata": {},
   "outputs": [],
   "source": [
    "bbb_p_add_df1_merge_f_P_sm=bbb_p_add_df1_merge_f_P.groupby([\"Flag\"])[\"patientid\"].count()\n",
    "bbb_p_add_df1_merge_f_P_sm_ndf=pd.DataFrame(bbb_p_add_df1_merge_f_P_sm)\n",
    "bbb_p_add_df1_merge_f_P_sm_ndf.reset_index(inplace=True)"
   ]
  },
  {
   "cell_type": "code",
   "execution_count": null,
   "id": "9fa9a62c",
   "metadata": {},
   "outputs": [],
   "source": [
    "bbb_p_add_df1_merge_f_P_sm_ndf"
   ]
  },
  {
   "cell_type": "code",
   "execution_count": null,
   "id": "b6428a02",
   "metadata": {},
   "outputs": [],
   "source": [
    "bbb_p_add_df1_merge_f_S_sm=bbb_p_add_df1_merge_f_S.groupby([\"Flag\"])[\"patientid\"].count()\n",
    "bbb_p_add_df1_merge_f_S_sm_ndf=pd.DataFrame(bbb_p_add_df1_merge_f_S_sm)\n",
    "bbb_p_add_df1_merge_f_S_sm_ndf.reset_index(inplace=True)"
   ]
  },
  {
   "cell_type": "code",
   "execution_count": null,
   "id": "28b459e1",
   "metadata": {},
   "outputs": [],
   "source": [
    "bbb_p_add_df1_merge_f_S_sm_ndf"
   ]
  },
  {
   "cell_type": "code",
   "execution_count": null,
   "id": "414ec09c",
   "metadata": {},
   "outputs": [],
   "source": [
    "bbb_p_add_df1_merge_f_N_sm=bbb_p_add_df1_merge_f_N.groupby([\"Flag\"])[\"patientid\"].count()\n",
    "bbb_p_add_df1_merge_f_N_sm_ndf=pd.DataFrame(bbb_p_add_df1_merge_f_N_sm)\n",
    "bbb_p_add_df1_merge_f_N_sm_ndf.reset_index(inplace=True)"
   ]
  },
  {
   "cell_type": "code",
   "execution_count": null,
   "id": "a9b1e457",
   "metadata": {},
   "outputs": [],
   "source": [
    "bbb_p_add_df1_merge_f_N_sm_ndf"
   ]
  },
  {
   "cell_type": "code",
   "execution_count": null,
   "id": "c3dd6eb5",
   "metadata": {},
   "outputs": [],
   "source": [
    "bbb_p_add_df1_merge_f_sm_ndf=pd.DataFrame(bbb_p_add_df1_merge_f_sm)\n",
    "bbb_p_add_df1_merge_f_sm_ndf.columns\n",
    "\n",
    "bbb_p_add_df1_merge_f_sm_ndf.reset_index(inplace=True)\n",
    "bbb_p_add_df1_merge_f_sm_ndf"
   ]
  },
  {
   "cell_type": "code",
   "execution_count": null,
   "id": "01b94cc9",
   "metadata": {},
   "outputs": [],
   "source": [
    "# ---append---\n",
    "\n",
    "# bbb_p_add_merge_N_sm_ndf"
   ]
  },
  {
   "cell_type": "code",
   "execution_count": null,
   "id": "5c8eb07b",
   "metadata": {},
   "outputs": [],
   "source": [
    "final_df2=pd.concat([bbb_p_add_df1_merge_f_sm_ndf,bbb_p_add_df1_merge_f_P_sm_ndf,bbb_p_add_df1_merge_f_S_sm_ndf,bbb_p_add_df1_merge_f_N_sm_ndf],ignore_index=True, axis=0)"
   ]
  },
  {
   "cell_type": "code",
   "execution_count": null,
   "id": "ec4b9b5b",
   "metadata": {},
   "outputs": [],
   "source": [
    "final_df2"
   ]
  },
  {
   "cell_type": "code",
   "execution_count": null,
   "id": "3b570834",
   "metadata": {},
   "outputs": [],
   "source": [
    "final_df2.columns=[\"Flag\",\"Count\"]"
   ]
  },
  {
   "cell_type": "code",
   "execution_count": null,
   "id": "8b1cfb9c",
   "metadata": {},
   "outputs": [],
   "source": [
    "final_df2"
   ]
  },
  {
   "cell_type": "code",
   "execution_count": null,
   "id": "a37f03a3",
   "metadata": {},
   "outputs": [],
   "source": [
    "from datetime import date\n",
    "today_date=date.today()\n",
    "print(today_date)"
   ]
  },
  {
   "cell_type": "code",
   "execution_count": null,
   "id": "5fc7b98c",
   "metadata": {},
   "outputs": [],
   "source": [
    "from datetime import datetime\n",
    "time=datetime.now().strftime('%H:%M:%S')\n",
    "print(time)"
   ]
  },
  {
   "cell_type": "code",
   "execution_count": null,
   "id": "739d2113",
   "metadata": {},
   "outputs": [],
   "source": [
    "final_df2['Date']=today_date"
   ]
  },
  {
   "cell_type": "code",
   "execution_count": null,
   "id": "3396018a",
   "metadata": {},
   "outputs": [],
   "source": [
    "final_df2['Time']=time"
   ]
  },
  {
   "cell_type": "code",
   "execution_count": null,
   "id": "0456656a",
   "metadata": {},
   "outputs": [],
   "source": [
    "final_df2"
   ]
  },
  {
   "cell_type": "code",
   "execution_count": null,
   "id": "7d7b85e7",
   "metadata": {},
   "outputs": [],
   "source": [
    "#import dddpatients and ddd address excel files"
   ]
  },
  {
   "cell_type": "code",
   "execution_count": 43,
   "id": "a7832ad5",
   "metadata": {},
   "outputs": [],
   "source": [
    "import pandas as pd\n",
    "import numpy as np\n",
    "#check all level wiseTo check all level wise Patientid, membershipid, groupid"
   ]
  },
  {
   "cell_type": "code",
   "execution_count": null,
   "id": "caf68925",
   "metadata": {},
   "outputs": [],
   "source": [
    "#function:\n",
    "#read_excel,concat(),filters/conditions"
   ]
  },
  {
   "cell_type": "code",
   "execution_count": null,
   "id": "c49a1f78",
   "metadata": {},
   "outputs": [],
   "source": [
    "#import dddpatients and ddd address excel files"
   ]
  },
  {
   "cell_type": "code",
   "execution_count": 44,
   "id": "290a39c5",
   "metadata": {},
   "outputs": [],
   "source": [
    "ddd_p_df2=pd.read_excel(\"Downloads\\Insurance_Customers.xlsx\",sheet_name=\"DDD_Patients\")"
   ]
  },
  {
   "cell_type": "code",
   "execution_count": null,
   "id": "9b50f235",
   "metadata": {},
   "outputs": [],
   "source": [
    "ddd_p_df2"
   ]
  },
  {
   "cell_type": "code",
   "execution_count": null,
   "id": "4b6e0a24",
   "metadata": {},
   "outputs": [],
   "source": [
    "#basic checks ddd_p_df2"
   ]
  },
  {
   "cell_type": "code",
   "execution_count": null,
   "id": "08dd2e58",
   "metadata": {},
   "outputs": [],
   "source": [
    "ddd_p_df2.shape"
   ]
  },
  {
   "cell_type": "code",
   "execution_count": null,
   "id": "4dea0487",
   "metadata": {},
   "outputs": [],
   "source": [
    "ddd_p_df2.head()"
   ]
  },
  {
   "cell_type": "code",
   "execution_count": null,
   "id": "e418f213",
   "metadata": {},
   "outputs": [],
   "source": [
    "ddd_p_df2.tail()"
   ]
  },
  {
   "cell_type": "code",
   "execution_count": 45,
   "id": "75808464",
   "metadata": {},
   "outputs": [],
   "source": [
    "ddd_p_add_df2=pd.read_excel(\"Downloads\\Insurance_Customers.xlsx\",sheet_name=\"DDD_Address\")"
   ]
  },
  {
   "cell_type": "code",
   "execution_count": null,
   "id": "1429159a",
   "metadata": {},
   "outputs": [],
   "source": [
    "ddd_p_add_df2"
   ]
  },
  {
   "cell_type": "code",
   "execution_count": null,
   "id": "e42a39ed",
   "metadata": {},
   "outputs": [],
   "source": [
    "#basic checks for ddd_p_add_df2"
   ]
  },
  {
   "cell_type": "code",
   "execution_count": null,
   "id": "59e295b4",
   "metadata": {},
   "outputs": [],
   "source": [
    "ddd_p_add_df2.columns"
   ]
  },
  {
   "cell_type": "code",
   "execution_count": null,
   "id": "0cae2102",
   "metadata": {},
   "outputs": [],
   "source": [
    "ddd_p_add_df2.head()"
   ]
  },
  {
   "cell_type": "code",
   "execution_count": null,
   "id": "44e569de",
   "metadata": {},
   "outputs": [],
   "source": [
    "ddd_p_add_df2.tail()"
   ]
  },
  {
   "cell_type": "code",
   "execution_count": 47,
   "id": "d98b6a60",
   "metadata": {},
   "outputs": [],
   "source": [
    "ddd_p_add_df2_merge=ddd_p_df2.merge(ddd_p_add_df2,on=['patientid', 'membershid', 'groupid'],how=\"left\")"
   ]
  },
  {
   "cell_type": "code",
   "execution_count": 48,
   "id": "4d68a688",
   "metadata": {},
   "outputs": [
    {
     "data": {
      "text/html": [
       "<div>\n",
       "<style scoped>\n",
       "    .dataframe tbody tr th:only-of-type {\n",
       "        vertical-align: middle;\n",
       "    }\n",
       "\n",
       "    .dataframe tbody tr th {\n",
       "        vertical-align: top;\n",
       "    }\n",
       "\n",
       "    .dataframe thead th {\n",
       "        text-align: right;\n",
       "    }\n",
       "</style>\n",
       "<table border=\"1\" class=\"dataframe\">\n",
       "  <thead>\n",
       "    <tr style=\"text-align: right;\">\n",
       "      <th></th>\n",
       "      <th>patientid</th>\n",
       "      <th>membershid</th>\n",
       "      <th>groupid</th>\n",
       "      <th>person_nbr_x</th>\n",
       "      <th>person_nbr_y</th>\n",
       "      <th>Primary_Phone_NBR</th>\n",
       "      <th>Phone2_NBR</th>\n",
       "      <th>Phone3_NBR</th>\n",
       "    </tr>\n",
       "  </thead>\n",
       "  <tbody>\n",
       "    <tr>\n",
       "      <th>0</th>\n",
       "      <td>200001</td>\n",
       "      <td>4456.162497</td>\n",
       "      <td>100</td>\n",
       "      <td>2748.280106</td>\n",
       "      <td>2748.280106</td>\n",
       "      <td>C</td>\n",
       "      <td>O</td>\n",
       "      <td>C</td>\n",
       "    </tr>\n",
       "    <tr>\n",
       "      <th>1</th>\n",
       "      <td>200002</td>\n",
       "      <td>4456.162497</td>\n",
       "      <td>100</td>\n",
       "      <td>3983.633278</td>\n",
       "      <td>3983.633278</td>\n",
       "      <td>C</td>\n",
       "      <td>O</td>\n",
       "      <td>C</td>\n",
       "    </tr>\n",
       "    <tr>\n",
       "      <th>2</th>\n",
       "      <td>200003</td>\n",
       "      <td>4456.162497</td>\n",
       "      <td>100</td>\n",
       "      <td>5918.043203</td>\n",
       "      <td>5918.043203</td>\n",
       "      <td>C</td>\n",
       "      <td>O</td>\n",
       "      <td>C</td>\n",
       "    </tr>\n",
       "    <tr>\n",
       "      <th>3</th>\n",
       "      <td>200004</td>\n",
       "      <td>4456.162497</td>\n",
       "      <td>100</td>\n",
       "      <td>5882.418134</td>\n",
       "      <td>5882.418134</td>\n",
       "      <td>C</td>\n",
       "      <td>O</td>\n",
       "      <td>C</td>\n",
       "    </tr>\n",
       "    <tr>\n",
       "      <th>4</th>\n",
       "      <td>200005</td>\n",
       "      <td>4456.162497</td>\n",
       "      <td>100</td>\n",
       "      <td>3519.095855</td>\n",
       "      <td>3519.095855</td>\n",
       "      <td>C</td>\n",
       "      <td>O</td>\n",
       "      <td>C</td>\n",
       "    </tr>\n",
       "    <tr>\n",
       "      <th>...</th>\n",
       "      <td>...</td>\n",
       "      <td>...</td>\n",
       "      <td>...</td>\n",
       "      <td>...</td>\n",
       "      <td>...</td>\n",
       "      <td>...</td>\n",
       "      <td>...</td>\n",
       "      <td>...</td>\n",
       "    </tr>\n",
       "    <tr>\n",
       "      <th>84006</th>\n",
       "      <td>284007</td>\n",
       "      <td>61967.640577</td>\n",
       "      <td>108</td>\n",
       "      <td>6406.791285</td>\n",
       "      <td>6406.791285</td>\n",
       "      <td>C</td>\n",
       "      <td>C</td>\n",
       "      <td>C</td>\n",
       "    </tr>\n",
       "    <tr>\n",
       "      <th>84007</th>\n",
       "      <td>284008</td>\n",
       "      <td>61967.640577</td>\n",
       "      <td>108</td>\n",
       "      <td>5736.801838</td>\n",
       "      <td>5736.801838</td>\n",
       "      <td>C</td>\n",
       "      <td>C</td>\n",
       "      <td>C</td>\n",
       "    </tr>\n",
       "    <tr>\n",
       "      <th>84008</th>\n",
       "      <td>284009</td>\n",
       "      <td>61967.640577</td>\n",
       "      <td>108</td>\n",
       "      <td>7613.994822</td>\n",
       "      <td>7613.994822</td>\n",
       "      <td>C</td>\n",
       "      <td>C</td>\n",
       "      <td>C</td>\n",
       "    </tr>\n",
       "    <tr>\n",
       "      <th>84009</th>\n",
       "      <td>284010</td>\n",
       "      <td>61967.640577</td>\n",
       "      <td>108</td>\n",
       "      <td>8530.577571</td>\n",
       "      <td>8530.577571</td>\n",
       "      <td>C</td>\n",
       "      <td>C</td>\n",
       "      <td>C</td>\n",
       "    </tr>\n",
       "    <tr>\n",
       "      <th>84010</th>\n",
       "      <td>284011</td>\n",
       "      <td>61967.640577</td>\n",
       "      <td>108</td>\n",
       "      <td>2140.830791</td>\n",
       "      <td>2140.830791</td>\n",
       "      <td>C</td>\n",
       "      <td>C</td>\n",
       "      <td>C</td>\n",
       "    </tr>\n",
       "  </tbody>\n",
       "</table>\n",
       "<p>84011 rows × 8 columns</p>\n",
       "</div>"
      ],
      "text/plain": [
       "       patientid    membershid  groupid  person_nbr_x  person_nbr_y  \\\n",
       "0         200001   4456.162497      100   2748.280106   2748.280106   \n",
       "1         200002   4456.162497      100   3983.633278   3983.633278   \n",
       "2         200003   4456.162497      100   5918.043203   5918.043203   \n",
       "3         200004   4456.162497      100   5882.418134   5882.418134   \n",
       "4         200005   4456.162497      100   3519.095855   3519.095855   \n",
       "...          ...           ...      ...           ...           ...   \n",
       "84006     284007  61967.640577      108   6406.791285   6406.791285   \n",
       "84007     284008  61967.640577      108   5736.801838   5736.801838   \n",
       "84008     284009  61967.640577      108   7613.994822   7613.994822   \n",
       "84009     284010  61967.640577      108   8530.577571   8530.577571   \n",
       "84010     284011  61967.640577      108   2140.830791   2140.830791   \n",
       "\n",
       "      Primary_Phone_NBR Phone2_NBR Phone3_NBR  \n",
       "0                     C          O          C  \n",
       "1                     C          O          C  \n",
       "2                     C          O          C  \n",
       "3                     C          O          C  \n",
       "4                     C          O          C  \n",
       "...                 ...        ...        ...  \n",
       "84006                 C          C          C  \n",
       "84007                 C          C          C  \n",
       "84008                 C          C          C  \n",
       "84009                 C          C          C  \n",
       "84010                 C          C          C  \n",
       "\n",
       "[84011 rows x 8 columns]"
      ]
     },
     "execution_count": 48,
     "metadata": {},
     "output_type": "execute_result"
    }
   ],
   "source": [
    "ddd_p_add_df2_merge"
   ]
  },
  {
   "cell_type": "code",
   "execution_count": null,
   "id": "ca321b12",
   "metadata": {},
   "outputs": [],
   "source": [
    "#basic checks for ddd_p_add_df2_merge"
   ]
  },
  {
   "cell_type": "code",
   "execution_count": null,
   "id": "38e25f4f",
   "metadata": {},
   "outputs": [],
   "source": [
    "ddd_p_add_df2_merge.columns"
   ]
  },
  {
   "cell_type": "code",
   "execution_count": null,
   "id": "82b20016",
   "metadata": {},
   "outputs": [],
   "source": [
    "ddd_p_add_df2_merge.head()"
   ]
  },
  {
   "cell_type": "code",
   "execution_count": null,
   "id": "a46a4281",
   "metadata": {},
   "outputs": [],
   "source": [
    "ddd_p_add_df2_merge.tail()"
   ]
  },
  {
   "cell_type": "code",
   "execution_count": null,
   "id": "e931a2bd",
   "metadata": {},
   "outputs": [],
   "source": [
    "ddd_p_add_df2_merge.columns"
   ]
  },
  {
   "cell_type": "code",
   "execution_count": null,
   "id": "115f3abd",
   "metadata": {},
   "outputs": [],
   "source": [
    "#remove same column person nmber_y"
   ]
  },
  {
   "cell_type": "code",
   "execution_count": 49,
   "id": "5ce7ec03",
   "metadata": {},
   "outputs": [],
   "source": [
    "ddd_p_add_df2_merge_f=ddd_p_add_df2_merge[['patientid', 'membershid', 'groupid', 'person_nbr_x', \n",
    "       'Primary_Phone_NBR', 'Phone2_NBR', 'Phone3_NBR']]"
   ]
  },
  {
   "cell_type": "code",
   "execution_count": null,
   "id": "9cfb5471",
   "metadata": {},
   "outputs": [],
   "source": [
    "ddd_p_add_df2_merge_f"
   ]
  },
  {
   "cell_type": "code",
   "execution_count": null,
   "id": "8fb75196",
   "metadata": {},
   "outputs": [],
   "source": [
    "#import ddd_flag file"
   ]
  },
  {
   "cell_type": "code",
   "execution_count": null,
   "id": "c9fafe44",
   "metadata": {},
   "outputs": [],
   "source": [
    "ddd_flag=pd.read_excel(\"Downloads\\Insurance_Customers.xlsx\",sheet_name=\"DDD_Flag\")"
   ]
  },
  {
   "cell_type": "code",
   "execution_count": null,
   "id": "29fdb0be",
   "metadata": {},
   "outputs": [],
   "source": [
    "ddd_flag"
   ]
  },
  {
   "cell_type": "code",
   "execution_count": null,
   "id": "d247e62e",
   "metadata": {},
   "outputs": [],
   "source": [
    "#join operation for ddd_p_add_df2_merge and ddd_flag(left join)"
   ]
  },
  {
   "cell_type": "code",
   "execution_count": null,
   "id": "bf698012",
   "metadata": {},
   "outputs": [],
   "source": [
    "ddd_p_add_df2_merge_ff=ddd_p_add_df2_merge_f.merge(ddd_flag,how='left',on='groupid')"
   ]
  },
  {
   "cell_type": "code",
   "execution_count": null,
   "id": "c27c67f2",
   "metadata": {},
   "outputs": [],
   "source": [
    "ddd_p_add_df2_merge_ff"
   ]
  },
  {
   "cell_type": "code",
   "execution_count": null,
   "id": "e4ec1ce6",
   "metadata": {
    "scrolled": true
   },
   "outputs": [],
   "source": [
    "ddd_p_add_df2_merge_ff.columns"
   ]
  },
  {
   "cell_type": "code",
   "execution_count": null,
   "id": "1e3c5134",
   "metadata": {},
   "outputs": [],
   "source": [
    "#remove groupid column"
   ]
  },
  {
   "cell_type": "code",
   "execution_count": null,
   "id": "33e624e6",
   "metadata": {},
   "outputs": [],
   "source": [
    "ddd_p_add_df2_merge_ff_7=ddd_p_add_df2_merge_ff[['patientid', 'membershid', 'person_nbr_x',\n",
    "       'Primary_Phone_NBR', 'Phone2_NBR', 'Phone3_NBR', 'Flag']]\n",
    "      "
   ]
  },
  {
   "cell_type": "code",
   "execution_count": null,
   "id": "d08e1216",
   "metadata": {},
   "outputs": [],
   "source": [
    "ddd_p_add_df2_merge_ff_7"
   ]
  },
  {
   "cell_type": "code",
   "execution_count": null,
   "id": "119eeae0",
   "metadata": {},
   "outputs": [],
   "source": [
    "ddd_p_add_df2_merge_ff_7.columns"
   ]
  },
  {
   "cell_type": "code",
   "execution_count": null,
   "id": "e539e496",
   "metadata": {},
   "outputs": [],
   "source": [
    "#rename flag into groupid"
   ]
  },
  {
   "cell_type": "code",
   "execution_count": null,
   "id": "398dfcb5",
   "metadata": {},
   "outputs": [],
   "source": [
    "ddd_p_add_df2_merge_ff_7.columns=['patientid', 'membershid', 'person_nbr_x', 'Primary_Phone_NBR',\n",
    "       'Phone2_NBR', 'Phone3_NBR', 'groupid']"
   ]
  },
  {
   "cell_type": "code",
   "execution_count": null,
   "id": "8fab006b",
   "metadata": {},
   "outputs": [],
   "source": [
    "ddd_p_add_df2_merge_ff_7"
   ]
  },
  {
   "cell_type": "code",
   "execution_count": null,
   "id": "2629b6f6",
   "metadata": {},
   "outputs": [],
   "source": [
    "ddd_p_add_df2_merge_ff_7.columns"
   ]
  },
  {
   "cell_type": "code",
   "execution_count": null,
   "id": "c2702ad3",
   "metadata": {},
   "outputs": [],
   "source": [
    "#add cellflag empty column"
   ]
  },
  {
   "cell_type": "code",
   "execution_count": null,
   "id": "379db48a",
   "metadata": {},
   "outputs": [],
   "source": [
    "ddd_p_add_df2_merge_ff_7['Cell_Flag']=''"
   ]
  },
  {
   "cell_type": "code",
   "execution_count": null,
   "id": "90b7e22b",
   "metadata": {},
   "outputs": [],
   "source": [
    "ddd_p_add_df2_merge_ff_7"
   ]
  },
  {
   "cell_type": "code",
   "execution_count": null,
   "id": "ff54ecd0",
   "metadata": {},
   "outputs": [],
   "source": [
    "#update cellflag p in use where condition"
   ]
  },
  {
   "cell_type": "code",
   "execution_count": null,
   "id": "f005412b",
   "metadata": {},
   "outputs": [],
   "source": [
    "ddd_p_add_df2_merge_ff_7[\"Cell_Flag\"]=np.where(ddd_p_add_df2_merge_ff_7[\"Primary_Phone_NBR\"]==\"C\",\"P\", ddd_p_add_df2_merge_ff_7[\"Cell_Flag\"])"
   ]
  },
  {
   "cell_type": "code",
   "execution_count": null,
   "id": "ff93ca4c",
   "metadata": {},
   "outputs": [],
   "source": [
    "ddd_p_add_df2_merge_ff_7.Cell_Flag.unique()"
   ]
  },
  {
   "cell_type": "code",
   "execution_count": null,
   "id": "faa01bad",
   "metadata": {},
   "outputs": [],
   "source": [
    "ddd_p_add_df2_merge_ff_7.Cell_Flag.value_counts()"
   ]
  },
  {
   "cell_type": "code",
   "execution_count": null,
   "id": "6408b4a4",
   "metadata": {},
   "outputs": [],
   "source": [
    "# -----updating S flag, wher priman!=c pr2=c \n",
    "\n",
    "ddd_p_add_df2_merge_ff_7[\"Cell_Flag\"]=np.where((ddd_p_add_df2_merge_ff_7[\"Primary_Phone_NBR\"]!=\"C\") & (ddd_p_add_df2_merge_ff_7[\"Phone2_NBR\"]==\"C\"),\"S\",\n",
    "                                      ddd_p_add_df2_merge_ff_7[\"Cell_Flag\"])\n",
    "                                     "
   ]
  },
  {
   "cell_type": "code",
   "execution_count": null,
   "id": "1235b385",
   "metadata": {},
   "outputs": [],
   "source": [
    "ddd_p_add_df2_merge_ff_7.Cell_Flag.unique()"
   ]
  },
  {
   "cell_type": "code",
   "execution_count": null,
   "id": "971be560",
   "metadata": {},
   "outputs": [],
   "source": [
    "ddd_p_add_df2_merge_ff_7.Cell_Flag.value_counts()"
   ]
  },
  {
   "cell_type": "code",
   "execution_count": null,
   "id": "a6550023",
   "metadata": {},
   "outputs": [],
   "source": [
    "# -----updating S flag, wher priman!=c , pr3=c\n",
    "\n",
    "ddd_p_add_df2_merge_ff_7[\"Cell_Flag\"]=np.where((ddd_p_add_df2_merge_ff_7[\"Primary_Phone_NBR\"]!=\"C\") &(ddd_p_add_df2_merge_ff_7[\"Phone3_NBR\"]==\"C\"),\n",
    "                                      \"S\",ddd_p_add_df2_merge_ff_7[\"Cell_Flag\"])\n",
    "                                     "
   ]
  },
  {
   "cell_type": "code",
   "execution_count": null,
   "id": "b47aae22",
   "metadata": {},
   "outputs": [],
   "source": [
    "ddd_p_add_df2_merge_ff_7.Cell_Flag.value_counts()"
   ]
  },
  {
   "cell_type": "code",
   "execution_count": null,
   "id": "ee5d50db",
   "metadata": {},
   "outputs": [],
   "source": [
    "# -----updating N flag, wher priman!=c pr2!=c or pr3!=c\n",
    "\n",
    "ddd_p_add_df2_merge_ff_7[\"Cell_Flag\"]=np.where((ddd_p_add_df2_merge_ff_7[\"Primary_Phone_NBR\"]!=\"C\") &(ddd_p_add_df2_merge_ff_7[\"Phone2_NBR\"]!=\"C\"),\n",
    "                                      \"N\",ddd_p_add_df2_merge_ff_7[\"Cell_Flag\"])\n",
    "                                     \n",
    "# -----updating N flag, wher priman!=c pr2=c or pr3=c\n",
    "ddd_p_add_df2_merge_ff_7[\"Cell_Flag\"]=np.where((ddd_p_add_df2_merge_ff_7[\"Primary_Phone_NBR\"]!=\"C\") &(ddd_p_add_df2_merge_ff_7[\"Phone3_NBR\"]!=\"C\"),\n",
    "                                      \"N\",ddd_p_add_df2_merge_ff_7[\"Cell_Flag\"])\n",
    "                                     \n"
   ]
  },
  {
   "cell_type": "code",
   "execution_count": null,
   "id": "c8dada0b",
   "metadata": {},
   "outputs": [],
   "source": [
    "ddd_p_add_df2_merge_ff_7.Cell_Flag.unique()"
   ]
  },
  {
   "cell_type": "code",
   "execution_count": null,
   "id": "7e1a2a5d",
   "metadata": {},
   "outputs": [],
   "source": [
    "ddd_p_add_df2_merge_ff_7.Cell_Flag.value_counts()"
   ]
  },
  {
   "cell_type": "code",
   "execution_count": null,
   "id": "50441b5c",
   "metadata": {},
   "outputs": [],
   "source": [
    "#add flag colum ,cellflag=p,flag=Total BBB patients'p'and cellflag=s,flag=Total BBB patients's'andcellflag=N,flag=Total BBB patients'N'"
   ]
  },
  {
   "cell_type": "code",
   "execution_count": null,
   "id": "0a7ec145",
   "metadata": {},
   "outputs": [],
   "source": [
    "ddd_p_add_df2_merge_ff_7['Flag']=\"Total BBB patients\""
   ]
  },
  {
   "cell_type": "code",
   "execution_count": null,
   "id": "30e2a772",
   "metadata": {},
   "outputs": [],
   "source": [
    "#this method only flag value =\"Total BBB patients \"\n",
    "ddd_p_add_df2_merge_ff_7_P=ddd_p_add_df2_merge_ff_7[ddd_p_add_df2_merge_ff_7.Cell_Flag==\"P\"]\n",
    "ddd_p_add_df2_merge_ff_7_S=ddd_p_add_df2_merge_ff_7[ddd_p_add_df2_merge_ff_7.Cell_Flag==\"S\"]\n",
    "ddd_p_add_df2_merge_ff_7_N=ddd_p_add_df2_merge_ff_7[ddd_p_add_df2_merge_ff_7.Cell_Flag==\"N\"]"
   ]
  },
  {
   "cell_type": "code",
   "execution_count": null,
   "id": "6324ea32",
   "metadata": {},
   "outputs": [],
   "source": [
    "ddd_p_add_df2_merge_ff_7_P[\"Flag\"]=\"Total BBB patients with cell flag P\"\n",
    "ddd_p_add_df2_merge_ff_7_S[\"Flag\"]=\"Total BBB patients with cell flag S\"\n",
    "ddd_p_add_df2_merge_ff_7_N[\"Flag\"]=\"Total BBB patients with cell flag N\""
   ]
  },
  {
   "cell_type": "code",
   "execution_count": null,
   "id": "4c176517",
   "metadata": {},
   "outputs": [],
   "source": [
    "# bbb_p_add_merge, bbb_p_add_merge_P,bbb_p_add_merge_S,bbb_p_add_merge_N"
   ]
  },
  {
   "cell_type": "code",
   "execution_count": null,
   "id": "a6e4b64a",
   "metadata": {},
   "outputs": [],
   "source": [
    "ddd_p_add_df2_merge_ff_7_sm=ddd_p_add_df2_merge_ff_7.groupby([\"Flag\"])[\"patientid\"].count()"
   ]
  },
  {
   "cell_type": "code",
   "execution_count": null,
   "id": "df793482",
   "metadata": {},
   "outputs": [],
   "source": [
    "ddd_p_add_df2_merge_ff_7_sm"
   ]
  },
  {
   "cell_type": "code",
   "execution_count": null,
   "id": "6bab1f31",
   "metadata": {},
   "outputs": [],
   "source": [
    "ddd_p_add_df2_merge_ff_7_P_sm=ddd_p_add_df2_merge_ff_7_P.groupby([\"Flag\"])[\"patientid\"].count()\n",
    "ddd_p_add_df2_merge_ff_7_P_sm_ndf=pd.DataFrame(ddd_p_add_df2_merge_ff_7_P_sm)\n",
    "ddd_p_add_df2_merge_ff_7_P_sm_ndf.reset_index(inplace=True)"
   ]
  },
  {
   "cell_type": "code",
   "execution_count": null,
   "id": "24eb3938",
   "metadata": {},
   "outputs": [],
   "source": [
    "ddd_p_add_df2_merge_ff_7_P_sm_ndf"
   ]
  },
  {
   "cell_type": "code",
   "execution_count": null,
   "id": "02b70bfd",
   "metadata": {},
   "outputs": [],
   "source": [
    "ddd_p_add_df2_merge_ff_7_S_sm=ddd_p_add_df2_merge_ff_7_S.groupby([\"Flag\"])[\"patientid\"].count()\n",
    "ddd_p_add_df2_merge_ff_7_S_sm_ndf=pd.DataFrame(ddd_p_add_df2_merge_ff_7_S_sm)\n",
    "ddd_p_add_df2_merge_ff_7_S_sm_ndf.reset_index(inplace=True)"
   ]
  },
  {
   "cell_type": "code",
   "execution_count": null,
   "id": "0e086426",
   "metadata": {},
   "outputs": [],
   "source": [
    "ddd_p_add_df2_merge_ff_7_S_sm_ndf"
   ]
  },
  {
   "cell_type": "code",
   "execution_count": null,
   "id": "ee5b6dc0",
   "metadata": {},
   "outputs": [],
   "source": [
    "ddd_p_add_df2_merge_ff_7_N_sm=ddd_p_add_df2_merge_ff_7_N.groupby([\"Flag\"])[\"patientid\"].count()\n",
    "ddd_p_add_df2_merge_ff_7_N_sm_ndf=pd.DataFrame(ddd_p_add_df2_merge_ff_7_N_sm)\n",
    "ddd_p_add_df2_merge_ff_7_N_sm_ndf.reset_index(inplace=True)"
   ]
  },
  {
   "cell_type": "code",
   "execution_count": null,
   "id": "ee8ea0e7",
   "metadata": {},
   "outputs": [],
   "source": [
    "ddd_p_add_df2_merge_ff_7_N_sm_ndf"
   ]
  },
  {
   "cell_type": "code",
   "execution_count": null,
   "id": "53e8ac8a",
   "metadata": {},
   "outputs": [],
   "source": [
    "ddd_p_add_df2_merge_ff_7_sm_ndf=pd.DataFrame(ddd_p_add_df2_merge_ff_7_sm)\n",
    "ddd_p_add_df2_merge_ff_7_sm_ndf.columns\n",
    "\n",
    "ddd_p_add_df2_merge_ff_7_sm_ndf.reset_index(inplace=True)\n",
    "ddd_p_add_df2_merge_ff_7_sm_ndf"
   ]
  },
  {
   "cell_type": "code",
   "execution_count": null,
   "id": "258d3bdc",
   "metadata": {},
   "outputs": [],
   "source": [
    "# ---append---\n",
    "\n",
    "# bbb_p_add_merge_N_sm_ndf\n",
    "final_df3=pd.concat([ddd_p_add_df2_merge_ff_7_sm_ndf,ddd_p_add_df2_merge_ff_7_P_sm_ndf,ddd_p_add_df2_merge_ff_7_S_sm_ndf,ddd_p_add_df2_merge_ff_7_N_sm_ndf],ignore_index=True, axis=0)"
   ]
  },
  {
   "cell_type": "code",
   "execution_count": null,
   "id": "50796000",
   "metadata": {},
   "outputs": [],
   "source": [
    "final_df3.columns=[\"Flag\",\"Count\"]"
   ]
  },
  {
   "cell_type": "code",
   "execution_count": null,
   "id": "dec6bda7",
   "metadata": {},
   "outputs": [],
   "source": [
    "from datetime import date\n",
    "today_date=date.today()\n",
    "print(today_date)"
   ]
  },
  {
   "cell_type": "code",
   "execution_count": null,
   "id": "d3acea3f",
   "metadata": {},
   "outputs": [],
   "source": [
    "from datetime import datetime\n",
    "time=datetime.now().strftime('%H:%M:%S')\n",
    "print(time)"
   ]
  },
  {
   "cell_type": "code",
   "execution_count": null,
   "id": "7ac496a0",
   "metadata": {},
   "outputs": [],
   "source": [
    "final_df3['Date']=today_date"
   ]
  },
  {
   "cell_type": "code",
   "execution_count": null,
   "id": "5d1fd9d3",
   "metadata": {},
   "outputs": [],
   "source": [
    "final_df3['Time']=time"
   ]
  },
  {
   "cell_type": "code",
   "execution_count": null,
   "id": "eea29052",
   "metadata": {},
   "outputs": [],
   "source": [
    "final_df3"
   ]
  },
  {
   "cell_type": "code",
   "execution_count": null,
   "id": "d86ead34",
   "metadata": {},
   "outputs": [],
   "source": [
    "final_output=pd.concat([final_df,final_df1,final_df2,final_df3],ignore_index=True, axis=0)"
   ]
  }
 ],
 "metadata": {
  "kernelspec": {
   "display_name": "Python 3 (ipykernel)",
   "language": "python",
   "name": "python3"
  },
  "language_info": {
   "codemirror_mode": {
    "name": "ipython",
    "version": 3
   },
   "file_extension": ".py",
   "mimetype": "text/x-python",
   "name": "python",
   "nbconvert_exporter": "python",
   "pygments_lexer": "ipython3",
   "version": "3.10.9"
  }
 },
 "nbformat": 4,
 "nbformat_minor": 5
}
